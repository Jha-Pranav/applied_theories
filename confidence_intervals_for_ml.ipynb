{
 "cells": [
  {
   "cell_type": "raw",
   "id": "3312ee71-e53e-4660-a5f3-10d12c01c843",
   "metadata": {},
   "source": [
    "# https://sebastianraschka.com/blog/2022/confidence-intervals-for-ml.html\n"
   ]
  },
  {
   "cell_type": "markdown",
   "id": "b93b832f-136c-4b28-b420-5e09172bdc2a",
   "metadata": {},
   "source": [
    "When evaluating machine learning models, we typically have to work around many constraints, including limited data, independence violations, and sampling biases. Confidence intervals are no silver bullet, but at the very least, they can offer an additional glimpse into the uncertainty of the reported accuracy and performance of a model."
   ]
  },
  {
   "cell_type": "code",
   "execution_count": null,
   "id": "21e45b0c-afe3-48bb-8f73-02a2298c93aa",
   "metadata": {},
   "outputs": [],
   "source": []
  }
 ],
 "metadata": {
  "kernelspec": {
   "display_name": "Python 3 (ipykernel)",
   "language": "python",
   "name": "python3"
  },
  "language_info": {
   "codemirror_mode": {
    "name": "ipython",
    "version": 3
   },
   "file_extension": ".py",
   "mimetype": "text/x-python",
   "name": "python",
   "nbconvert_exporter": "python",
   "pygments_lexer": "ipython3",
   "version": "3.11.6"
  }
 },
 "nbformat": 4,
 "nbformat_minor": 5
}
