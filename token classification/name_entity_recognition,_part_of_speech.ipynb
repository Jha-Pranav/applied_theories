{
 "cells": [
  {
   "cell_type": "code",
   "execution_count": 1,
   "id": "06b6af77",
   "metadata": {},
   "outputs": [
    {
     "data": {
      "text/plain": [
       "'name entity recognition, part of speech'"
      ]
     },
     "execution_count": 1,
     "metadata": {},
     "output_type": "execute_result"
    }
   ],
   "source": [
    "\"Name Entity Recognition, Part of Speech\".lower()"
   ]
  },
  {
   "cell_type": "code",
   "execution_count": null,
   "id": "7dc9c2c6",
   "metadata": {},
   "outputs": [],
   "source": []
  }
 ],
 "metadata": {
  "kernelspec": {
   "display_name": "applied-deeplearning",
   "language": "python",
   "name": "applied-deeplearning"
  },
  "language_info": {
   "codemirror_mode": {
    "name": "ipython",
    "version": 3
   },
   "file_extension": ".py",
   "mimetype": "text/x-python",
   "name": "python",
   "nbconvert_exporter": "python",
   "pygments_lexer": "ipython3",
   "version": "3.10.9"
  }
 },
 "nbformat": 4,
 "nbformat_minor": 5
}
