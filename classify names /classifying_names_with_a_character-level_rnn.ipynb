{
 "cells": [
  {
   "cell_type": "code",
   "execution_count": 3,
   "id": "c6cf8435",
   "metadata": {},
   "outputs": [],
   "source": [
    "# https://pytorch.org/tutorials/intermediate/char_rnn_classification_tutorial.html"
   ]
  },
  {
   "cell_type": "code",
   "execution_count": 1,
   "id": "664e9d55",
   "metadata": {},
   "outputs": [],
   "source": [
    "from glob import glob\n",
    "from unidecode import unidecode"
   ]
  },
  {
   "cell_type": "code",
   "execution_count": 2,
   "id": "fc0d4cad",
   "metadata": {},
   "outputs": [],
   "source": [
    "path = \"data/names/*.txt\"\n",
    "file_list = glob(path)\n",
    "categories = {}\n",
    "for path in file_list:\n",
    "    with open(path,    mode='r',encoding='utf-8',) as file:\n",
    "        categories[path.split('/')[-1].split('.')[0]] = [unidecode(name.strip().lower()) for name in file.readlines()]\n",
    "    n_categories = len(categories)"
   ]
  },
  {
   "cell_type": "code",
   "execution_count": 3,
   "id": "b4b18cc1",
   "metadata": {},
   "outputs": [],
   "source": [
    "import string\n",
    "all_letters = string.ascii_lowercase\n",
    "n_letters = len(all_letters)\n",
    "\n",
    "char2indx = {l:i for i, l in enumerate(all_letters)}\n",
    "indx2char = {i:l for i, l in char2indx.items()}"
   ]
  },
  {
   "cell_type": "code",
   "execution_count": 6,
   "id": "9522c476",
   "metadata": {},
   "outputs": [
    {
     "ename": "NameError",
     "evalue": "name 'cha' is not defined",
     "output_type": "error",
     "traceback": [
      "\u001b[0;31m---------------------------------------------------------------------------\u001b[0m",
      "\u001b[0;31mNameError\u001b[0m                                 Traceback (most recent call last)",
      "Cell \u001b[0;32mIn[6], line 6\u001b[0m\n\u001b[1;32m      4\u001b[0m char_vector \u001b[38;5;241m=\u001b[39m []\n\u001b[1;32m      5\u001b[0m \u001b[38;5;28;01mfor\u001b[39;00m indx,char \u001b[38;5;129;01min\u001b[39;00m char2indx\u001b[38;5;241m.\u001b[39mitems():\n\u001b[0;32m----> 6\u001b[0m     \u001b[43mcha\u001b[49m\n",
      "\u001b[0;31mNameError\u001b[0m: name 'cha' is not defined"
     ]
    }
   ],
   "source": [
    "# One - hot encoding\n",
    "import torch \n",
    "\n",
    "char_vector = []\n",
    "for indx,char in char2indx.items():\n",
    "    cha\n",
    "    \n",
    "# char_vector = torch.zeros(1,n_letters)\n",
    "# char_vector[]"
   ]
  },
  {
   "cell_type": "code",
   "execution_count": null,
   "id": "a35da9d7",
   "metadata": {},
   "outputs": [],
   "source": [
    "char_vector"
   ]
  },
  {
   "cell_type": "code",
   "execution_count": null,
   "id": "4bafd432",
   "metadata": {},
   "outputs": [],
   "source": [
    "categories"
   ]
  },
  {
   "cell_type": "code",
   "execution_count": null,
   "id": "a9bdbb7f",
   "metadata": {},
   "outputs": [],
   "source": []
  }
 ],
 "metadata": {
  "kernelspec": {
   "display_name": "lab",
   "language": "python",
   "name": "lab"
  },
  "language_info": {
   "codemirror_mode": {
    "name": "ipython",
    "version": 3
   },
   "file_extension": ".py",
   "mimetype": "text/x-python",
   "name": "python",
   "nbconvert_exporter": "python",
   "pygments_lexer": "ipython3",
   "version": "3.10.9"
  }
 },
 "nbformat": 4,
 "nbformat_minor": 5
}
