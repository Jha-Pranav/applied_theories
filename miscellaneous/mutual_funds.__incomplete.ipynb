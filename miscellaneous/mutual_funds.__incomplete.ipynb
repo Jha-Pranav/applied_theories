{
 "cells": [
  {
   "cell_type": "code",
   "execution_count": 4,
   "id": "66ea2791",
   "metadata": {},
   "outputs": [
    {
     "name": "stderr",
     "output_type": "stream",
     "text": [
      "YOUR_MUTUAL_FUND_SYMBOL: No data found, symbol may be delisted\n"
     ]
    },
    {
     "name": "stdout",
     "output_type": "stream",
     "text": [
      "Empty DataFrame\n",
      "Columns: [Open, High, Low, Close, Adj Close, Volume]\n",
      "Index: []\n"
     ]
    }
   ],
   "source": [
    "import yfinance as yf\n",
    "\n",
    "def fetch_mutual_funds_data(symbol):\n",
    "    try:\n",
    "        fund_data = yf.Ticker(symbol)\n",
    "        return fund_data.history(period=\"1y\")\n",
    "    except Exception as err:\n",
    "        print(f\"An error occurred: {err}\")\n",
    "\n",
    "if __name__ == \"__main__\":\n",
    "    fund_symbol = \"YOUR_MUTUAL_FUND_SYMBOL\"  # Replace this with the symbol of the mutual fund you want to fetch data for\n",
    "\n",
    "    mutual_funds_data = fetch_mutual_funds_data(fund_symbol)\n",
    "\n",
    "    if mutual_funds_data is not None:\n",
    "        # Now you can work with the mutual_funds_data DataFrame\n",
    "        print(mutual_funds_data)\n",
    "    else:\n",
    "        print(\"Failed to fetch data for the mutual fund.\")\n"
   ]
  },
  {
   "cell_type": "code",
   "execution_count": 8,
   "id": "efff2acd",
   "metadata": {},
   "outputs": [
    {
     "name": "stdout",
     "output_type": "stream",
     "text": [
      "Company Sector :  Communication Services\n",
      "Price Earnings Ratio :  41.5655\n",
      "Company Beta :  1.21448\n"
     ]
    }
   ],
   "source": [
    "import yfinance as yahooFinance\n",
    "\n",
    "\n",
    "GetFacebookInformation = yahooFinance.Ticker(\"META\")\n",
    "\n",
    "# display Company Sector\n",
    "print(\"Company Sector : \", GetFacebookInformation.info['sector'])\n",
    "\n",
    "# display Price Earnings Ratio\n",
    "print(\"Price Earnings Ratio : \", GetFacebookInformation.info['trailingPE'])\n",
    "\n",
    "# display Company Beta\n",
    "print(\"Company Beta : \", GetFacebookInformation.info['beta'])\n"
   ]
  },
  {
   "cell_type": "code",
   "execution_count": 16,
   "id": "36b2ee0e",
   "metadata": {},
   "outputs": [
    {
     "name": "stdout",
     "output_type": "stream",
     "text": [
      "\r",
      "[*********************100%***********************]  1 of 1 completed"
     ]
    },
    {
     "name": "stderr",
     "output_type": "stream",
     "text": [
      "\n",
      "1 Failed download:\n",
      "['BCG']: Exception('%ticker%: No price data found, symbol may be delisted (1d 2017-01-01 -> 2017-04-30)')\n"
     ]
    },
    {
     "name": "stdout",
     "output_type": "stream",
     "text": [
      "\n"
     ]
    }
   ],
   "source": [
    "from pandas_datareader import data as pdr\n",
    "\n",
    "import yfinance as yf\n",
    "yf.pdr_override() # <== that's all it takes :-)\n",
    "\n",
    "# download dataframe\n",
    "data = pdr.get_data_yahoo(\"bcg\", start=\"2017-01-01\", end=\"2017-04-30\")"
   ]
  },
  {
   "cell_type": "code",
   "execution_count": 14,
   "id": "12757d87",
   "metadata": {},
   "outputs": [
    {
     "data": {
      "text/html": [
       "<div>\n",
       "<style scoped>\n",
       "    .dataframe tbody tr th:only-of-type {\n",
       "        vertical-align: middle;\n",
       "    }\n",
       "\n",
       "    .dataframe tbody tr th {\n",
       "        vertical-align: top;\n",
       "    }\n",
       "\n",
       "    .dataframe thead th {\n",
       "        text-align: right;\n",
       "    }\n",
       "</style>\n",
       "<table border=\"1\" class=\"dataframe\">\n",
       "  <thead>\n",
       "    <tr style=\"text-align: right;\">\n",
       "      <th></th>\n",
       "      <th>Open</th>\n",
       "      <th>High</th>\n",
       "      <th>Low</th>\n",
       "      <th>Close</th>\n",
       "      <th>Adj Close</th>\n",
       "      <th>Volume</th>\n",
       "    </tr>\n",
       "    <tr>\n",
       "      <th>Date</th>\n",
       "      <th></th>\n",
       "      <th></th>\n",
       "      <th></th>\n",
       "      <th></th>\n",
       "      <th></th>\n",
       "      <th></th>\n",
       "    </tr>\n",
       "  </thead>\n",
       "  <tbody>\n",
       "    <tr>\n",
       "      <th>2017-01-03</th>\n",
       "      <td>225.039993</td>\n",
       "      <td>225.830002</td>\n",
       "      <td>223.880005</td>\n",
       "      <td>225.240005</td>\n",
       "      <td>201.337357</td>\n",
       "      <td>91366500</td>\n",
       "    </tr>\n",
       "    <tr>\n",
       "      <th>2017-01-04</th>\n",
       "      <td>225.619995</td>\n",
       "      <td>226.750000</td>\n",
       "      <td>225.610001</td>\n",
       "      <td>226.580002</td>\n",
       "      <td>202.535172</td>\n",
       "      <td>78744400</td>\n",
       "    </tr>\n",
       "    <tr>\n",
       "      <th>2017-01-05</th>\n",
       "      <td>226.270004</td>\n",
       "      <td>226.580002</td>\n",
       "      <td>225.479996</td>\n",
       "      <td>226.399994</td>\n",
       "      <td>202.374298</td>\n",
       "      <td>78379000</td>\n",
       "    </tr>\n",
       "    <tr>\n",
       "      <th>2017-01-06</th>\n",
       "      <td>226.529999</td>\n",
       "      <td>227.750000</td>\n",
       "      <td>225.899994</td>\n",
       "      <td>227.210007</td>\n",
       "      <td>203.098343</td>\n",
       "      <td>71559900</td>\n",
       "    </tr>\n",
       "    <tr>\n",
       "      <th>2017-01-09</th>\n",
       "      <td>226.910004</td>\n",
       "      <td>227.070007</td>\n",
       "      <td>226.419998</td>\n",
       "      <td>226.460007</td>\n",
       "      <td>202.427902</td>\n",
       "      <td>46939700</td>\n",
       "    </tr>\n",
       "    <tr>\n",
       "      <th>...</th>\n",
       "      <td>...</td>\n",
       "      <td>...</td>\n",
       "      <td>...</td>\n",
       "      <td>...</td>\n",
       "      <td>...</td>\n",
       "      <td>...</td>\n",
       "    </tr>\n",
       "    <tr>\n",
       "      <th>2017-04-24</th>\n",
       "      <td>237.179993</td>\n",
       "      <td>237.410004</td>\n",
       "      <td>234.559998</td>\n",
       "      <td>237.169998</td>\n",
       "      <td>212.923630</td>\n",
       "      <td>119209900</td>\n",
       "    </tr>\n",
       "    <tr>\n",
       "      <th>2017-04-25</th>\n",
       "      <td>237.910004</td>\n",
       "      <td>238.949997</td>\n",
       "      <td>237.809998</td>\n",
       "      <td>238.550003</td>\n",
       "      <td>214.162582</td>\n",
       "      <td>76698300</td>\n",
       "    </tr>\n",
       "    <tr>\n",
       "      <th>2017-04-26</th>\n",
       "      <td>238.509995</td>\n",
       "      <td>239.529999</td>\n",
       "      <td>238.350006</td>\n",
       "      <td>238.399994</td>\n",
       "      <td>214.027878</td>\n",
       "      <td>84702500</td>\n",
       "    </tr>\n",
       "    <tr>\n",
       "      <th>2017-04-27</th>\n",
       "      <td>238.770004</td>\n",
       "      <td>238.949997</td>\n",
       "      <td>237.979996</td>\n",
       "      <td>238.600006</td>\n",
       "      <td>214.207474</td>\n",
       "      <td>57410300</td>\n",
       "    </tr>\n",
       "    <tr>\n",
       "      <th>2017-04-28</th>\n",
       "      <td>238.899994</td>\n",
       "      <td>238.929993</td>\n",
       "      <td>237.929993</td>\n",
       "      <td>238.080002</td>\n",
       "      <td>213.740631</td>\n",
       "      <td>63532800</td>\n",
       "    </tr>\n",
       "  </tbody>\n",
       "</table>\n",
       "<p>81 rows × 6 columns</p>\n",
       "</div>"
      ],
      "text/plain": [
       "                  Open        High         Low       Close   Adj Close  \\\n",
       "Date                                                                     \n",
       "2017-01-03  225.039993  225.830002  223.880005  225.240005  201.337357   \n",
       "2017-01-04  225.619995  226.750000  225.610001  226.580002  202.535172   \n",
       "2017-01-05  226.270004  226.580002  225.479996  226.399994  202.374298   \n",
       "2017-01-06  226.529999  227.750000  225.899994  227.210007  203.098343   \n",
       "2017-01-09  226.910004  227.070007  226.419998  226.460007  202.427902   \n",
       "...                ...         ...         ...         ...         ...   \n",
       "2017-04-24  237.179993  237.410004  234.559998  237.169998  212.923630   \n",
       "2017-04-25  237.910004  238.949997  237.809998  238.550003  214.162582   \n",
       "2017-04-26  238.509995  239.529999  238.350006  238.399994  214.027878   \n",
       "2017-04-27  238.770004  238.949997  237.979996  238.600006  214.207474   \n",
       "2017-04-28  238.899994  238.929993  237.929993  238.080002  213.740631   \n",
       "\n",
       "               Volume  \n",
       "Date                   \n",
       "2017-01-03   91366500  \n",
       "2017-01-04   78744400  \n",
       "2017-01-05   78379000  \n",
       "2017-01-06   71559900  \n",
       "2017-01-09   46939700  \n",
       "...               ...  \n",
       "2017-04-24  119209900  \n",
       "2017-04-25   76698300  \n",
       "2017-04-26   84702500  \n",
       "2017-04-27   57410300  \n",
       "2017-04-28   63532800  \n",
       "\n",
       "[81 rows x 6 columns]"
      ]
     },
     "execution_count": 14,
     "metadata": {},
     "output_type": "execute_result"
    }
   ],
   "source": [
    "data"
   ]
  },
  {
   "cell_type": "code",
   "execution_count": null,
   "id": "b78ee0fe",
   "metadata": {},
   "outputs": [],
   "source": []
  }
 ],
 "metadata": {
  "kernelspec": {
   "display_name": "lab",
   "language": "python",
   "name": "lab"
  },
  "language_info": {
   "codemirror_mode": {
    "name": "ipython",
    "version": 3
   },
   "file_extension": ".py",
   "mimetype": "text/x-python",
   "name": "python",
   "nbconvert_exporter": "python",
   "pygments_lexer": "ipython3",
   "version": "3.10.9"
  }
 },
 "nbformat": 4,
 "nbformat_minor": 5
}
