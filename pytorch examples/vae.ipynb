{
 "cells": [
  {
   "cell_type": "code",
   "execution_count": 2,
   "id": "63669af0-60a5-460d-9618-035bd7a693d4",
   "metadata": {},
   "outputs": [],
   "source": [
    "import torch\n",
    "import torch.nn as nn\n",
    "from torch.utils.data import DataLoader\n",
    "import torch.nn.functional as F\n",
    "\n",
    "import torchvision\n",
    "import torchvision.datasets as datasets\n",
    "from torchvision.transforms import ToTensor\n",
    "from torchvision.utils import save_image"
   ]
  },
  {
   "cell_type": "code",
   "execution_count": 52,
   "id": "88fc10b4-6aa3-49a1-950a-59f344716396",
   "metadata": {},
   "outputs": [
    {
     "data": {
      "text/plain": [
       "device(type='mps')"
      ]
     },
     "execution_count": 52,
     "metadata": {},
     "output_type": "execute_result"
    }
   ],
   "source": [
    "# set the device\n",
    "device = torch.device('cuda' if torch.cuda.is_available() else 'mps' if torch.backends.mps.is_available() else \"cpu\")\n",
    "device"
   ]
  },
  {
   "cell_type": "code",
   "execution_count": 9,
   "id": "fe980803-e2b4-4e42-b186-ac7d8f379877",
   "metadata": {},
   "outputs": [],
   "source": [
    "## Load Data\n",
    "\n",
    "train_data = datasets.MNIST(root='datasets/',train= True,download=True, transform= ToTensor())\n",
    "\n",
    "\n",
    "test_data = datasets.MNIST(root='datasets/',train= False,download=True, transform= ToTensor())\n",
    "\n",
    "        "
   ]
  },
  {
   "cell_type": "code",
   "execution_count": 34,
   "id": "22974770-0a0a-4385-b286-855b191ec103",
   "metadata": {},
   "outputs": [],
   "source": [
    "# Hyperparameters\n",
    "batch_size = 128\n",
    "epochs = 2\n",
    "\n",
    "image_sz = 28*28\n",
    "hidden_sz = 400\n",
    "latent_sz = 20\n",
    "\n"
   ]
  },
  {
   "cell_type": "code",
   "execution_count": 35,
   "id": "e15e6cba-258f-4a2e-b4ce-06ca953b9fea",
   "metadata": {},
   "outputs": [],
   "source": [
    "train_loader =DataLoader(train_data,batch_size,True,num_workers=4)\n",
    "test_loader =DataLoader(test_data,batch_size,True,num_workers=4)"
   ]
  },
  {
   "cell_type": "code",
   "execution_count": 36,
   "id": "02798128-fabc-4a4c-88ec-ef5d04aa7c88",
   "metadata": {},
   "outputs": [],
   "source": [
    "# Create directory to save the reconstructed and sampled images\n",
    "import os\n",
    "out_directory = 'result'\n",
    "if not os.path.exists(out_directory):\n",
    "    os.makedirs(out_directory)"
   ]
  },
  {
   "cell_type": "code",
   "execution_count": 45,
   "id": "c46e4926-c9fd-4135-baef-2f9e279dfe10",
   "metadata": {},
   "outputs": [],
   "source": [
    "# VAE Model\n",
    "class VAE(nn.Module):\n",
    "    def __init__(self):\n",
    "\n",
    "        super(VAE,self).__init__()\n",
    "\n",
    "        self.fc1 = nn.Linear(image_size,hidden_sz)\n",
    "        self.fc2_mean = nn.Linear(hidden_sz,latent_sz)\n",
    "        self.fc2_logvar = nn.Linear(hidden_sz,latent_sz)\n",
    "\n",
    "        self.fc3 = nn.Linear(latent_sz,hidden_sz)\n",
    "        self.fc4 = nn.Linear(hidden_sz,image_size)\n",
    "\n",
    "    def encode(self,x):\n",
    "        h = F.relu(self.fc1(x))\n",
    "        mu = self.fc2_mean(h)\n",
    "        log_var = self.fc2_logvar(h)\n",
    "\n",
    "        return mu, log_var\n",
    "\n",
    "    def parameterize(self,mu,log_var):\n",
    "        std = torch.exp(log_var/2)\n",
    "        eps = torch.randn_like(std)\n",
    "        return mu + std * eps\n",
    "\n",
    "    def decode(self,z):\n",
    "        h = F.relu(self.fc3(z))\n",
    "        return  F.sigmoid(self.fc4(h))\n",
    "\n",
    "\n",
    "    def forward(self,x):\n",
    "        x = x.view(-1,image_size)\n",
    "        mu,log_var = self.encode(x)\n",
    "        z = self.parameterize(mu,log_var)\n",
    "        reconstructed = self.decode(z)\n",
    "\n",
    "        return reconstructed,mu,log_var\n",
    "        \n",
    "        \n",
    "model = VAE().to(device)\n"
   ]
  },
  {
   "cell_type": "code",
   "execution_count": 51,
   "id": "430c108b-8f69-470a-a076-b05904d7d82f",
   "metadata": {},
   "outputs": [
    {
     "data": {
      "text/plain": [
       "torch.Size([128, 784])"
      ]
     },
     "execution_count": 51,
     "metadata": {},
     "output_type": "execute_result"
    }
   ],
   "source": [
    "## Check output size\n",
    "x = torch.rand(128,1,28,28,device=device)\n",
    "model(x)[0].shape"
   ]
  },
  {
   "cell_type": "code",
   "execution_count": null,
   "id": "5646200c-29f2-4315-bc5e-2df8fdaedcc6",
   "metadata": {},
   "outputs": [],
   "source": [
    "# Define loss \n"
   ]
  }
 ],
 "metadata": {
  "kernelspec": {
   "display_name": "lab",
   "language": "python",
   "name": "lab"
  },
  "language_info": {
   "codemirror_mode": {
    "name": "ipython",
    "version": 3
   },
   "file_extension": ".py",
   "mimetype": "text/x-python",
   "name": "python",
   "nbconvert_exporter": "python",
   "pygments_lexer": "ipython3",
   "version": "3.10.9"
  }
 },
 "nbformat": 4,
 "nbformat_minor": 5
}
