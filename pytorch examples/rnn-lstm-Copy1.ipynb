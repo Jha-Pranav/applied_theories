{
 "cells": [
  {
   "cell_type": "code",
   "execution_count": 1,
   "id": "3974e3dd-4425-4f07-b17a-ee033fa9674f",
   "metadata": {},
   "outputs": [],
   "source": [
    "## Imports\n",
    "import torch\n",
    "import torch.nn as nn\n",
    "import torch.nn.functional as F\n",
    "import torch.optim  as optim\n",
    "from torch.utils.data import DataLoader\n",
    "import torchvision.datasets as datasets\n",
    "from torchvision.transforms import transforms"
   ]
  },
  {
   "cell_type": "code",
   "execution_count": 2,
   "id": "4fcdb95f-b981-4ca0-87c1-a3b749f158b7",
   "metadata": {},
   "outputs": [],
   "source": [
    "# set device\n",
    "device = torch.device('cuda' if torch.cuda.is_available() else 'cpu')"
   ]
  },
  {
   "cell_type": "code",
   "execution_count": 3,
   "id": "b2343ce7-0d1c-4700-bca3-b14a34fb3a3c",
   "metadata": {},
   "outputs": [],
   "source": [
    "# Hyperparameters\n",
    "seq_length = 28\n",
    "input_size= 28\n",
    "num_layers = 2\n",
    "hidden_size = 256\n",
    "num_classes = 10\n",
    "batch = 100\n",
    "num_epoch = 2\n",
    "learning_rate = 0.001"
   ]
  },
  {
   "cell_type": "code",
   "execution_count": 17,
   "id": "d72070c7",
   "metadata": {},
   "outputs": [
    {
     "data": {
      "text/plain": [
       "torch.Size([100, 10])"
      ]
     },
     "execution_count": 17,
     "metadata": {},
     "output_type": "execute_result"
    }
   ],
   "source": [
    "torch.rand(100,28,10)[:,-1,:].shape"
   ]
  },
  {
   "cell_type": "code",
   "execution_count": 4,
   "id": "93e27fa9-8c71-4035-9c57-ac5d0a4bfa29",
   "metadata": {},
   "outputs": [],
   "source": [
    "## Create Fully connected network\n",
    "\n",
    "class RNN(nn.Module):\n",
    "    def __init__(self,input_size,hidden_size,num_layers,seq_length,num_classes = 10):\n",
    "        super(RNN,self).__init__()\n",
    "        \n",
    "        self.num_layers = num_layers\n",
    "        self.hidden_size = hidden_size\n",
    "        \n",
    "        self.lstm = nn.LSTM(input_size,hidden_size,num_layers,batch_first= True)\n",
    "        \n",
    "        self.fc1 = nn.Linear(hidden_size,num_classes)\n",
    "        \n",
    "    def forward(self,x):\n",
    "        h0 = torch.zeros(self.num_layers,x.size(0),self.hidden_size).to(device) \n",
    "        c0 = torch.zeros(self.num_layers,x.size(0),self.hidden_size).to(device) \n",
    "        out , _ = self.lstm(x,(h0,c0))\n",
    "        # out = out.reshape(out.shape[0],-1)\n",
    "        out = self.fc1(out[:,-1,:])\n",
    "        return out\n",
    "        \n",
    "    "
   ]
  },
  {
   "cell_type": "code",
   "execution_count": 6,
   "id": "9431c074-e7a3-4a5a-8dcd-2367c309f45c",
   "metadata": {},
   "outputs": [],
   "source": [
    "## load Dataset\n",
    "train_dataset = datasets.MNIST(root = 'datasets/',train=True,download=True,transform = transforms.ToTensor())\n",
    "train_loader = DataLoader(dataset=train_dataset,batch_size=batch,shuffle=True)\n",
    "\n",
    "test_dataset = datasets.MNIST(root = 'datasets/',train=False,download=True,transform = transforms.ToTensor())\n",
    "test_loader = DataLoader(dataset=test_dataset,batch_size=batch,shuffle=True)"
   ]
  },
  {
   "cell_type": "code",
   "execution_count": 9,
   "id": "2a0ab146",
   "metadata": {},
   "outputs": [
    {
     "name": "stdout",
     "output_type": "stream",
     "text": [
      "torch.Size([100, 1, 28, 28]) torch.Size([100])\n"
     ]
    }
   ],
   "source": [
    "for data, label in train_loader:\n",
    "    print(data.shape,label.shape)\n",
    "    break"
   ]
  },
  {
   "cell_type": "code",
   "execution_count": 7,
   "id": "86711cc3-81d9-4f48-b639-68f8caec1806",
   "metadata": {},
   "outputs": [],
   "source": [
    "## Initialize model \n",
    "model = RNN(input_size,hidden_size,num_layers,seq_length,num_classes).to(device)"
   ]
  },
  {
   "cell_type": "code",
   "execution_count": 8,
   "id": "b62baa89-f70d-42c3-9078-40be5104e88d",
   "metadata": {},
   "outputs": [],
   "source": [
    "## Losss and Optimizer\n",
    "criterion = nn.CrossEntropyLoss()\n",
    "optimizer = optim.Adam(model.parameters(),lr=learning_rate)"
   ]
  },
  {
   "cell_type": "code",
   "execution_count": 12,
   "id": "22775eed-3034-4166-822e-dd01abfaba00",
   "metadata": {
    "tags": []
   },
   "outputs": [],
   "source": [
    "data = next(iter(train_loader))"
   ]
  },
  {
   "cell_type": "code",
   "execution_count": 29,
   "id": "ced5c978-0a51-43b2-bcd6-449a511a64a4",
   "metadata": {
    "tags": []
   },
   "outputs": [],
   "source": [
    "out, _ = nn.LSTM(28,256,2,batch_first= True)(data[0].squeeze(1))"
   ]
  },
  {
   "cell_type": "code",
   "execution_count": 38,
   "id": "b5b67959-79a6-4cf9-8be9-d56e93b35650",
   "metadata": {
    "tags": []
   },
   "outputs": [
    {
     "data": {
      "text/plain": [
       "torch.Size([2, 100, 256])"
      ]
     },
     "execution_count": 38,
     "metadata": {},
     "output_type": "execute_result"
    }
   ],
   "source": [
    "rnn = nn.LSTM(10, 20, 2)\n",
    "input = torch.randn(5, 3, 10)\n",
    "h0 = torch.randn(2, 3, 20)\n",
    "c0 = torch.randn(2, 3, 20)\n",
    "output, (hn, cn) = rnn(input, (h0, c0))"
   ]
  },
  {
   "cell_type": "code",
   "execution_count": 8,
   "id": "5bae7e6b-3aa6-44d3-a39c-61abfd7bc6fc",
   "metadata": {
    "tags": []
   },
   "outputs": [
    {
     "data": {
      "text/plain": [
       "torch.Size([100, 3, 28, 28])"
      ]
     },
     "execution_count": 8,
     "metadata": {},
     "output_type": "execute_result"
    }
   ],
   "source": [
    "import torch \n",
    "torch.rand(100,3,28,28).squeeze(0).shape"
   ]
  },
  {
   "cell_type": "code",
   "execution_count": 10,
   "id": "f9f5edc1-dfd4-4e03-92c7-7eb19abde980",
   "metadata": {},
   "outputs": [
    {
     "name": "stdout",
     "output_type": "stream",
     "text": [
      "CPU times: user 26min 44s, sys: 13min 6s, total: 39min 50s\n",
      "Wall time: 5min 47s\n"
     ]
    }
   ],
   "source": [
    "%%time\n",
    "## Train Network \n",
    "for epoch in range(num_epoch):\n",
    "    for batch_idx, (data,target) in enumerate(train_loader):\n",
    "        # Get data to cuda \n",
    "        data = data.to(device=device).squeeze(1)\n",
    "        target =target.to(device=device)\n",
    "        \n",
    "        # # reshape\n",
    "        # data = data.view(data.shape[0],-1)\n",
    "        \n",
    "        # forward\n",
    "        scores = model(data)\n",
    "        loss = criterion(scores,target)\n",
    "         \n",
    "        # backward\n",
    "        optimizer.zero_grad()\n",
    "        loss.backward()\n",
    "        \n",
    "        # gradient descent\n",
    "        optimizer.step()"
   ]
  },
  {
   "cell_type": "code",
   "execution_count": 11,
   "id": "6f1cb1d2-9211-4722-a4ff-49598935c8fc",
   "metadata": {},
   "outputs": [],
   "source": [
    "# check the accuracy of out trained model \n",
    "def check_accuracy(loader,model):\n",
    "    for data,target in loader:\n",
    "        num_correct = 0\n",
    "        num_sample = 0\n",
    "        model.eval()\n",
    "        with torch.no_grad():\n",
    "            data = data.to(device=device).squeeze(1)\n",
    "            target = target.to(device=device)\n",
    "\n",
    "            # # reshape \n",
    "            # data = data.view(data.shape[0],-1)\n",
    "\n",
    "\n",
    "            scores = model(data)\n",
    "            _, pred = scores.max(1)\n",
    "            # print(list(zip(pred,target)))\n",
    "            num_correct += sum(pred == target)\n",
    "            num_sample  += pred.shape[0]\n",
    "    print(f'Total {num_correct} correct  / out of {num_sample} - accuracy {num_correct/num_sample :.3f} ')\n",
    "    model.train()\n",
    "            \n",
    "            \n",
    "            "
   ]
  },
  {
   "cell_type": "code",
   "execution_count": 12,
   "id": "beaeb0b5-28c4-4d9e-90eb-4c3bda7f43c8",
   "metadata": {},
   "outputs": [
    {
     "name": "stdout",
     "output_type": "stream",
     "text": [
      "Total 99 correct  / out of 100 - accuracy 0.990 \n"
     ]
    }
   ],
   "source": [
    "# on test dataset\n",
    "check_accuracy(test_loader,model)"
   ]
  },
  {
   "cell_type": "code",
   "execution_count": 13,
   "id": "cc0beb2f-db8c-4a0f-867b-ec4ba828f3e5",
   "metadata": {},
   "outputs": [
    {
     "name": "stdout",
     "output_type": "stream",
     "text": [
      "Total 99 correct  / out of 100 - accuracy 0.990 \n"
     ]
    }
   ],
   "source": [
    "# on train datasets\n",
    "check_accuracy(train_loader,model)"
   ]
  },
  {
   "cell_type": "code",
   "execution_count": null,
   "id": "0bc77878-599a-4b69-8ab6-ddab1639034a",
   "metadata": {},
   "outputs": [],
   "source": []
  }
 ],
 "metadata": {
  "kernelspec": {
   "display_name": "lab",
   "language": "python",
   "name": "lab"
  },
  "language_info": {
   "codemirror_mode": {
    "name": "ipython",
    "version": 3
   },
   "file_extension": ".py",
   "mimetype": "text/x-python",
   "name": "python",
   "nbconvert_exporter": "python",
   "pygments_lexer": "ipython3",
   "version": "3.10.9"
  }
 },
 "nbformat": 4,
 "nbformat_minor": 5
}
