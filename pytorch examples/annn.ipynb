{
 "cells": [
  {
   "cell_type": "code",
   "execution_count": 1,
   "id": "3974e3dd-4425-4f07-b17a-ee033fa9674f",
   "metadata": {},
   "outputs": [],
   "source": [
    "## Imports\n",
    "import torch\n",
    "import torch.nn as nn\n",
    "import torch.nn.functional as F\n",
    "import torch.optim  as optim\n",
    "from torch.utils.data import DataLoader\n",
    "import torchvision.datasets as datasets\n",
    "from torchvision.transforms import transforms"
   ]
  },
  {
   "cell_type": "code",
   "execution_count": 2,
   "id": "93e27fa9-8c71-4035-9c57-ac5d0a4bfa29",
   "metadata": {},
   "outputs": [],
   "source": [
    "## Create Fully connected network\n",
    "\n",
    "class NN(nn.Module):\n",
    "    \n",
    "    def __init__(self,input_shape,output_shape):\n",
    "        super(NN,self).__init__()\n",
    "        self.fc1 = nn.Linear(input_shape,50)\n",
    "        self.fc2 = nn.Linear(50,output_shape)\n",
    "        \n",
    "    def forward(self,x):\n",
    "        x = F.relu(self.fc1(x))\n",
    "        x = self.fc2(x)\n",
    "        return x"
   ]
  },
  {
   "cell_type": "code",
   "execution_count": 3,
   "id": "0aea41ef-184c-4eb9-9be7-e25599c56e1b",
   "metadata": {},
   "outputs": [
    {
     "data": {
      "text/plain": [
       "device(type='cuda')"
      ]
     },
     "execution_count": 3,
     "metadata": {},
     "output_type": "execute_result"
    }
   ],
   "source": [
    "# set device\n",
    "device = torch.device('cuda' if torch.cuda.is_available() else 'mps')\n",
    "device"
   ]
  },
  {
   "cell_type": "code",
   "execution_count": 4,
   "id": "715420ae-2ef7-4b12-8a60-ec37fa26443c",
   "metadata": {},
   "outputs": [],
   "source": [
    "# Hyperparameters\n",
    "input_shape = 28*28\n",
    "output_shape = 10\n",
    "batch = 1024\n",
    "num_epoch = 50\n",
    "learning_rate = 2e-3"
   ]
  },
  {
   "cell_type": "code",
   "execution_count": 5,
   "id": "6ef3a80d-e8a9-48e7-81f6-6a582a8bfa5b",
   "metadata": {},
   "outputs": [],
   "source": [
    "## load Dataset\n",
    "train_dataset = datasets.MNIST(root = 'datasets/',train=True,download=True,transform = transforms.ToTensor())\n",
    "train_loader = DataLoader(dataset=train_dataset,batch_size=batch,shuffle=True)\n",
    "\n",
    "test_dataset = datasets.MNIST(root = 'datasets/',train=False,download=True,transform = transforms.ToTensor())\n",
    "test_loader = DataLoader(dataset=test_dataset,batch_size=batch,shuffle=True)"
   ]
  },
  {
   "cell_type": "code",
   "execution_count": 6,
   "id": "86711cc3-81d9-4f48-b639-68f8caec1806",
   "metadata": {},
   "outputs": [],
   "source": [
    "## Initialize model \n",
    "model = NN(input_shape,output_shape).to(device)"
   ]
  },
  {
   "cell_type": "code",
   "execution_count": 7,
   "id": "b62baa89-f70d-42c3-9078-40be5104e88d",
   "metadata": {},
   "outputs": [],
   "source": [
    "## Losss and Optimizer\n",
    "criterion = nn.CrossEntropyLoss()\n",
    "optimizer = optim.Adam(model.parameters(),lr=learning_rate)"
   ]
  },
  {
   "cell_type": "code",
   "execution_count": 8,
   "id": "1ad25a2f-4b16-4e7d-9a8c-c861272e7ab7",
   "metadata": {},
   "outputs": [],
   "source": [
    "data, target = next(iter(train_loader))"
   ]
  },
  {
   "cell_type": "code",
   "execution_count": 9,
   "id": "f9f5edc1-dfd4-4e03-92c7-7eb19abde980",
   "metadata": {},
   "outputs": [
    {
     "name": "stdout",
     "output_type": "stream",
     "text": [
      "0 --> loss 0.8741106820308556\n",
      "1 --> loss 0.3230649995601783\n",
      "2 --> loss 0.2653799514144154\n",
      "3 --> loss 0.23131876476740432\n",
      "4 --> loss 0.20564759409023545\n",
      "5 --> loss 0.1852118436057689\n",
      "6 --> loss 0.1701030988814467\n",
      "7 --> loss 0.1561572253704071\n",
      "8 --> loss 0.1443933475825746\n",
      "9 --> loss 0.13342501349368338\n",
      "10 --> loss 0.12378971695394839\n",
      "11 --> loss 0.11494127812526994\n",
      "12 --> loss 0.10795718040001595\n",
      "13 --> loss 0.10047863007096922\n",
      "14 --> loss 0.09517277385723794\n",
      "15 --> loss 0.08942729859786519\n",
      "16 --> loss 0.0840669334313627\n",
      "17 --> loss 0.07948375701651735\n",
      "18 --> loss 0.07543051678497913\n",
      "19 --> loss 0.07253434988906828\n",
      "20 --> loss 0.06829576876203892\n",
      "21 --> loss 0.06491320529731653\n",
      "22 --> loss 0.061589633509264156\n",
      "23 --> loss 0.05927009627980701\n",
      "24 --> loss 0.05609384084404525\n",
      "25 --> loss 0.054533588557930314\n",
      "26 --> loss 0.05142232276878114\n",
      "27 --> loss 0.04983639003614248\n",
      "28 --> loss 0.04740247509237063\n",
      "29 --> loss 0.04561625875658908\n",
      "30 --> loss 0.043617342204108074\n",
      "31 --> loss 0.04103752632893748\n",
      "32 --> loss 0.039762289878928055\n",
      "33 --> loss 0.038464088940014275\n",
      "34 --> loss 0.03619843734017873\n",
      "35 --> loss 0.03546911026587931\n",
      "36 --> loss 0.033164835708626245\n",
      "37 --> loss 0.03216282862349082\n",
      "38 --> loss 0.03065901186506627\n",
      "39 --> loss 0.029541587772763382\n",
      "40 --> loss 0.028242278702051964\n",
      "41 --> loss 0.02715741337861045\n",
      "42 --> loss 0.026674512426479387\n",
      "43 --> loss 0.024914579213423244\n",
      "44 --> loss 0.023648084125528903\n",
      "45 --> loss 0.02291197836462219\n",
      "46 --> loss 0.022370609517951133\n",
      "47 --> loss 0.021139284848409184\n",
      "48 --> loss 0.02012703297817606\n",
      "49 --> loss 0.01949502826052702\n",
      "CPU times: user 2min 22s, sys: 534 ms, total: 2min 22s\n",
      "Wall time: 1min 57s\n"
     ]
    }
   ],
   "source": [
    "%%time\n",
    "## Train Network \n",
    "for epoch in range(num_epoch):\n",
    "    losses = []\n",
    "    \n",
    "    for batch_idx, (data,target) in enumerate(train_loader):\n",
    "        # Get data to cuda \n",
    "        data = data.to(device=device)\n",
    "        target =target.to(device=device)\n",
    "        \n",
    "        # reshape\n",
    "        data = data.view(data.shape[0],-1)\n",
    "        \n",
    "        # forward\n",
    "        scores = model(data)\n",
    "        loss = criterion(scores,target)\n",
    "        losses.append(loss.item())\n",
    "        \n",
    "        # backward\n",
    "        optimizer.zero_grad()\n",
    "        loss.backward()\n",
    "        \n",
    "        # gradient descent\n",
    "        optimizer.step()\n",
    "        \n",
    "    print(f\"{epoch} --> loss {sum(losses)/len(losses)}\")"
   ]
  },
  {
   "cell_type": "code",
   "execution_count": 10,
   "id": "6f1cb1d2-9211-4722-a4ff-49598935c8fc",
   "metadata": {},
   "outputs": [],
   "source": [
    "# check the accuracy of out trained model \n",
    "def check_accuracy(loader,model):\n",
    "    for data,target in loader:\n",
    "        num_correct = 0\n",
    "        num_sample = 0\n",
    "        model.eval()\n",
    "        with torch.no_grad():\n",
    "            data = data.to(device=device)\n",
    "            target = target.to(device=device)\n",
    "\n",
    "            # reshape \n",
    "            data = data.view(data.shape[0],-1)\n",
    "\n",
    "\n",
    "            scores = model(data)\n",
    "            _, pred = scores.max(1)\n",
    "            # print(list(zip(pred,target)))\n",
    "            num_correct += sum(pred == target)\n",
    "            num_sample  += pred.shape[0]\n",
    "    print(f'Total {num_correct} correct  / out of {num_sample} - accuracy {num_correct/num_sample :.3f} ')\n",
    "\n",
    "  "
   ]
  },
  {
   "cell_type": "code",
   "execution_count": 11,
   "id": "beaeb0b5-28c4-4d9e-90eb-4c3bda7f43c8",
   "metadata": {},
   "outputs": [
    {
     "name": "stdout",
     "output_type": "stream",
     "text": [
      "Total 762 correct  / out of 784 - accuracy 0.972 \n"
     ]
    }
   ],
   "source": [
    "# on test dataset\n",
    "check_accuracy(test_loader,model)"
   ]
  },
  {
   "cell_type": "code",
   "execution_count": 12,
   "id": "cc0beb2f-db8c-4a0f-867b-ec4ba828f3e5",
   "metadata": {},
   "outputs": [
    {
     "name": "stdout",
     "output_type": "stream",
     "text": [
      "Total 607 correct  / out of 608 - accuracy 0.998 \n"
     ]
    }
   ],
   "source": [
    "# on train datasets\n",
    "check_accuracy(train_loader,model)"
   ]
  },
  {
   "cell_type": "code",
   "execution_count": null,
   "id": "0da51258",
   "metadata": {},
   "outputs": [],
   "source": []
  }
 ],
 "metadata": {
  "kernelspec": {
   "display_name": "Python 3 (ipykernel)",
   "language": "python",
   "name": "python3"
  },
  "language_info": {
   "codemirror_mode": {
    "name": "ipython",
    "version": 3
   },
   "file_extension": ".py",
   "mimetype": "text/x-python",
   "name": "python",
   "nbconvert_exporter": "python",
   "pygments_lexer": "ipython3",
   "version": "3.11.6"
  },
  "widgets": {
   "application/vnd.jupyter.widget-state+json": {
    "state": {},
    "version_major": 2,
    "version_minor": 0
   }
  }
 },
 "nbformat": 4,
 "nbformat_minor": 5
}
