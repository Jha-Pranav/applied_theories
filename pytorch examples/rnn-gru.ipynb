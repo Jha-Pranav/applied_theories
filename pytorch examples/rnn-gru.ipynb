{
 "cells": [
  {
   "cell_type": "code",
   "execution_count": 1,
   "id": "3974e3dd-4425-4f07-b17a-ee033fa9674f",
   "metadata": {},
   "outputs": [],
   "source": [
    "## Imports\n",
    "import torch\n",
    "import torch.nn as nn\n",
    "import torch.nn.functional as F\n",
    "import torch.optim  as optim\n",
    "from torch.utils.data import DataLoader\n",
    "import torchvision.datasets as datasets\n",
    "from torchvision.transforms import transforms"
   ]
  },
  {
   "cell_type": "code",
   "execution_count": 2,
   "id": "4fcdb95f-b981-4ca0-87c1-a3b749f158b7",
   "metadata": {},
   "outputs": [],
   "source": [
    "# set device\n",
    "device = torch.device('cuda' if torch.cuda.is_available() else 'mps')"
   ]
  },
  {
   "cell_type": "code",
   "execution_count": 3,
   "id": "b2343ce7-0d1c-4700-bca3-b14a34fb3a3c",
   "metadata": {},
   "outputs": [],
   "source": [
    "# Hyperparameters\n",
    "seq_length = 28\n",
    "input_size= 28\n",
    "num_layers = 2\n",
    "hidden_size = 256\n",
    "num_classes = 10\n",
    "batch = 100\n",
    "num_epoch = 2\n",
    "learning_rate = 0.001"
   ]
  },
  {
   "cell_type": "code",
   "execution_count": 4,
   "id": "93e27fa9-8c71-4035-9c57-ac5d0a4bfa29",
   "metadata": {},
   "outputs": [],
   "source": [
    "## Create Fully connected network\n",
    "\n",
    "class RNN(nn.Module):\n",
    "    def __init__(self,input_size,hidden_size,num_layers,seq_length,num_classes = 10):\n",
    "        super(RNN,self).__init__()\n",
    "        \n",
    "        self.num_layers = num_layers\n",
    "        self.hidden_size = hidden_size\n",
    "        \n",
    "        self.gru = nn.GRU(input_size,hidden_size,num_layers,batch_first= True)\n",
    "        \n",
    "        self.fc1 = nn.Linear(hidden_size* seq_length,num_classes)\n",
    "        \n",
    "    def forward(self,x):\n",
    "        h0 = torch.zeros(self.num_layers,x.size(0),self.hidden_size).to(device) \n",
    "        out , _ = self.gru(x,h0)\n",
    "        out = out.reshape(out.shape[0],-1)\n",
    "        out = self.fc1(out)\n",
    "        return out\n",
    "        \n",
    "    "
   ]
  },
  {
   "cell_type": "code",
   "execution_count": 91,
   "id": "9431c074-e7a3-4a5a-8dcd-2367c309f45c",
   "metadata": {},
   "outputs": [],
   "source": [
    "## load Dataset\n",
    "train_dataset = datasets.MNIST(root = 'datasets/',train=True,download=True,transform = transforms.ToTensor())\n",
    "train_loader = DataLoader(dataset=train_dataset,batch_size=batch,shuffle=True)\n",
    "\n",
    "test_dataset = datasets.MNIST(root = 'datasets/',train=False,download=True,transform = transforms.ToTensor())\n",
    "test_loader = DataLoader(dataset=test_dataset,batch_size=batch,shuffle=True)"
   ]
  },
  {
   "cell_type": "code",
   "execution_count": 92,
   "id": "86711cc3-81d9-4f48-b639-68f8caec1806",
   "metadata": {},
   "outputs": [],
   "source": [
    "## Initialize model \n",
    "model = RNN(input_size,hidden_size,num_layers,seq_length,num_classes).to(device)"
   ]
  },
  {
   "cell_type": "code",
   "execution_count": 93,
   "id": "b62baa89-f70d-42c3-9078-40be5104e88d",
   "metadata": {},
   "outputs": [],
   "source": [
    "## Losss and Optimizer\n",
    "criterion = nn.CrossEntropyLoss()\n",
    "optimizer = optim.Adam(model.parameters(),lr=learning_rate)"
   ]
  },
  {
   "cell_type": "code",
   "execution_count": 94,
   "id": "f9f5edc1-dfd4-4e03-92c7-7eb19abde980",
   "metadata": {},
   "outputs": [
    {
     "name": "stdout",
     "output_type": "stream",
     "text": [
      "CPU times: user 6min 8s, sys: 6min 50s, total: 12min 59s\n",
      "Wall time: 5min 36s\n"
     ]
    }
   ],
   "source": [
    "%%time\n",
    "## Train Network \n",
    "for epoch in range(num_epoch):\n",
    "    for batch_idx, (data,target) in enumerate(train_loader):\n",
    "        # Get data to cuda \n",
    "        data = data.to(device=device).squeeze(1)\n",
    "        target =target.to(device=device)\n",
    "        \n",
    "        # # reshape\n",
    "        # data = data.view(data.shape[0],-1)\n",
    "        \n",
    "        # forward\n",
    "        scores = model(data)\n",
    "        loss = criterion(scores,target)\n",
    "        \n",
    "        # backward\n",
    "        optimizer.zero_grad()\n",
    "        loss.backward()\n",
    "        \n",
    "        # gradient descent\n",
    "        optimizer.step()"
   ]
  },
  {
   "cell_type": "code",
   "execution_count": 95,
   "id": "6f1cb1d2-9211-4722-a4ff-49598935c8fc",
   "metadata": {},
   "outputs": [],
   "source": [
    "# check the accuracy of out trained model \n",
    "def check_accuracy(loader,model):\n",
    "    for data,target in loader:\n",
    "        num_correct = 0\n",
    "        num_sample = 0\n",
    "        model.eval()\n",
    "        with torch.no_grad():\n",
    "            data = data.to(device=device).squeeze(1)\n",
    "            target = target.to(device=device)\n",
    "\n",
    "            # # reshape \n",
    "            # data = data.view(data.shape[0],-1)\n",
    "\n",
    "\n",
    "            scores = model(data)\n",
    "            _, pred = scores.max(1)\n",
    "            # print(list(zip(pred,target)))\n",
    "            num_correct += sum(pred == target)\n",
    "            num_sample  += pred.shape[0]\n",
    "    print(f'Total {num_correct} correct  / out of {num_sample} - accuracy {num_correct/num_sample :.3f} ')\n",
    "    model.train()\n",
    "            \n",
    "            \n",
    "            "
   ]
  },
  {
   "cell_type": "code",
   "execution_count": 96,
   "id": "beaeb0b5-28c4-4d9e-90eb-4c3bda7f43c8",
   "metadata": {},
   "outputs": [
    {
     "name": "stdout",
     "output_type": "stream",
     "text": [
      "Total 97 correct  / out of 100 - accuracy 0.970 \n"
     ]
    }
   ],
   "source": [
    "# on test dataset\n",
    "check_accuracy(test_loader,model)"
   ]
  },
  {
   "cell_type": "code",
   "execution_count": 97,
   "id": "cc0beb2f-db8c-4a0f-867b-ec4ba828f3e5",
   "metadata": {},
   "outputs": [
    {
     "name": "stdout",
     "output_type": "stream",
     "text": [
      "Total 97 correct  / out of 100 - accuracy 0.970 \n"
     ]
    }
   ],
   "source": [
    "# on train datasets\n",
    "check_accuracy(train_loader,model)"
   ]
  },
  {
   "cell_type": "code",
   "execution_count": null,
   "id": "e65432fa-0127-4537-a73e-b67fc450dd84",
   "metadata": {},
   "outputs": [],
   "source": []
  }
 ],
 "metadata": {
  "kernelspec": {
   "display_name": "pytorchenv",
   "language": "python",
   "name": "pytorchenv"
  },
  "language_info": {
   "codemirror_mode": {
    "name": "ipython",
    "version": 3
   },
   "file_extension": ".py",
   "mimetype": "text/x-python",
   "name": "python",
   "nbconvert_exporter": "python",
   "pygments_lexer": "ipython3",
   "version": "3.7.3"
  }
 },
 "nbformat": 4,
 "nbformat_minor": 5
}
