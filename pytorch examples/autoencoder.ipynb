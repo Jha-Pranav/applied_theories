{
 "cells": [
  {
   "cell_type": "code",
   "execution_count": 161,
   "id": "8badd898-2ed0-4dc9-bb42-9d358727cd83",
   "metadata": {},
   "outputs": [],
   "source": [
    "import torch\n",
    "from torch import utils,nn,optim\n",
    "\n",
    "import torchvision as tv\n",
    "from torchvision import datasets, transforms\n",
    "\n",
    "import torchmetrics as tm\n",
    "\n",
    "import lightning.pytorch as pl\n",
    "from lightning.pytorch import callbacks, tuner\n",
    "\n",
    "import matplotlib.pyplot as plt"
   ]
  },
  {
   "cell_type": "code",
   "execution_count": 167,
   "id": "fbca0c36-c817-4fee-97e0-3354eb71eebd",
   "metadata": {},
   "outputs": [],
   "source": [
    "class FashionMNISTDataLoader(pl.LightningDataModule):\n",
    "    def __init__(self,root,batch_size,num_workers):\n",
    "        super(FashionMNISTDataLoader,self).__init__()\n",
    "        self.root = root\n",
    "        self.batch_size = batch_size\n",
    "        self.num_workers = num_workers\n",
    "        \n",
    "        \n",
    "    def prepare_data(self):\n",
    "        datasets.FashionMNIST(root = self.root,train=True,download=True)\n",
    "        datasets.FashionMNIST(root = self.root,train=False,download=True)\n",
    "\n",
    "    def setup(self, stage):\n",
    "        train_dataset = datasets.FashionMNIST(root = self.root,train=True,download=False,transform = transforms.ToTensor())\n",
    "        \n",
    "        # Define the proportions for the split\n",
    "        train_proportion = 0.8  # 80% for training\n",
    "        val_proportion = 0.2  # 20% for validation\n",
    "\n",
    "        # Calculate the sizes of training and validation sets based on the proportions\n",
    "        train_size = int(train_proportion * len(train_dataset))\n",
    "        val_size = len(train_dataset) - train_size\n",
    "        \n",
    "        # Use random_split to split the dataset\n",
    "        self.train_dataset, self.val_dataset = utils.data.random_split(train_dataset, [train_size, val_size])\n",
    "        \n",
    "\n",
    "    def train_dataloader(self):\n",
    "        return utils.data.DataLoader(dataset=self.train_dataset,batch_size=self.batch_size,shuffle=True,num_workers=self.num_workers,pin_memory=True)\n",
    "    \n",
    "    def val_dataloader(self):\n",
    "        return utils.data.DataLoader(dataset=self.val_dataset,batch_size=self.batch_size,shuffle=False,num_workers=self.num_workers,pin_memory=True)\n",
    "    \n",
    "    def test_dataloader(self):\n",
    "        test_dataset =  datasets.MNIST(root = self.root,train=False,download=False,transform = transforms.ToTensor())\n",
    "        return utils.data.DataLoader(dataset=test_dataset,batch_size=self.batch_size,shuffle=False,num_workers=self.num_workers,pin_memory=True)\n",
    "   "
   ]
  },
  {
   "cell_type": "code",
   "execution_count": 168,
   "id": "16cbd3cb-b283-49c5-8a64-aa84eac5f3fd",
   "metadata": {},
   "outputs": [],
   "source": [
    "class Autoencoder(pl.LightningModule):\n",
    "    \n",
    "    def __init__(self,input_size,hidden_size,latent_size,output_size,lr=1e-3):\n",
    "        super(Autoencoder,self).__init__()\n",
    "        \n",
    "        self.encoder = nn.Sequential(nn.Linear(input_size,hidden_size),nn.LeakyReLU(),nn.Linear(hidden_size,latent_size))\n",
    "        self.decoder = nn.Sequential(nn.Linear(latent_size,hidden_size),nn.LeakyReLU(),nn.Linear(hidden_size,input_size),nn.Sigmoid())\n",
    "        \n",
    "        self.learning_rate = lr\n",
    "        \n",
    "        \n",
    "    def forward(self,x):\n",
    "        z = self.encoder(x)\n",
    "        return self.decoder(z)\n",
    "    \n",
    "    def training_step(self, batch, batch_idx):\n",
    "        x, _ = batch\n",
    "        loss, x_hat, y = self._common_step(batch,batch_idx)\n",
    "        lr = self.optimizers().param_groups[0]['lr']\n",
    "        \n",
    "        self.log_dict({'train_loss':loss,'learning_rate':lr},prog_bar=True,on_step=False,on_epoch=True)\n",
    "        if batch_idx % 100 == 0:\n",
    "            x = x[:10]\n",
    "            grid = tv.utils.make_grid(x.view(-1,1,28,28))\n",
    "            self.logger.experiment.add_image('mnist_images',grid,self.global_step)\n",
    "        \n",
    "        return loss\n",
    "    \n",
    "    \n",
    "    def validation_step(self, batch, batch_idx):\n",
    "        loss, x_hat, y = self._common_step(batch,batch_idx)\n",
    "        \n",
    "        self.log_dict({'val_loss':loss},prog_bar=True,on_step=False,on_epoch=True)\n",
    "        \n",
    "        return loss\n",
    "\n",
    "    def test_step(self, batch, batch_idx):\n",
    "        loss, x_hat, y = self._common_step(batch,batch_idx)\n",
    "        \n",
    "        self.log_dict({'test_loss':loss},prog_bar=True,on_step=False,on_epoch=True)\n",
    "        return loss\n",
    "\n",
    "    def _common_step(self,batch,batch_index):\n",
    "        x, y = batch\n",
    "        x = x.flatten(start_dim=1)\n",
    "        x_hat = self.forward(x)\n",
    "        loss = nn.functional.binary_cross_entropy(x_hat,x)\n",
    "        return loss , x_hat, x\n",
    "    \n",
    "    def configure_optimizers(self):\n",
    "        optimizer = optim.Adam(self.parameters(), lr=self.learning_rate)\n",
    "        scheduler = optim.lr_scheduler.StepLR(optimizer, step_size=5, gamma=0.1)  # Define the scheduler\n",
    "        return {\n",
    "            'optimizer': optimizer,\n",
    "            'lr_scheduler': {\n",
    "                'scheduler': scheduler,\n",
    "                'monitor': 'val_loss',  # Metric to monitor for scheduling the learning rate\n",
    "                'interval': 'epoch',  # Schedule the learning rate every epoch\n",
    "                'frequency': 1  # Adjust the learning rate at every epoch\n",
    "            }\n",
    "        }"
   ]
  },
  {
   "cell_type": "code",
   "execution_count": 169,
   "id": "1a87b59f-607f-449a-838d-f58b5da9a2c6",
   "metadata": {},
   "outputs": [
    {
     "data": {
      "text/plain": [
       "device(type='mps')"
      ]
     },
     "execution_count": 169,
     "metadata": {},
     "output_type": "execute_result"
    }
   ],
   "source": [
    "# Hyperparametersa\n",
    "input_size = 28*28\n",
    "hidden_size = 512\n",
    "latent_size = 2\n",
    "output_size = 10\n",
    "batch = 128\n",
    "num_epoch = 2\n",
    "learning_rate = 1e-3\n",
    "\n",
    "# set the device\n",
    "device = torch.device('cuda' if torch.cuda.is_available() else 'mps' if torch.backends.mps.is_available() else \"cpu\")\n",
    "device"
   ]
  },
  {
   "cell_type": "code",
   "execution_count": 170,
   "id": "9bff27be-7f90-4a9c-b58a-ba3f48a98c26",
   "metadata": {},
   "outputs": [],
   "source": [
    "model = Autoencoder(input_size, hidden_size, latent_size, output_size, lr=learning_rate).to(device)"
   ]
  },
  {
   "cell_type": "code",
   "execution_count": 171,
   "id": "559aef91-0771-4951-8a7d-16e6da13725f",
   "metadata": {},
   "outputs": [],
   "source": [
    "\n",
    "\n",
    "logger = pl.loggers.TensorBoardLogger(save_dir='./tb/mnist', name='autoencoder', version=0.1)\n",
    "profiler = pl.profilers.PyTorchProfiler(\n",
    "    on_trace_ready=torch.profiler.tensorboard_trace_handler('./dashboard/',),\n",
    "    schedule=torch.profiler.schedule(skip_first=10, wait=10, warmup=1, active=2)\n",
    ")\n",
    "\n",
    "checkpoint_callback = pl.callbacks.ModelCheckpoint(dirpath=\"./checkpoints/mnist/autoencoder/version_0.1/\", monitor=\"val_loss\", mode=\"min\", save_top_k=1)\n",
    "\n",
    "\n",
    "\n",
    "dm = FashionMNISTDataLoader(root='./dataset/', batch_size=batch, num_workers=8)"
   ]
  },
  {
   "cell_type": "code",
   "execution_count": 173,
   "id": "0ed7b8cc-5935-4d2a-b027-c885a36da4b7",
   "metadata": {},
   "outputs": [
    {
     "name": "stderr",
     "output_type": "stream",
     "text": [
      "Using 16bit Automatic Mixed Precision (AMP)\n",
      "/Users/pranavjha/anaconda3/lib/python3.10/site-packages/torch/cuda/amp/grad_scaler.py:120: UserWarning:\n",
      "\n",
      "torch.cuda.amp.GradScaler is enabled, but CUDA is not available.  Disabling.\n",
      "\n",
      "GPU available: True (mps), used: True\n",
      "TPU available: False, using: 0 TPU cores\n",
      "IPU available: False, using: 0 IPUs\n",
      "HPU available: False, using: 0 HPUs\n"
     ]
    },
    {
     "name": "stdout",
     "output_type": "stream",
     "text": [
      "Initialize from  \n"
     ]
    },
    {
     "name": "stderr",
     "output_type": "stream",
     "text": [
      "/Users/pranavjha/anaconda3/lib/python3.10/site-packages/lightning/pytorch/callbacks/model_checkpoint.py:615: UserWarning:\n",
      "\n",
      "Checkpoint directory /Users/pranavjha/Library/CloudStorage/GoogleDrive-pranajh7@gmail.com/My Drive/Projects/Swastik/swastik_web/Learning&Experiments/PytorchTutorials/encoder-decoder/checkpoints/mnist/autoencoder/version_0.1 exists and is not empty.\n",
      "\n",
      "/Users/pranavjha/anaconda3/lib/python3.10/site-packages/torch/amp/autocast_mode.py:204: UserWarning:\n",
      "\n",
      "User provided device_type of 'cuda', but CUDA is not available. Disabling\n",
      "\n"
     ]
    },
    {
     "data": {
      "application/vnd.jupyter.widget-view+json": {
       "model_id": "d7189cc1aa014f71917d99bc12904da8",
       "version_major": 2,
       "version_minor": 0
      },
      "text/plain": [
       "Finding best initial lr:   0%|          | 0/100 [00:00<?, ?it/s]"
      ]
     },
     "metadata": {},
     "output_type": "display_data"
    },
    {
     "name": "stderr",
     "output_type": "stream",
     "text": [
      "Trainer was signaled to stop but the required `min_epochs=1` or `min_steps=None` has not been met. Training will continue...\n",
      "`Trainer.fit` stopped: `max_steps=100` reached.\n",
      "Learning rate set to 0.003981071705534969\n",
      "Restoring states from the checkpoint path at /Users/pranavjha/Library/CloudStorage/GoogleDrive-pranajh7@gmail.com/My Drive/Projects/Swastik/swastik_web/Learning&Experiments/PytorchTutorials/encoder-decoder/.lr_find_c7611539-f2c2-425a-8569-92ffd5c1ebb5.ckpt\n",
      "Restored all states from the checkpoint at /Users/pranavjha/Library/CloudStorage/GoogleDrive-pranajh7@gmail.com/My Drive/Projects/Swastik/swastik_web/Learning&Experiments/PytorchTutorials/encoder-decoder/.lr_find_c7611539-f2c2-425a-8569-92ffd5c1ebb5.ckpt\n"
     ]
    }
   ],
   "source": [
    "\n",
    "trainer = pl.Trainer(\n",
    "    # logger=logger,\n",
    "    accelerator='auto',\n",
    "    strategy=\"auto\",\n",
    "    devices=\"auto\",\n",
    "    min_epochs=1,\n",
    "    max_epochs=50,\n",
    "    precision='16-mixed',\n",
    "    enable_model_summary=True,\n",
    "    # profiler=profiler,\n",
    "    callbacks=[callbacks.EarlyStopping('val_loss'),\n",
    "               callbacks.StochasticWeightAveraging(swa_lrs=1e-3),\n",
    "               checkpoint_callback],\n",
    "    enable_checkpointing  = True,\n",
    "    \n",
    "    \n",
    ")\n",
    "\n",
    "ckpt_path=checkpoint_callback.best_model_path\n",
    "print('Initialize from ', ckpt_path)\n",
    "\n",
    "\n",
    "tune = tuner.Tuner(trainer)\n",
    "# batch_size_tuner = tune.scale_batch_size(model, mode=\"binsearch\", datamodule=dm, init_val=128)\n",
    "lr_finder = tune.lr_find(model,dm)"
   ]
  },
  {
   "cell_type": "code",
   "execution_count": 174,
   "id": "c7e8074a-7cd6-4e38-94ef-e38be89ea1ca",
   "metadata": {},
   "outputs": [
    {
     "name": "stderr",
     "output_type": "stream",
     "text": [
      "/var/folders/2c/bnxpy2zd5tg51llb27r91_dw0000gn/T/ipykernel_51958/1847068774.py:3: UserWarning:\n",
      "\n",
      "Matplotlib is currently using module://matplotlib_inline.backend_inline, which is a non-GUI backend, so cannot show the figure.\n",
      "\n"
     ]
    },
    {
     "data": {
      "text/plain": [
       "0.003981071705534969"
      ]
     },
     "execution_count": 174,
     "metadata": {},
     "output_type": "execute_result"
    },
    {
     "data": {
      "image/png": "[encoded data removed]",
      "text/plain": [
       "<Figure size 640x480 with 1 Axes>"
      ]
     },
     "metadata": {},
     "output_type": "display_data"
    }
   ],
   "source": [
    "# Plot with\n",
    "fig = lr_finder.plot(suggest=True)\n",
    "fig.show()\n",
    "\n",
    "# Pick point based on plot, or get suggestion\n",
    "new_lr = lr_finder.suggestion()\n",
    "new_lr\n"
   ]
  },
  {
   "cell_type": "code",
   "execution_count": 175,
   "id": "44069fda-cdd3-40dd-947a-e9e78d657bf7",
   "metadata": {},
   "outputs": [
    {
     "name": "stderr",
     "output_type": "stream",
     "text": [
      "\n",
      "  | Name    | Type       | Params\n",
      "---------------------------------------\n",
      "0 | encoder | Sequential | 402 K \n",
      "1 | decoder | Sequential | 403 K \n",
      "---------------------------------------\n",
      "806 K     Trainable params\n",
      "0         Non-trainable params\n",
      "806 K     Total params\n",
      "3.227     Total estimated model params size (MB)\n"
     ]
    },
    {
     "data": {
      "application/vnd.jupyter.widget-view+json": {
       "model_id": "",
       "version_major": 2,
       "version_minor": 0
      },
      "text/plain": [
       "Sanity Checking: 0it [00:00, ?it/s]"
      ]
     },
     "metadata": {},
     "output_type": "display_data"
    },
    {
     "data": {
      "application/vnd.jupyter.widget-view+json": {
       "model_id": "4591c8984c984e2e8bea7cae431d8bb9",
       "version_major": 2,
       "version_minor": 0
      },
      "text/plain": [
       "Training: 0it [00:00, ?it/s]"
      ]
     },
     "metadata": {},
     "output_type": "display_data"
    },
    {
     "data": {
      "application/vnd.jupyter.widget-view+json": {
       "model_id": "",
       "version_major": 2,
       "version_minor": 0
      },
      "text/plain": [
       "Validation: 0it [00:00, ?it/s]"
      ]
     },
     "metadata": {},
     "output_type": "display_data"
    },
    {
     "data": {
      "application/vnd.jupyter.widget-view+json": {
       "model_id": "",
       "version_major": 2,
       "version_minor": 0
      },
      "text/plain": [
       "Validation: 0it [00:00, ?it/s]"
      ]
     },
     "metadata": {},
     "output_type": "display_data"
    },
    {
     "data": {
      "application/vnd.jupyter.widget-view+json": {
       "model_id": "",
       "version_major": 2,
       "version_minor": 0
      },
      "text/plain": [
       "Validation: 0it [00:00, ?it/s]"
      ]
     },
     "metadata": {},
     "output_type": "display_data"
    },
    {
     "data": {
      "application/vnd.jupyter.widget-view+json": {
       "model_id": "",
       "version_major": 2,
       "version_minor": 0
      },
      "text/plain": [
       "Validation: 0it [00:00, ?it/s]"
      ]
     },
     "metadata": {},
     "output_type": "display_data"
    },
    {
     "data": {
      "application/vnd.jupyter.widget-view+json": {
       "model_id": "",
       "version_major": 2,
       "version_minor": 0
      },
      "text/plain": [
       "Validation: 0it [00:00, ?it/s]"
      ]
     },
     "metadata": {},
     "output_type": "display_data"
    },
    {
     "data": {
      "application/vnd.jupyter.widget-view+json": {
       "model_id": "",
       "version_major": 2,
       "version_minor": 0
      },
      "text/plain": [
       "Validation: 0it [00:00, ?it/s]"
      ]
     },
     "metadata": {},
     "output_type": "display_data"
    },
    {
     "data": {
      "application/vnd.jupyter.widget-view+json": {
       "model_id": "",
       "version_major": 2,
       "version_minor": 0
      },
      "text/plain": [
       "Validation: 0it [00:00, ?it/s]"
      ]
     },
     "metadata": {},
     "output_type": "display_data"
    },
    {
     "data": {
      "application/vnd.jupyter.widget-view+json": {
       "model_id": "",
       "version_major": 2,
       "version_minor": 0
      },
      "text/plain": [
       "Validation: 0it [00:00, ?it/s]"
      ]
     },
     "metadata": {},
     "output_type": "display_data"
    },
    {
     "data": {
      "application/vnd.jupyter.widget-view+json": {
       "model_id": "",
       "version_major": 2,
       "version_minor": 0
      },
      "text/plain": [
       "Validation: 0it [00:00, ?it/s]"
      ]
     },
     "metadata": {},
     "output_type": "display_data"
    },
    {
     "data": {
      "application/vnd.jupyter.widget-view+json": {
       "model_id": "",
       "version_major": 2,
       "version_minor": 0
      },
      "text/plain": [
       "Validation: 0it [00:00, ?it/s]"
      ]
     },
     "metadata": {},
     "output_type": "display_data"
    },
    {
     "data": {
      "application/vnd.jupyter.widget-view+json": {
       "model_id": "",
       "version_major": 2,
       "version_minor": 0
      },
      "text/plain": [
       "Validation: 0it [00:00, ?it/s]"
      ]
     },
     "metadata": {},
     "output_type": "display_data"
    },
    {
     "data": {
      "application/vnd.jupyter.widget-view+json": {
       "model_id": "",
       "version_major": 2,
       "version_minor": 0
      },
      "text/plain": [
       "Validation: 0it [00:00, ?it/s]"
      ]
     },
     "metadata": {},
     "output_type": "display_data"
    },
    {
     "data": {
      "application/vnd.jupyter.widget-view+json": {
       "model_id": "",
       "version_major": 2,
       "version_minor": 0
      },
      "text/plain": [
       "Validation: 0it [00:00, ?it/s]"
      ]
     },
     "metadata": {},
     "output_type": "display_data"
    },
    {
     "data": {
      "application/vnd.jupyter.widget-view+json": {
       "model_id": "",
       "version_major": 2,
       "version_minor": 0
      },
      "text/plain": [
       "Validation: 0it [00:00, ?it/s]"
      ]
     },
     "metadata": {},
     "output_type": "display_data"
    },
    {
     "data": {
      "application/vnd.jupyter.widget-view+json": {
       "model_id": "",
       "version_major": 2,
       "version_minor": 0
      },
      "text/plain": [
       "Validation: 0it [00:00, ?it/s]"
      ]
     },
     "metadata": {},
     "output_type": "display_data"
    },
    {
     "data": {
      "application/vnd.jupyter.widget-view+json": {
       "model_id": "",
       "version_major": 2,
       "version_minor": 0
      },
      "text/plain": [
       "Validation: 0it [00:00, ?it/s]"
      ]
     },
     "metadata": {},
     "output_type": "display_data"
    },
    {
     "data": {
      "application/vnd.jupyter.widget-view+json": {
       "model_id": "",
       "version_major": 2,
       "version_minor": 0
      },
      "text/plain": [
       "Validation: 0it [00:00, ?it/s]"
      ]
     },
     "metadata": {},
     "output_type": "display_data"
    },
    {
     "data": {
      "application/vnd.jupyter.widget-view+json": {
       "model_id": "",
       "version_major": 2,
       "version_minor": 0
      },
      "text/plain": [
       "Validation: 0it [00:00, ?it/s]"
      ]
     },
     "metadata": {},
     "output_type": "display_data"
    },
    {
     "data": {
      "application/vnd.jupyter.widget-view+json": {
       "model_id": "",
       "version_major": 2,
       "version_minor": 0
      },
      "text/plain": [
       "Validation: 0it [00:00, ?it/s]"
      ]
     },
     "metadata": {},
     "output_type": "display_data"
    },
    {
     "data": {
      "application/vnd.jupyter.widget-view+json": {
       "model_id": "",
       "version_major": 2,
       "version_minor": 0
      },
      "text/plain": [
       "Validation: 0it [00:00, ?it/s]"
      ]
     },
     "metadata": {},
     "output_type": "display_data"
    },
    {
     "data": {
      "application/vnd.jupyter.widget-view+json": {
       "model_id": "",
       "version_major": 2,
       "version_minor": 0
      },
      "text/plain": [
       "Validation: 0it [00:00, ?it/s]"
      ]
     },
     "metadata": {},
     "output_type": "display_data"
    },
    {
     "data": {
      "application/vnd.jupyter.widget-view+json": {
       "model_id": "",
       "version_major": 2,
       "version_minor": 0
      },
      "text/plain": [
       "Validation: 0it [00:00, ?it/s]"
      ]
     },
     "metadata": {},
     "output_type": "display_data"
    },
    {
     "data": {
      "application/vnd.jupyter.widget-view+json": {
       "model_id": "",
       "version_major": 2,
       "version_minor": 0
      },
      "text/plain": [
       "Validation: 0it [00:00, ?it/s]"
      ]
     },
     "metadata": {},
     "output_type": "display_data"
    },
    {
     "data": {
      "application/vnd.jupyter.widget-view+json": {
       "model_id": "",
       "version_major": 2,
       "version_minor": 0
      },
      "text/plain": [
       "Validation: 0it [00:00, ?it/s]"
      ]
     },
     "metadata": {},
     "output_type": "display_data"
    },
    {
     "data": {
      "application/vnd.jupyter.widget-view+json": {
       "model_id": "",
       "version_major": 2,
       "version_minor": 0
      },
      "text/plain": [
       "Validation: 0it [00:00, ?it/s]"
      ]
     },
     "metadata": {},
     "output_type": "display_data"
    },
    {
     "data": {
      "application/vnd.jupyter.widget-view+json": {
       "model_id": "",
       "version_major": 2,
       "version_minor": 0
      },
      "text/plain": [
       "Validation: 0it [00:00, ?it/s]"
      ]
     },
     "metadata": {},
     "output_type": "display_data"
    },
    {
     "data": {
      "application/vnd.jupyter.widget-view+json": {
       "model_id": "",
       "version_major": 2,
       "version_minor": 0
      },
      "text/plain": [
       "Validation: 0it [00:00, ?it/s]"
      ]
     },
     "metadata": {},
     "output_type": "display_data"
    },
    {
     "data": {
      "application/vnd.jupyter.widget-view+json": {
       "model_id": "",
       "version_major": 2,
       "version_minor": 0
      },
      "text/plain": [
       "Validation: 0it [00:00, ?it/s]"
      ]
     },
     "metadata": {},
     "output_type": "display_data"
    },
    {
     "data": {
      "application/vnd.jupyter.widget-view+json": {
       "model_id": "",
       "version_major": 2,
       "version_minor": 0
      },
      "text/plain": [
       "Validation: 0it [00:00, ?it/s]"
      ]
     },
     "metadata": {},
     "output_type": "display_data"
    },
    {
     "data": {
      "application/vnd.jupyter.widget-view+json": {
       "model_id": "",
       "version_major": 2,
       "version_minor": 0
      },
      "text/plain": [
       "Validation: 0it [00:00, ?it/s]"
      ]
     },
     "metadata": {},
     "output_type": "display_data"
    },
    {
     "data": {
      "application/vnd.jupyter.widget-view+json": {
       "model_id": "",
       "version_major": 2,
       "version_minor": 0
      },
      "text/plain": [
       "Validation: 0it [00:00, ?it/s]"
      ]
     },
     "metadata": {},
     "output_type": "display_data"
    },
    {
     "data": {
      "application/vnd.jupyter.widget-view+json": {
       "model_id": "",
       "version_major": 2,
       "version_minor": 0
      },
      "text/plain": [
       "Validation: 0it [00:00, ?it/s]"
      ]
     },
     "metadata": {},
     "output_type": "display_data"
    },
    {
     "data": {
      "application/vnd.jupyter.widget-view+json": {
       "model_id": "a2821758fe4d4b3ba8036d784566c875",
       "version_major": 2,
       "version_minor": 0
      },
      "text/plain": [
       "Validation: 0it [00:00, ?it/s]"
      ]
     },
     "metadata": {},
     "output_type": "display_data"
    },
    {
     "data": {
      "text/html": [
       "<pre style=\"white-space:pre;overflow-x:auto;line-height:normal;font-family:Menlo,'DejaVu Sans Mono',consolas,'Courier New',monospace\">┏━━━━━━━━━━━━━━━━━━━━━━━━━━━┳━━━━━━━━━━━━━━━━━━━━━━━━━━━┓\n",
       "┃<span style=\"font-weight: bold\">      Validate metric      </span>┃<span style=\"font-weight: bold\">       DataLoader 0        </span>┃\n",
       "┡━━━━━━━━━━━━━━━━━━━━━━━━━━━╇━━━━━━━━━━━━━━━━━━━━━━━━━━━┩\n",
       "│<span style=\"color: #008080; text-decoration-color: #008080\">         val_loss          </span>│<span style=\"color: #800080; text-decoration-color: #800080\">     0.325053334236145     </span>│\n",
       "└───────────────────────────┴───────────────────────────┘\n",
       "</pre>\n"
      ],
      "text/plain": [
       "┏━━━━━━━━━━━━━━━━━━━━━━━━━━━┳━━━━━━━━━━━━━━━━━━━━━━━━━━━┓\n",
       "┃\u001b[1m \u001b[0m\u001b[1m     Validate metric     \u001b[0m\u001b[1m \u001b[0m┃\u001b[1m \u001b[0m\u001b[1m      DataLoader 0       \u001b[0m\u001b[1m \u001b[0m┃\n",
       "┡━━━━━━━━━━━━━━━━━━━━━━━━━━━╇━━━━━━━━━━━━━━━━━━━━━━━━━━━┩\n",
       "│\u001b[36m \u001b[0m\u001b[36m        val_loss         \u001b[0m\u001b[36m \u001b[0m│\u001b[35m \u001b[0m\u001b[35m    0.325053334236145    \u001b[0m\u001b[35m \u001b[0m│\n",
       "└───────────────────────────┴───────────────────────────┘\n"
      ]
     },
     "metadata": {},
     "output_type": "display_data"
    },
    {
     "data": {
      "application/vnd.jupyter.widget-view+json": {
       "model_id": "67b440846a0243f789f8928753911617",
       "version_major": 2,
       "version_minor": 0
      },
      "text/plain": [
       "Testing: 0it [00:00, ?it/s]"
      ]
     },
     "metadata": {},
     "output_type": "display_data"
    },
    {
     "data": {
      "text/html": [
       "<pre style=\"white-space:pre;overflow-x:auto;line-height:normal;font-family:Menlo,'DejaVu Sans Mono',consolas,'Courier New',monospace\">┏━━━━━━━━━━━━━━━━━━━━━━━━━━━┳━━━━━━━━━━━━━━━━━━━━━━━━━━━┓\n",
       "┃<span style=\"font-weight: bold\">        Test metric        </span>┃<span style=\"font-weight: bold\">       DataLoader 0        </span>┃\n",
       "┡━━━━━━━━━━━━━━━━━━━━━━━━━━━╇━━━━━━━━━━━━━━━━━━━━━━━━━━━┩\n",
       "│<span style=\"color: #008080; text-decoration-color: #008080\">         test_loss         </span>│<span style=\"color: #800080; text-decoration-color: #800080\">    0.3246743381023407     </span>│\n",
       "└───────────────────────────┴───────────────────────────┘\n",
       "</pre>\n"
      ],
      "text/plain": [
       "┏━━━━━━━━━━━━━━━━━━━━━━━━━━━┳━━━━━━━━━━━━━━━━━━━━━━━━━━━┓\n",
       "┃\u001b[1m \u001b[0m\u001b[1m       Test metric       \u001b[0m\u001b[1m \u001b[0m┃\u001b[1m \u001b[0m\u001b[1m      DataLoader 0       \u001b[0m\u001b[1m \u001b[0m┃\n",
       "┡━━━━━━━━━━━━━━━━━━━━━━━━━━━╇━━━━━━━━━━━━━━━━━━━━━━━━━━━┩\n",
       "│\u001b[36m \u001b[0m\u001b[36m        test_loss        \u001b[0m\u001b[36m \u001b[0m│\u001b[35m \u001b[0m\u001b[35m   0.3246743381023407    \u001b[0m\u001b[35m \u001b[0m│\n",
       "└───────────────────────────┴───────────────────────────┘\n"
      ]
     },
     "metadata": {},
     "output_type": "display_data"
    },
    {
     "data": {
      "text/plain": [
       "[{'test_loss': 0.3246743381023407}]"
      ]
     },
     "execution_count": 175,
     "metadata": {},
     "output_type": "execute_result"
    }
   ],
   "source": [
    "\n",
    "if ckpt_path:\n",
    "    trainer.fit(model, dm,ckpt_path=ckpt_path)  # Model checkpoint\n",
    "else:\n",
    "    trainer.fit(model, dm)\n",
    "    \n",
    "trainer.validate(model, dm)\n",
    "trainer.test(model, dm)\n"
   ]
  },
  {
   "cell_type": "code",
   "execution_count": 176,
   "id": "a786f419-fe21-4718-a716-02b0a6060718",
   "metadata": {},
   "outputs": [
    {
     "data": {
      "image/png": "[encoded data removed]",
      "text/plain": [
       "<Figure size 1000x400 with 10 Axes>"
      ]
     },
     "metadata": {},
     "output_type": "display_data"
    }
   ],
   "source": [
    "\n",
    "# Create a dictionary to store one image per class\n",
    "class_images = {}\n",
    "\n",
    "# Iterate over the dataset and store one image per class\n",
    "for image, label in dm.train_dataset:\n",
    "    if label not in class_images:\n",
    "        class_images[label] = image\n",
    "        if len(class_images) == 10:  # Stop after storing one image per class\n",
    "            break\n",
    "\n",
    "# Display the images from each class\n",
    "fig, axes = plt.subplots(2, 5, figsize=(10, 4))\n",
    "for i, (label, image) in enumerate(class_images.items()):\n",
    "    ax = axes[i // 5, i % 5]\n",
    "    ax.imshow(image.squeeze(), cmap='gray')\n",
    "    ax.set_title(f\"Class: {label}\")\n",
    "    ax.axis('off')\n",
    "\n",
    "plt.tight_layout()\n",
    "plt.show()\n"
   ]
  },
  {
   "cell_type": "code",
   "execution_count": 137,
   "id": "d64ebd61-ddc8-4c17-986e-8153b8973bf2",
   "metadata": {},
   "outputs": [],
   "source": [
    "def plot_latent(autoencoder, data, num_batches=100):\n",
    "    for i, (x, y) in enumerate(data):\n",
    "        z = autoencoder.encoder(x.flatten(start_dim=1))\n",
    "        z = z.to('cpu').detach().numpy()\n",
    "        plt.scatter(z[:, 0], z[:, 1], c=y, cmap='tab10')\n",
    "        if i > num_batches:\n",
    "            plt.colorbar()\n",
    "            break\n",
    "            \n",
    "def plot_reconstructed(autoencoder, r0=(-15, 20), r1=(-5, 20), n=12):\n",
    "    w = 28\n",
    "    img = np.zeros((n*w, n*w))\n",
    "    for i, y in enumerate(np.linspace(*r1, n)):\n",
    "        for j, x in enumerate(np.linspace(*r0, n)):\n",
    "            z = torch.Tensor([[x, y]])\n",
    "            x_hat = model.decoder(z)\n",
    "            x_hat = x_hat.reshape(28, 28).to('cpu').detach().numpy()\n",
    "            img[(n-1-i)*w:(n-1-i+1)*w, j*w:(j+1)*w] = x_hat\n",
    "    plt.imshow(img, extent=[*r0, *r1])"
   ]
  },
  {
   "cell_type": "code",
   "execution_count": 140,
   "id": "7989f6ff-d5e8-49f6-959b-bcbb924e5e63",
   "metadata": {},
   "outputs": [
    {
     "data": {
      "image/png": "[encoded data removed]",
      "text/plain": [
       "<Figure size 640x480 with 2 Axes>"
      ]
     },
     "metadata": {},
     "output_type": "display_data"
    }
   ],
   "source": [
    "model.eval()\n",
    "plot_latent(model,dm.train_dataloader())\n"
   ]
  },
  {
   "cell_type": "code",
   "execution_count": 141,
   "id": "dfafd915-7559-4fbc-be47-8a64d4e98a84",
   "metadata": {},
   "outputs": [
    {
     "data": {
      "image/png": "[encoded data removed]",
      "text/plain": [
       "<Figure size 640x480 with 1 Axes>"
      ]
     },
     "metadata": {},
     "output_type": "display_data"
    }
   ],
   "source": [
    "plot_reconstructed(model)"
   ]
  },
  {
   "cell_type": "code",
   "execution_count": 156,
   "id": "894bad92-4309-4f1d-9d92-1a60798dea92",
   "metadata": {},
   "outputs": [
    {
     "data": {
      "image/png": "[encoded data removed]",
      "text/plain": [
       "<Figure size 640x480 with 1 Axes>"
      ]
     },
     "metadata": {},
     "output_type": "display_data"
    }
   ],
   "source": [
    "plot_reconstructed(model,r0=(-5,5),r1=(500,505))"
   ]
  },
  {
   "cell_type": "code",
   "execution_count": 157,
   "id": "de052268-c6b6-48ac-b5f6-e1d2b3b124c6",
   "metadata": {},
   "outputs": [
    {
     "data": {
      "text/plain": [
       "Normal(loc: 0.0, scale: 1.0)"
      ]
     },
     "execution_count": 157,
     "metadata": {},
     "output_type": "execute_result"
    }
   ],
   "source": [
    "torch.distributions.Normal(0, 1)"
   ]
  },
  {
   "cell_type": "code",
   "execution_count": 160,
   "id": "60ce4b00-7e57-4f6b-a380-074133331253",
   "metadata": {},
   "outputs": [
    {
     "data": {
      "text/plain": [
       "torch.Size([128, 2])"
      ]
     },
     "execution_count": 160,
     "metadata": {},
     "output_type": "execute_result"
    }
   ],
   "source": [
    "x = torch.rand(128,1,28,28)\n",
    "model.encoder(x.flatten(start_dim=1)).shape"
   ]
  },
  {
   "cell_type": "code",
   "execution_count": null,
   "id": "93eaeef3-061b-440e-87ff-601a6e9d5093",
   "metadata": {},
   "outputs": [],
   "source": []
  }
 ],
 "metadata": {
  "kernelspec": {
   "display_name": "lab",
   "language": "python",
   "name": "lab"
  },
  "language_info": {
   "codemirror_mode": {
    "name": "ipython",
    "version": 3
   },
   "file_extension": ".py",
   "mimetype": "text/x-python",
   "name": "python",
   "nbconvert_exporter": "python",
   "pygments_lexer": "ipython3",
   "version": "3.10.9"
  },
  "widgets": {
   "application/vnd.jupyter.widget-state+json": {
    "state": {
     "003c09153fd14b2eb520d19a575e7d6e": {
      "model_module": "@jupyter-widgets/controls",
      "model_module_version": "2.0.0",
      "model_name": "HTMLStyleModel",
      "state": {
       "description_width": "",
       "font_size": null,
       "text_color": null
      }
     },
     "0071d2179001410eaa01f7bf1e6a8883": {
      "model_module": "@jupyter-widgets/controls",
      "model_module_version": "2.0.0",
      "model_name": "HTMLStyleModel",
      "state": {
       "description_width": "",
       "font_size": null,
       "text_color": null
      }
     },
     "01619a04661647efb5e683ecf7a2bcfd": {
      "model_module": "@jupyter-widgets/base",
      "model_module_version": "2.0.0",
      "model_name": "LayoutModel",
      "state": {}
     },
     "0213ddecb3fc49748b084ec9a3118657": {
      "model_module": "@jupyter-widgets/base",
      "model_module_version": "2.0.0",
      "model_name": "LayoutModel",
      "state": {}
     },
     "02200511f42a4247b623f9a174e26bd3": {
      "model_module": "@jupyter-widgets/controls",
      "model_module_version": "2.0.0",
      "model_name": "HTMLModel",
      "state": {
       "layout": "IPY_MODEL_4359f28f60384df5b74fc1ba2e7f91b0",
       "style": "IPY_MODEL_6d7cf2e86a734f71952d0463d8fd2628",
       "value": " 94/94 [00:00&lt;00:00, 204.79it/s]"
      }
     },
     "027a4099095c4f1d9c6e200e8cd367e2": {
      "model_module": "@jupyter-widgets/base",
      "model_module_version": "2.0.0",
      "model_name": "LayoutModel",
      "state": {}
     },
     "027e131d172149e9b62d6dddb40dace9": {
      "model_module": "@jupyter-widgets/controls",
      "model_module_version": "2.0.0",
      "model_name": "HTMLStyleModel",
      "state": {
       "description_width": "",
       "font_size": null,
       "text_color": null
      }
     },
     "035e459c74e14996b399a8e7d6870ac7": {
      "model_module": "@jupyter-widgets/controls",
      "model_module_version": "2.0.0",
      "model_name": "HTMLStyleModel",
      "state": {
       "description_width": "",
       "font_size": null,
       "text_color": null
      }
     },
     "03db788511134973bc742c84899632b6": {
      "model_module": "@jupyter-widgets/controls",
      "model_module_version": "2.0.0",
      "model_name": "HTMLStyleModel",
      "state": {
       "description_width": "",
       "font_size": null,
       "text_color": null
      }
     },
     "0421896b56ee455c99e9c288c8303a91": {
      "model_module": "@jupyter-widgets/controls",
      "model_module_version": "2.0.0",
      "model_name": "HTMLStyleModel",
      "state": {
       "description_width": "",
       "font_size": null,
       "text_color": null
      }
     },
     "042b9fcc1ccf4566af03a575a20f2a58": {
      "model_module": "@jupyter-widgets/controls",
      "model_module_version": "2.0.0",
      "model_name": "HTMLModel",
      "state": {
       "layout": "IPY_MODEL_c4465cdc04c54aef97502e1b07817410",
       "style": "IPY_MODEL_354e3a4d7f6543bc8cf345e2e7760eb4",
       "value": " 94/94 [00:00&lt;00:00, 150.78it/s]"
      }
     },
     "04aa460322264fc5bc86709c07117fab": {
      "model_module": "@jupyter-widgets/controls",
      "model_module_version": "2.0.0",
      "model_name": "HTMLModel",
      "state": {
       "layout": "IPY_MODEL_2832fdd1041c4d198601ec42a238979d",
       "style": "IPY_MODEL_3d4dac3fc7e7478ea652d41f98bcfd14",
       "value": "Testing DataLoader 0: 100%"
      }
     },
     "052ace27ca564e63b45518f1a720aac3": {
      "model_module": "@jupyter-widgets/controls",
      "model_module_version": "2.0.0",
      "model_name": "HTMLModel",
      "state": {
       "layout": "IPY_MODEL_4c1ce52c30ab48fd8b57c0ebba31b7ff",
       "style": "IPY_MODEL_ae3a6822785c471f9afabcaad73a9418",
       "value": "Validation DataLoader 0: 100%"
      }
     },
     "0601202dcf4b4710894b3996d850c85b": {
      "model_module": "@jupyter-widgets/controls",
      "model_module_version": "2.0.0",
      "model_name": "HTMLStyleModel",
      "state": {
       "description_width": "",
       "font_size": null,
       "text_color": null
      }
     },
     "064dbefd82264899a05233f9dc222433": {
      "model_module": "@jupyter-widgets/controls",
      "model_module_version": "2.0.0",
      "model_name": "FloatProgressModel",
      "state": {
       "layout": "IPY_MODEL_fb2a8423ab934347a34849e3223b028d",
       "max": 94,
       "style": "IPY_MODEL_74b3471bf68c4b928a5a9c5339a0adf9",
       "value": 94
      }
     },
     "07274720d9d64cb5a52f9e69357c0696": {
      "model_module": "@jupyter-widgets/controls",
      "model_module_version": "2.0.0",
      "model_name": "HTMLStyleModel",
      "state": {
       "description_width": "",
       "font_size": null,
       "text_color": null
      }
     },
     "07dfd384f73e4ea89017e60ae12ca7d1": {
      "model_module": "@jupyter-widgets/base",
      "model_module_version": "2.0.0",
      "model_name": "LayoutModel",
      "state": {}
     },
     "07f1cb8440ff452f8daa27ec7fa2787c": {
      "model_module": "@jupyter-widgets/base",
      "model_module_version": "2.0.0",
      "model_name": "LayoutModel",
      "state": {}
     },
     "08b98fbaafad44d586e9ee7180cf563f": {
      "model_module": "@jupyter-widgets/controls",
      "model_module_version": "2.0.0",
      "model_name": "HTMLModel",
      "state": {
       "layout": "IPY_MODEL_2301b7441cc3477982b1871cd8f84b69",
       "style": "IPY_MODEL_d1719c7f48334fd8b61d94f3947ad5f9",
       "value": " 94/94 [00:00&lt;00:00, 229.02it/s]"
      }
     },
     "08e1f1f7bcff41568942e02d094edfbb": {
      "model_module": "@jupyter-widgets/base",
      "model_module_version": "2.0.0",
      "model_name": "LayoutModel",
      "state": {}
     },
     "098aa64f31af4f2981bb772beab9882b": {
      "model_module": "@jupyter-widgets/controls",
      "model_module_version": "2.0.0",
      "model_name": "HTMLModel",
      "state": {
       "layout": "IPY_MODEL_757dcd0ccbb5428d9d7231bb51c5144b",
       "style": "IPY_MODEL_b3a804d64ba8416981232aca282f280a",
       "value": "Validation DataLoader 0: 100%"
      }
     },
     "09a20f1668ed4a3cb339b2fc03967c2f": {
      "model_module": "@jupyter-widgets/base",
      "model_module_version": "2.0.0",
      "model_name": "LayoutModel",
      "state": {}
     },
     "0a791c224cc34dc4bd4bacaf5360eb1d": {
      "model_module": "@jupyter-widgets/base",
      "model_module_version": "2.0.0",
      "model_name": "LayoutModel",
      "state": {
       "flex": "2"
      }
     },
     "0aaf5f00c5c0457b852c3536634717b5": {
      "model_module": "@jupyter-widgets/controls",
      "model_module_version": "2.0.0",
      "model_name": "HTMLStyleModel",
      "state": {
       "description_width": "",
       "font_size": null,
       "text_color": null
      }
     },
     "0ac444da6266424dad4a84074071973f": {
      "model_module": "@jupyter-widgets/base",
      "model_module_version": "2.0.0",
      "model_name": "LayoutModel",
      "state": {}
     },
     "0b0408c08ed245d69ac9fc1268210a96": {
      "model_module": "@jupyter-widgets/controls",
      "model_module_version": "2.0.0",
      "model_name": "FloatProgressModel",
      "state": {
       "layout": "IPY_MODEL_3d17f5b774a04580bdeee2031b958ff3",
       "max": 94,
       "style": "IPY_MODEL_fb61e7d115fd467488e13643cb323e00",
       "value": 94
      }
     },
     "0c16045fb5e2432fa28fd7125c0b661d": {
      "model_module": "@jupyter-widgets/controls",
      "model_module_version": "2.0.0",
      "model_name": "HTMLStyleModel",
      "state": {
       "description_width": "",
       "font_size": null,
       "text_color": null
      }
     },
     "0c3966f6c679427891e22c2de56e4338": {
      "model_module": "@jupyter-widgets/controls",
      "model_module_version": "2.0.0",
      "model_name": "ProgressStyleModel",
      "state": {
       "description_width": ""
      }
     },
     "0c822b71b2b04f728d304668739fc2c2": {
      "model_module": "@jupyter-widgets/controls",
      "model_module_version": "2.0.0",
      "model_name": "HTMLModel",
      "state": {
       "layout": "IPY_MODEL_1d9b68c97c464a39944894da91658178",
       "style": "IPY_MODEL_abb49063c0dc43c8be3ed88c5cfed386",
       "value": " 94/94 [00:00&lt;00:00, 159.01it/s]"
      }
     },
     "0c9b0d214ebf42a8aee5e883980acf11": {
      "model_module": "@jupyter-widgets/controls",
      "model_module_version": "2.0.0",
      "model_name": "HTMLModel",
      "state": {
       "layout": "IPY_MODEL_8a299a27845d46e882b49e5a24af2610",
       "style": "IPY_MODEL_be5d15b9251d48e2abbb8c192bf9344a",
       "value": "Validation DataLoader 0: 100%"
      }
     },
     "0caa281bcfdd4858b8d5e49c5895cfef": {
      "model_module": "@jupyter-widgets/base",
      "model_module_version": "2.0.0",
      "model_name": "LayoutModel",
      "state": {}
     },
     "0cb7a651ec7a4a2dbbdc3a5a4fb749e4": {
      "model_module": "@jupyter-widgets/controls",
      "model_module_version": "2.0.0",
      "model_name": "HTMLModel",
      "state": {
       "layout": "IPY_MODEL_9bd2185641c7445da90d8a5bbbebef96",
       "style": "IPY_MODEL_d510f13b9bcc486f9ce39f65be7f7505",
       "value": " 94/94 [00:00&lt;00:00, 180.50it/s]"
      }
     },
     "0d733ad6cc684780863b8db2bf9a0313": {
      "model_module": "@jupyter-widgets/controls",
      "model_module_version": "2.0.0",
      "model_name": "HTMLStyleModel",
      "state": {
       "description_width": "",
       "font_size": null,
       "text_color": null
      }
     },
     "0da7f89e328345d586922c0bd403362f": {
      "model_module": "@jupyter-widgets/base",
      "model_module_version": "2.0.0",
      "model_name": "LayoutModel",
      "state": {
       "flex": "2"
      }
     },
     "0e273f264ccc4148b1ebab40b229efe8": {
      "model_module": "@jupyter-widgets/base",
      "model_module_version": "2.0.0",
      "model_name": "LayoutModel",
      "state": {}
     },
     "0e5b78b0210b4346ae52d0b4c9fd2d80": {
      "model_module": "@jupyter-widgets/controls",
      "model_module_version": "2.0.0",
      "model_name": "HTMLStyleModel",
      "state": {
       "description_width": "",
       "font_size": null,
       "text_color": null
      }
     },
     "0e8287d76664492ab2b5285b3311cfdd": {
      "model_module": "@jupyter-widgets/base",
      "model_module_version": "2.0.0",
      "model_name": "LayoutModel",
      "state": {
       "flex": "2"
      }
     },
     "0e8854b932bd4e96b3e743db2e19c273": {
      "model_module": "@jupyter-widgets/base",
      "model_module_version": "2.0.0",
      "model_name": "LayoutModel",
      "state": {
       "flex": "2"
      }
     },
     "0f6ede39ade74abd99f05818076d60e6": {
      "model_module": "@jupyter-widgets/base",
      "model_module_version": "2.0.0",
      "model_name": "LayoutModel",
      "state": {
       "display": "inline-flex",
       "flex_flow": "row wrap",
       "visibility": "hidden",
       "width": "100%"
      }
     },
     "0f948db8896e4c0e93fc6f49b08cc542": {
      "model_module": "@jupyter-widgets/controls",
      "model_module_version": "2.0.0",
      "model_name": "HTMLModel",
      "state": {
       "layout": "IPY_MODEL_f6c60d83eb3443f1953492fa2c7ab951",
       "style": "IPY_MODEL_03db788511134973bc742c84899632b6",
       "value": " 94/94 [00:00&lt;00:00, 161.08it/s]"
      }
     },
     "0ff4f7f66a58481fb2f4d37e1c8220c7": {
      "model_module": "@jupyter-widgets/controls",
      "model_module_version": "2.0.0",
      "model_name": "FloatProgressModel",
      "state": {
       "layout": "IPY_MODEL_78483ab137ba48deb00c7d68ca8f9379",
       "max": 94,
       "style": "IPY_MODEL_deaf7d20cdc845c4b1230bccc070917d",
       "value": 94
      }
     },
     "0ffb984db9594a0899b6c6090ea5946c": {
      "model_module": "@jupyter-widgets/controls",
      "model_module_version": "2.0.0",
      "model_name": "HTMLModel",
      "state": {
       "layout": "IPY_MODEL_8b664f55c1b0431c9c6942b63d2e0f46",
       "style": "IPY_MODEL_3fe3486d787c4d48a2f2014b845ab366",
       "value": "Validation DataLoader 0: 100%"
      }
     },
     "10532e3ca99d4373985c7ecf5023cbb0": {
      "model_module": "@jupyter-widgets/controls",
      "model_module_version": "2.0.0",
      "model_name": "HTMLModel",
      "state": {
       "layout": "IPY_MODEL_cfdaf019b63647eb9a9306079975354c",
       "style": "IPY_MODEL_a905bf35c07a446b85e41c8427e5035b",
       "value": "Validation DataLoader 0: 100%"
      }
     },
     "10a7350293a8492e8eeb843f4dafd37f": {
      "model_module": "@jupyter-widgets/base",
      "model_module_version": "2.0.0",
      "model_name": "LayoutModel",
      "state": {}
     },
     "10be5ff42a6043c1a7c898c13ccc1822": {
      "model_module": "@jupyter-widgets/controls",
      "model_module_version": "2.0.0",
      "model_name": "FloatProgressModel",
      "state": {
       "layout": "IPY_MODEL_64db6505fc6d4b48ab2162108dba10d2",
       "max": 94,
       "style": "IPY_MODEL_1fddca868a68424ea0823b2b941449b4",
       "value": 94
      }
     },
     "10d61ba0075e49fdb28612c965886cef": {
      "model_module": "@jupyter-widgets/controls",
      "model_module_version": "2.0.0",
      "model_name": "HTMLStyleModel",
      "state": {
       "description_width": "",
       "font_size": null,
       "text_color": null
      }
     },
     "113f9f54841d46e892218394215d57a7": {
      "model_module": "@jupyter-widgets/controls",
      "model_module_version": "2.0.0",
      "model_name": "HTMLStyleModel",
      "state": {
       "description_width": "",
       "font_size": null,
       "text_color": null
      }
     },
     "1245bd6084e8448780be2b074b236c91": {
      "model_module": "@jupyter-widgets/controls",
      "model_module_version": "2.0.0",
      "model_name": "FloatProgressModel",
      "state": {
       "layout": "IPY_MODEL_a087de3df36f4e448e500919740233b4",
       "max": 94,
       "style": "IPY_MODEL_4113065593f3473da27e33bbbff0c5ab",
       "value": 94
      }
     },
     "125cb71cf2964d1f9d2c8d916e1334af": {
      "model_module": "@jupyter-widgets/base",
      "model_module_version": "2.0.0",
      "model_name": "LayoutModel",
      "state": {
       "flex": "2"
      }
     },
     "13525b478b1c474abe9f9c6ab43f4aea": {
      "model_module": "@jupyter-widgets/base",
      "model_module_version": "2.0.0",
      "model_name": "LayoutModel",
      "state": {}
     },
     "1398281231444a448701febc13353748": {
      "model_module": "@jupyter-widgets/controls",
      "model_module_version": "2.0.0",
      "model_name": "FloatProgressModel",
      "state": {
       "layout": "IPY_MODEL_ca144abf876c405184478650650a3474",
       "max": 94,
       "style": "IPY_MODEL_f370d31a75954279b70be707511c3a30",
       "value": 94
      }
     },
     "142ff4bb0766451a9d0b304992b618ae": {
      "model_module": "@jupyter-widgets/controls",
      "model_module_version": "2.0.0",
      "model_name": "HTMLStyleModel",
      "state": {
       "description_width": "",
       "font_size": null,
       "text_color": null
      }
     },
     "15339da174a24aca960033c5ac625375": {
      "model_module": "@jupyter-widgets/base",
      "model_module_version": "2.0.0",
      "model_name": "LayoutModel",
      "state": {
       "flex": "2"
      }
     },
     "15b313a44f6647ec8afa54ae595e4a51": {
      "model_module": "@jupyter-widgets/base",
      "model_module_version": "2.0.0",
      "model_name": "LayoutModel",
      "state": {
       "display": "inline-flex",
       "flex_flow": "row wrap",
       "visibility": "hidden",
       "width": "100%"
      }
     },
     "15c2757d00df4d73a60285b9033b6ab5": {
      "model_module": "@jupyter-widgets/controls",
      "model_module_version": "2.0.0",
      "model_name": "HTMLModel",
      "state": {
       "layout": "IPY_MODEL_37b1380964304b7688f04c88639887c8",
       "style": "IPY_MODEL_51f24040c5d940f3a891214a6ac1f58f",
       "value": "Validation DataLoader 0: 100%"
      }
     },
     "15f7545f62a146a099a0168b1b61396a": {
      "model_module": "@jupyter-widgets/controls",
      "model_module_version": "2.0.0",
      "model_name": "HTMLModel",
      "state": {
       "layout": "IPY_MODEL_fd7cf4ad31404d52b281650896f4c21f",
       "style": "IPY_MODEL_8d2dbe378b544be98b3b869d4256323b",
       "value": "Validation DataLoader 0: 100%"
      }
     },
     "1628b9e098b64d7fb82f72753ddc37e3": {
      "model_module": "@jupyter-widgets/controls",
      "model_module_version": "2.0.0",
      "model_name": "HTMLModel",
      "state": {
       "layout": "IPY_MODEL_f936ba66481646c599ade42394119edb",
       "style": "IPY_MODEL_99faadf750304286a196f949aec62262",
       "value": " 94/94 [00:00&lt;00:00, 135.76it/s]"
      }
     },
     "16d27480dfd24e358ef21de43cbf22e3": {
      "model_module": "@jupyter-widgets/base",
      "model_module_version": "2.0.0",
      "model_name": "LayoutModel",
      "state": {
       "display": "inline-flex",
       "flex_flow": "row wrap",
       "visibility": "hidden",
       "width": "100%"
      }
     },
     "1780902c977a46389c4160cffce2adc4": {
      "model_module": "@jupyter-widgets/base",
      "model_module_version": "2.0.0",
      "model_name": "LayoutModel",
      "state": {}
     },
     "1827867dd9614620a3577c62456a55cb": {
      "model_module": "@jupyter-widgets/controls",
      "model_module_version": "2.0.0",
      "model_name": "HTMLStyleModel",
      "state": {
       "description_width": "",
       "font_size": null,
       "text_color": null
      }
     },
     "19ad48f8491b411383a30a35288e3452": {
      "model_module": "@jupyter-widgets/base",
      "model_module_version": "2.0.0",
      "model_name": "LayoutModel",
      "state": {
       "flex": "2"
      }
     },
     "1a32f91c8c624dba8cedcc84001255e2": {
      "model_module": "@jupyter-widgets/controls",
      "model_module_version": "2.0.0",
      "model_name": "HTMLStyleModel",
      "state": {
       "description_width": "",
       "font_size": null,
       "text_color": null
      }
     },
     "1a4a24b157d14daaa8e6b6eaedaed686": {
      "model_module": "@jupyter-widgets/controls",
      "model_module_version": "2.0.0",
      "model_name": "HTMLStyleModel",
      "state": {
       "description_width": "",
       "font_size": null,
       "text_color": null
      }
     },
     "1a7d1300a980466bbd0cc9f6a1e6fba0": {
      "model_module": "@jupyter-widgets/base",
      "model_module_version": "2.0.0",
      "model_name": "LayoutModel",
      "state": {}
     },
     "1af2c6dad2aa4e4ba7a6a8761385a57e": {
      "model_module": "@jupyter-widgets/base",
      "model_module_version": "2.0.0",
      "model_name": "LayoutModel",
      "state": {
       "display": "inline-flex",
       "flex_flow": "row wrap",
       "visibility": "hidden",
       "width": "100%"
      }
     },
     "1b8b721153464d4bb7899f43300341e8": {
      "model_module": "@jupyter-widgets/base",
      "model_module_version": "2.0.0",
      "model_name": "LayoutModel",
      "state": {}
     },
     "1c74ac4e7c1a442498aeb4a71d96e289": {
      "model_module": "@jupyter-widgets/controls",
      "model_module_version": "2.0.0",
      "model_name": "ProgressStyleModel",
      "state": {
       "description_width": ""
      }
     },
     "1ce7a26b6e1d406a8135850c8b6522d8": {
      "model_module": "@jupyter-widgets/controls",
      "model_module_version": "2.0.0",
      "model_name": "HTMLStyleModel",
      "state": {
       "description_width": "",
       "font_size": null,
       "text_color": null
      }
     },
     "1d2e3b8de8b4417a8cf37bd9104bc10f": {
      "model_module": "@jupyter-widgets/controls",
      "model_module_version": "2.0.0",
      "model_name": "HTMLStyleModel",
      "state": {
       "description_width": "",
       "font_size": null,
       "text_color": null
      }
     },
     "1d6da5304f8743a8bb3e9657bcf96f15": {
      "model_module": "@jupyter-widgets/controls",
      "model_module_version": "2.0.0",
      "model_name": "HTMLStyleModel",
      "state": {
       "description_width": "",
       "font_size": null,
       "text_color": null
      }
     },
     "1d9b68c97c464a39944894da91658178": {
      "model_module": "@jupyter-widgets/base",
      "model_module_version": "2.0.0",
      "model_name": "LayoutModel",
      "state": {}
     },
     "1de33338d5b0428299454e4ef5ce1943": {
      "model_module": "@jupyter-widgets/controls",
      "model_module_version": "2.0.0",
      "model_name": "FloatProgressModel",
      "state": {
       "layout": "IPY_MODEL_97cbf9b52ffe4ef9b795eecc007235db",
       "max": 94,
       "style": "IPY_MODEL_2b2245b4012c4b03b48f9ad4cdf17796",
       "value": 94
      }
     },
     "1e2f5b9ac14746e9899505736e191a02": {
      "model_module": "@jupyter-widgets/base",
      "model_module_version": "2.0.0",
      "model_name": "LayoutModel",
      "state": {
       "flex": "2"
      }
     },
     "1e6729da0cfd473488fdfcd75471b13b": {
      "model_module": "@jupyter-widgets/controls",
      "model_module_version": "2.0.0",
      "model_name": "HTMLModel",
      "state": {
       "layout": "IPY_MODEL_65371b3a9ca04ea393597f1d8436d7fa",
       "style": "IPY_MODEL_23979418f8054b259df32d1cdf270f23",
       "value": " 94/94 [00:00&lt;00:00, 185.98it/s]"
      }
     },
     "1eb7fb981905463da89874cb3b172053": {
      "model_module": "@jupyter-widgets/controls",
      "model_module_version": "2.0.0",
      "model_name": "HTMLModel",
      "state": {
       "layout": "IPY_MODEL_53cadbd8b5b8491bb822fb37feb52d1f",
       "style": "IPY_MODEL_42f2f10e2b574366a2c6292cc2f5c5b2",
       "value": "Validation DataLoader 0: 100%"
      }
     },
     "1ef4f3098ccb46eda1cdcfce3535feb9": {
      "model_module": "@jupyter-widgets/base",
      "model_module_version": "2.0.0",
      "model_name": "LayoutModel",
      "state": {
       "display": "inline-flex",
       "flex_flow": "row wrap",
       "visibility": "hidden",
       "width": "100%"
      }
     },
     "1efbff37f55541469324163b04392fb3": {
      "model_module": "@jupyter-widgets/controls",
      "model_module_version": "2.0.0",
      "model_name": "FloatProgressModel",
      "state": {
       "layout": "IPY_MODEL_7433b278581b4029a5c666b944e466e4",
       "max": 94,
       "style": "IPY_MODEL_f3c9d5536f0b4c2ea0016cb8f1373ddc",
       "value": 94
      }
     },
     "1f29c11fc6024276a73b5c8c98ee74e3": {
      "model_module": "@jupyter-widgets/base",
      "model_module_version": "2.0.0",
      "model_name": "LayoutModel",
      "state": {
       "display": "inline-flex",
       "flex_flow": "row wrap",
       "visibility": "hidden",
       "width": "100%"
      }
     },
     "1f389edad6a0454e84c6cb69cc2a5453": {
      "model_module": "@jupyter-widgets/controls",
      "model_module_version": "2.0.0",
      "model_name": "HTMLModel",
      "state": {
       "layout": "IPY_MODEL_924f1e8cd5244dfeb263ca294a0fea81",
       "style": "IPY_MODEL_ed7b9c032fce47ed990236d87290bef0",
       "value": "Finding best initial lr:   0%"
      }
     },
     "1f406a0ae83a42b180623b2a57fbd3b7": {
      "model_module": "@jupyter-widgets/controls",
      "model_module_version": "2.0.0",
      "model_name": "HTMLModel",
      "state": {
       "layout": "IPY_MODEL_ec117bf080784d73bc991b4cc0ab177e",
       "style": "IPY_MODEL_f14a2d4d965a49e9bfee4f4cb6ba7131",
       "value": "Validation DataLoader 0: 100%"
      }
     },
     "1f87c68af14c424b841e481c112ffe5e": {
      "model_module": "@jupyter-widgets/base",
      "model_module_version": "2.0.0",
      "model_name": "LayoutModel",
      "state": {
       "display": "inline-flex",
       "flex_flow": "row wrap",
       "width": "100%"
      }
     },
     "1fc7d8c2b8ac47949a62018730266e74": {
      "model_module": "@jupyter-widgets/controls",
      "model_module_version": "2.0.0",
      "model_name": "FloatProgressModel",
      "state": {
       "layout": "IPY_MODEL_711a6604d93f49b59bb16e0ead567e1f",
       "max": 94,
       "style": "IPY_MODEL_7a36f35f5aec4907b0f475619c15103c",
       "value": 94
      }
     },
     "1fddca868a68424ea0823b2b941449b4": {
      "model_module": "@jupyter-widgets/controls",
      "model_module_version": "2.0.0",
      "model_name": "ProgressStyleModel",
      "state": {
       "description_width": ""
      }
     },
     "206a3eb90c274488bed8795d742fe5f0": {
      "model_module": "@jupyter-widgets/controls",
      "model_module_version": "2.0.0",
      "model_name": "HTMLModel",
      "state": {
       "layout": "IPY_MODEL_8cc4f71a55044ef6bc349e04bb7518e9",
       "style": "IPY_MODEL_43ac5fed2eda4fc69cb589d6b8fe55e0",
       "value": "Epoch 32: 100%"
      }
     },
     "208dff1ed8674983aad039992a07f495": {
      "model_module": "@jupyter-widgets/controls",
      "model_module_version": "2.0.0",
      "model_name": "FloatProgressModel",
      "state": {
       "layout": "IPY_MODEL_125cb71cf2964d1f9d2c8d916e1334af",
       "max": 94,
       "style": "IPY_MODEL_bb43eec685044b68bad718db0d340331",
       "value": 94
      }
     },
     "20e79ed197a04bee9422fc949d303414": {
      "model_module": "@jupyter-widgets/base",
      "model_module_version": "2.0.0",
      "model_name": "LayoutModel",
      "state": {
       "flex": "2"
      }
     },
     "21c4193d16064e649278ce0b7e9e3956": {
      "model_module": "@jupyter-widgets/controls",
      "model_module_version": "2.0.0",
      "model_name": "HTMLStyleModel",
      "state": {
       "description_width": "",
       "font_size": null,
       "text_color": null
      }
     },
     "21f575d3f3f9478eab6cd483207e7c33": {
      "model_module": "@jupyter-widgets/base",
      "model_module_version": "2.0.0",
      "model_name": "LayoutModel",
      "state": {
       "flex": "2"
      }
     },
     "22623cc693b1413a98c2d2e9920a7fe0": {
      "model_module": "@jupyter-widgets/base",
      "model_module_version": "2.0.0",
      "model_name": "LayoutModel",
      "state": {
       "flex": "2"
      }
     },
     "2301b7441cc3477982b1871cd8f84b69": {
      "model_module": "@jupyter-widgets/base",
      "model_module_version": "2.0.0",
      "model_name": "LayoutModel",
      "state": {}
     },
     "237b855a0f6c4022ae8c06185479e1ec": {
      "model_module": "@jupyter-widgets/base",
      "model_module_version": "2.0.0",
      "model_name": "LayoutModel",
      "state": {}
     },
     "23979418f8054b259df32d1cdf270f23": {
      "model_module": "@jupyter-widgets/controls",
      "model_module_version": "2.0.0",
      "model_name": "HTMLStyleModel",
      "state": {
       "description_width": "",
       "font_size": null,
       "text_color": null
      }
     },
     "23a64a5c02074a87ad08fdb4081e784a": {
      "model_module": "@jupyter-widgets/base",
      "model_module_version": "2.0.0",
      "model_name": "LayoutModel",
      "state": {}
     },
     "23b2bcfd03744877b0878e0e174beeff": {
      "model_module": "@jupyter-widgets/controls",
      "model_module_version": "2.0.0",
      "model_name": "FloatProgressModel",
      "state": {
       "layout": "IPY_MODEL_a597ed87251347d7a2d65f4f89086ed0",
       "max": 94,
       "style": "IPY_MODEL_467cda0b19dc4766b094c6d64e98ec4e",
       "value": 94
      }
     },
     "23b2e7e83e984630ae47343762a7f475": {
      "model_module": "@jupyter-widgets/controls",
      "model_module_version": "2.0.0",
      "model_name": "HBoxModel",
      "state": {
       "children": [
        "IPY_MODEL_15c2757d00df4d73a60285b9033b6ab5",
        "IPY_MODEL_8daf9278be224dae84bbbb46abaf8b31",
        "IPY_MODEL_ac0483cc29cd451bb8e0f60d3fc71c5a"
       ],
       "layout": "IPY_MODEL_918c09e3d6a24e8387320839717ce9e2"
      }
     },
     "247356bfc41346e1b17fbff3806aea75": {
      "model_module": "@jupyter-widgets/controls",
      "model_module_version": "2.0.0",
      "model_name": "HTMLModel",
      "state": {
       "layout": "IPY_MODEL_6f52e05d36ce4c2b91f5cebf6a353b0e",
       "style": "IPY_MODEL_b5c8fac78d174af08b08f795f31f9295",
       "value": "Validation DataLoader 0: 100%"
      }
     },
     "2492b31a65394ca997c84d4d9874b66a": {
      "model_module": "@jupyter-widgets/base",
      "model_module_version": "2.0.0",
      "model_name": "LayoutModel",
      "state": {
       "flex": "2"
      }
     },
     "24b44ad3a81842749f82d1df5136a235": {
      "model_module": "@jupyter-widgets/base",
      "model_module_version": "2.0.0",
      "model_name": "LayoutModel",
      "state": {
       "flex": "2"
      }
     },
     "24c95b12babd4415b5896a084a0ff685": {
      "model_module": "@jupyter-widgets/controls",
      "model_module_version": "2.0.0",
      "model_name": "HTMLStyleModel",
      "state": {
       "description_width": "",
       "font_size": null,
       "text_color": null
      }
     },
     "2503878378f643f5abbc544139b9f33d": {
      "model_module": "@jupyter-widgets/controls",
      "model_module_version": "2.0.0",
      "model_name": "ProgressStyleModel",
      "state": {
       "description_width": ""
      }
     },
     "25051f56b4e145d8828c14a3f6f55b01": {
      "model_module": "@jupyter-widgets/controls",
      "model_module_version": "2.0.0",
      "model_name": "HTMLModel",
      "state": {
       "layout": "IPY_MODEL_c6b75362355343ff9ce90540de2c8867",
       "style": "IPY_MODEL_aa38c64f4625455ba7a3ecbd13eaf545",
       "value": "Validation DataLoader 0: 100%"
      }
     },
     "2554529ca74c492ca5227af82d106487": {
      "model_module": "@jupyter-widgets/controls",
      "model_module_version": "2.0.0",
      "model_name": "HTMLStyleModel",
      "state": {
       "description_width": "",
       "font_size": null,
       "text_color": null
      }
     },
     "258f72b6f01d4e999290b9dcf46cdbd7": {
      "model_module": "@jupyter-widgets/controls",
      "model_module_version": "2.0.0",
      "model_name": "HTMLStyleModel",
      "state": {
       "description_width": "",
       "font_size": null,
       "text_color": null
      }
     },
     "259b8f933894450ca8cc96cffcb3ab32": {
      "model_module": "@jupyter-widgets/base",
      "model_module_version": "2.0.0",
      "model_name": "LayoutModel",
      "state": {}
     },
     "25d64093b97841b9ad3d974a36981982": {
      "model_module": "@jupyter-widgets/base",
      "model_module_version": "2.0.0",
      "model_name": "LayoutModel",
      "state": {}
     },
     "25f92b5b4815445a90814675147b3a4c": {
      "model_module": "@jupyter-widgets/controls",
      "model_module_version": "2.0.0",
      "model_name": "HTMLModel",
      "state": {
       "layout": "IPY_MODEL_e48a65ed568c4b46b05ce2efe800c0a2",
       "style": "IPY_MODEL_2aaac870221e42fe94c9ae05195d1e9e",
       "value": "Validation DataLoader 0: 100%"
      }
     },
     "25f9d8b47cfc47f3a8817c393b2f96e5": {
      "model_module": "@jupyter-widgets/controls",
      "model_module_version": "2.0.0",
      "model_name": "HTMLStyleModel",
      "state": {
       "description_width": "",
       "font_size": null,
       "text_color": null
      }
     },
     "267fb9f901ee4d5b906deb3efa6d6887": {
      "model_module": "@jupyter-widgets/controls",
      "model_module_version": "2.0.0",
      "model_name": "HTMLModel",
      "state": {
       "layout": "IPY_MODEL_08e1f1f7bcff41568942e02d094edfbb",
       "style": "IPY_MODEL_db827286ac1240968e8a17f164b7fad0",
       "value": " 94/94 [00:00&lt;00:00, 142.14it/s]"
      }
     },
     "26972f0fda01413d8b569c390f424a1f": {
      "model_module": "@jupyter-widgets/base",
      "model_module_version": "2.0.0",
      "model_name": "LayoutModel",
      "state": {
       "display": "inline-flex",
       "flex_flow": "row wrap",
       "visibility": "hidden",
       "width": "100%"
      }
     },
     "26a14aac2f28404e95bac93d6f280b77": {
      "model_module": "@jupyter-widgets/controls",
      "model_module_version": "2.0.0",
      "model_name": "ProgressStyleModel",
      "state": {
       "description_width": ""
      }
     },
     "26ae5840e5d84f53bf04607172dda995": {
      "model_module": "@jupyter-widgets/base",
      "model_module_version": "2.0.0",
      "model_name": "LayoutModel",
      "state": {
       "display": "inline-flex",
       "flex_flow": "row wrap",
       "visibility": "hidden",
       "width": "100%"
      }
     },
     "26e195c56cf7455a968c1c1900f826e3": {
      "model_module": "@jupyter-widgets/controls",
      "model_module_version": "2.0.0",
      "model_name": "HTMLModel",
      "state": {
       "layout": "IPY_MODEL_4bd679ebfbd9497b864d5cbe16048851",
       "style": "IPY_MODEL_966c8dd81d4346d7a13d97b20fe57d47",
       "value": " 94/94 [00:00&lt;00:00, 185.68it/s]"
      }
     },
     "275ada2ca13049899cfc34805a2f4f26": {
      "model_module": "@jupyter-widgets/base",
      "model_module_version": "2.0.0",
      "model_name": "LayoutModel",
      "state": {
       "display": "inline-flex",
       "flex_flow": "row wrap",
       "visibility": "hidden",
       "width": "100%"
      }
     },
     "28223dce34344e1ca3756b4a5e76315e": {
      "model_module": "@jupyter-widgets/controls",
      "model_module_version": "2.0.0",
      "model_name": "ProgressStyleModel",
      "state": {
       "description_width": ""
      }
     },
     "2832fdd1041c4d198601ec42a238979d": {
      "model_module": "@jupyter-widgets/base",
      "model_module_version": "2.0.0",
      "model_name": "LayoutModel",
      "state": {}
     },
     "286f0e8673214664ada14a6d4da9c068": {
      "model_module": "@jupyter-widgets/controls",
      "model_module_version": "2.0.0",
      "model_name": "HTMLModel",
      "state": {
       "layout": "IPY_MODEL_b7af9d2c977940b18afd4515a4a1b6a8",
       "style": "IPY_MODEL_db77e915d55c42d8bf278080ef006319",
       "value": "Validation DataLoader 0: 100%"
      }
     },
     "28c4904e6fbc4e14b11697bf6230e671": {
      "model_module": "@jupyter-widgets/controls",
      "model_module_version": "2.0.0",
      "model_name": "HTMLStyleModel",
      "state": {
       "description_width": "",
       "font_size": null,
       "text_color": null
      }
     },
     "28eaf428510d4c9fb6a65985ac22f24e": {
      "model_module": "@jupyter-widgets/base",
      "model_module_version": "2.0.0",
      "model_name": "LayoutModel",
      "state": {
       "display": "inline-flex",
       "flex_flow": "row wrap",
       "visibility": "hidden",
       "width": "100%"
      }
     },
     "290b585851f84d43ba4e24572015b5d9": {
      "model_module": "@jupyter-widgets/base",
      "model_module_version": "2.0.0",
      "model_name": "LayoutModel",
      "state": {}
     },
     "298fd78eeead4cffbc33863ec55a76a3": {
      "model_module": "@jupyter-widgets/controls",
      "model_module_version": "2.0.0",
      "model_name": "FloatProgressModel",
      "state": {
       "layout": "IPY_MODEL_e707271a32084d00b27b0cb3e0298696",
       "max": 94,
       "style": "IPY_MODEL_54481f5b11224324ac37841113402474",
       "value": 94
      }
     },
     "29b3d79404884446943f5f8df2beb3af": {
      "model_module": "@jupyter-widgets/controls",
      "model_module_version": "2.0.0",
      "model_name": "HTMLStyleModel",
      "state": {
       "description_width": "",
       "font_size": null,
       "text_color": null
      }
     },
     "29b4d4af850846439d8d967fc903fbc7": {
      "model_module": "@jupyter-widgets/controls",
      "model_module_version": "2.0.0",
      "model_name": "HTMLModel",
      "state": {
       "layout": "IPY_MODEL_783cfaa908874e39acf0c5e5cb4a0cd8",
       "style": "IPY_MODEL_0071d2179001410eaa01f7bf1e6a8883",
       "value": " 94/94 [00:00&lt;00:00, 156.43it/s]"
      }
     },
     "2aaac870221e42fe94c9ae05195d1e9e": {
      "model_module": "@jupyter-widgets/controls",
      "model_module_version": "2.0.0",
      "model_name": "HTMLStyleModel",
      "state": {
       "description_width": "",
       "font_size": null,
       "text_color": null
      }
     },
     "2ab939e9d97f4f908b42fdc59c89dad0": {
      "model_module": "@jupyter-widgets/base",
      "model_module_version": "2.0.0",
      "model_name": "LayoutModel",
      "state": {
       "flex": "2"
      }
     },
     "2acc9114eaf44b29a9d3ebc6201650b8": {
      "model_module": "@jupyter-widgets/controls",
      "model_module_version": "2.0.0",
      "model_name": "HTMLStyleModel",
      "state": {
       "description_width": "",
       "font_size": null,
       "text_color": null
      }
     },
     "2af33a25b22c4b2d8206fe8e3475fe54": {
      "model_module": "@jupyter-widgets/base",
      "model_module_version": "2.0.0",
      "model_name": "LayoutModel",
      "state": {
       "flex": "2"
      }
     },
     "2b2245b4012c4b03b48f9ad4cdf17796": {
      "model_module": "@jupyter-widgets/controls",
      "model_module_version": "2.0.0",
      "model_name": "ProgressStyleModel",
      "state": {
       "description_width": ""
      }
     },
     "2b2c046416014d8c80873ea48ba5c02c": {
      "model_module": "@jupyter-widgets/controls",
      "model_module_version": "2.0.0",
      "model_name": "FloatProgressModel",
      "state": {
       "layout": "IPY_MODEL_2ab939e9d97f4f908b42fdc59c89dad0",
       "max": 94,
       "style": "IPY_MODEL_f5ffc87fbade46cd83250b0d33bd3a5e",
       "value": 94
      }
     },
     "2b8a8de3b011418d8760d2bd500dc70d": {
      "model_module": "@jupyter-widgets/base",
      "model_module_version": "2.0.0",
      "model_name": "LayoutModel",
      "state": {}
     },
     "2c015a4802804293892b74cf986f0d85": {
      "model_module": "@jupyter-widgets/controls",
      "model_module_version": "2.0.0",
      "model_name": "HTMLModel",
      "state": {
       "layout": "IPY_MODEL_948251adbc314b5fb0a6bc4e61bec8c1",
       "style": "IPY_MODEL_9e6f96e482604cc68ee563454b88b059",
       "value": " 94/94 [00:00&lt;00:00, 154.33it/s]"
      }
     },
     "2c262e7d69e740f3aee71be349f17f07": {
      "model_module": "@jupyter-widgets/base",
      "model_module_version": "2.0.0",
      "model_name": "LayoutModel",
      "state": {}
     },
     "2d19825aadb1409a8ebdbe223e4140e0": {
      "model_module": "@jupyter-widgets/controls",
      "model_module_version": "2.0.0",
      "model_name": "FloatProgressModel",
      "state": {
       "layout": "IPY_MODEL_990819b5b4b6467fad0394ac1bb40c48",
       "max": 94,
       "style": "IPY_MODEL_8ee9f87fd5684edb96567b786c0c10c6",
       "value": 94
      }
     },
     "2df18e4d02c94edcb0810bd3d66484c9": {
      "model_module": "@jupyter-widgets/base",
      "model_module_version": "2.0.0",
      "model_name": "LayoutModel",
      "state": {}
     },
     "2df5202816c740c99882a5032e732875": {
      "model_module": "@jupyter-widgets/base",
      "model_module_version": "2.0.0",
      "model_name": "LayoutModel",
      "state": {
       "display": "inline-flex",
       "flex_flow": "row wrap",
       "visibility": "hidden",
       "width": "100%"
      }
     },
     "2ece143e64df4e9fa41e73a3c8366ca1": {
      "model_module": "@jupyter-widgets/controls",
      "model_module_version": "2.0.0",
      "model_name": "HTMLModel",
      "state": {
       "layout": "IPY_MODEL_3b581193287a47f6b265b67072312811",
       "style": "IPY_MODEL_4ea397a77d3f4a89b5af8ad9543206b5",
       "value": " 94/94 [00:00&lt;00:00, 141.95it/s]"
      }
     },
     "314a9f5d3fdb42578158d9aae8354872": {
      "model_module": "@jupyter-widgets/controls",
      "model_module_version": "2.0.0",
      "model_name": "HTMLModel",
      "state": {
       "layout": "IPY_MODEL_b1a0bc1a85114754ab681bdb08c1ab7e",
       "style": "IPY_MODEL_95ad91838ad6494fb40703679244b9a0",
       "value": "Finding best initial lr:  87%"
      }
     },
     "317d1f6f9608454588ccd3806b08e000": {
      "model_module": "@jupyter-widgets/controls",
      "model_module_version": "2.0.0",
      "model_name": "FloatProgressModel",
      "state": {
       "layout": "IPY_MODEL_20e79ed197a04bee9422fc949d303414",
       "max": 94,
       "style": "IPY_MODEL_997ec528e3a042fd9ae193d2d392dd89",
       "value": 94
      }
     },
     "31a946b9801541dd87ba220fc7f22f1f": {
      "model_module": "@jupyter-widgets/base",
      "model_module_version": "2.0.0",
      "model_name": "LayoutModel",
      "state": {}
     },
     "31ac8b353cd24891a0659db576dbad08": {
      "model_module": "@jupyter-widgets/controls",
      "model_module_version": "2.0.0",
      "model_name": "FloatProgressModel",
      "state": {
       "layout": "IPY_MODEL_0a791c224cc34dc4bd4bacaf5360eb1d",
       "max": 94,
       "style": "IPY_MODEL_4839ee11016e4dc2903d44d92ba06af6",
       "value": 94
      }
     },
     "3221d76145874914a817ba488e6a40e3": {
      "model_module": "@jupyter-widgets/base",
      "model_module_version": "2.0.0",
      "model_name": "LayoutModel",
      "state": {}
     },
     "3273c1f592a14021ac0d143a05954d02": {
      "model_module": "@jupyter-widgets/base",
      "model_module_version": "2.0.0",
      "model_name": "LayoutModel",
      "state": {
       "flex": "2"
      }
     },
     "327e0ddeefd74ca1889b5f39ef466d76": {
      "model_module": "@jupyter-widgets/base",
      "model_module_version": "2.0.0",
      "model_name": "LayoutModel",
      "state": {}
     },
     "32a87d70e48a40fb8b69cbcdf6b90266": {
      "model_module": "@jupyter-widgets/controls",
      "model_module_version": "2.0.0",
      "model_name": "HTMLStyleModel",
      "state": {
       "description_width": "",
       "font_size": null,
       "text_color": null
      }
     },
     "338515aa663a42429473431a0c9990ed": {
      "model_module": "@jupyter-widgets/controls",
      "model_module_version": "2.0.0",
      "model_name": "ProgressStyleModel",
      "state": {
       "description_width": ""
      }
     },
     "3468baa254ed479fb276eabf2fda3498": {
      "model_module": "@jupyter-widgets/base",
      "model_module_version": "2.0.0",
      "model_name": "LayoutModel",
      "state": {
       "display": "inline-flex",
       "flex_flow": "row wrap",
       "visibility": "hidden",
       "width": "100%"
      }
     },
     "3494497e34504d3bb6f8c76c6fe7cc86": {
      "model_module": "@jupyter-widgets/controls",
      "model_module_version": "2.0.0",
      "model_name": "HTMLStyleModel",
      "state": {
       "description_width": "",
       "font_size": null,
       "text_color": null
      }
     },
     "34bc81c86e1e42b98536a6a3de273d80": {
      "model_module": "@jupyter-widgets/base",
      "model_module_version": "2.0.0",
      "model_name": "LayoutModel",
      "state": {}
     },
     "353586c0a0e2467ca09b01b56648ac7f": {
      "model_module": "@jupyter-widgets/controls",
      "model_module_version": "2.0.0",
      "model_name": "ProgressStyleModel",
      "state": {
       "description_width": ""
      }
     },
     "354e3a4d7f6543bc8cf345e2e7760eb4": {
      "model_module": "@jupyter-widgets/controls",
      "model_module_version": "2.0.0",
      "model_name": "HTMLStyleModel",
      "state": {
       "description_width": "",
       "font_size": null,
       "text_color": null
      }
     },
     "35dbd392ddf346da982946ac9c16b286": {
      "model_module": "@jupyter-widgets/base",
      "model_module_version": "2.0.0",
      "model_name": "LayoutModel",
      "state": {}
     },
     "36237029908b43e694283dded5faa142": {
      "model_module": "@jupyter-widgets/controls",
      "model_module_version": "2.0.0",
      "model_name": "HTMLStyleModel",
      "state": {
       "description_width": "",
       "font_size": null,
       "text_color": null
      }
     },
     "36384888d7c942aa900aca8febce2045": {
      "model_module": "@jupyter-widgets/controls",
      "model_module_version": "2.0.0",
      "model_name": "HTMLModel",
      "state": {
       "layout": "IPY_MODEL_cb1487f15d8f43f9bcbb63b9ef9f0c16",
       "style": "IPY_MODEL_746c2e6707904a069e9448f4df726bf8",
       "value": "Validation DataLoader 0: 100%"
      }
     },
     "367c287a74784b2c950056f4b066c9a3": {
      "model_module": "@jupyter-widgets/controls",
      "model_module_version": "2.0.0",
      "model_name": "HTMLModel",
      "state": {
       "layout": "IPY_MODEL_63dee4d0ae8a42ac91bbf5bf77637139",
       "style": "IPY_MODEL_f7a08825fa5a48508615d5bbd033f3d7",
       "value": "Validation DataLoader 0: 100%"
      }
     },
     "36e02af80f274e40811dae5b6f9a2865": {
      "model_module": "@jupyter-widgets/base",
      "model_module_version": "2.0.0",
      "model_name": "LayoutModel",
      "state": {
       "display": "inline-flex",
       "flex_flow": "row wrap",
       "visibility": "hidden",
       "width": "100%"
      }
     },
     "3706f6b55246405e849fe12c352a7ab3": {
      "model_module": "@jupyter-widgets/base",
      "model_module_version": "2.0.0",
      "model_name": "LayoutModel",
      "state": {
       "display": "inline-flex",
       "flex_flow": "row wrap",
       "visibility": "hidden",
       "width": "100%"
      }
     },
     "370d170986ed44558fdba8ee70557696": {
      "model_module": "@jupyter-widgets/controls",
      "model_module_version": "2.0.0",
      "model_name": "HTMLModel",
      "state": {
       "layout": "IPY_MODEL_9605345113294c67bc79e409a67ffa57",
       "style": "IPY_MODEL_c50226d6bc5d4d9da604c99c8d2a63ec",
       "value": "Validation DataLoader 0: 100%"
      }
     },
     "37758f0e398f46b3a05cb582130b167c": {
      "model_module": "@jupyter-widgets/controls",
      "model_module_version": "2.0.0",
      "model_name": "HTMLModel",
      "state": {
       "layout": "IPY_MODEL_31a946b9801541dd87ba220fc7f22f1f",
       "style": "IPY_MODEL_4fe093101e744ab5bdfe6502d5b859e8",
       "value": "Validation DataLoader 0: 100%"
      }
     },
     "37b1380964304b7688f04c88639887c8": {
      "model_module": "@jupyter-widgets/base",
      "model_module_version": "2.0.0",
      "model_name": "LayoutModel",
      "state": {}
     },
     "37bc7e7e90154fcc91d6862791c5d582": {
      "model_module": "@jupyter-widgets/base",
      "model_module_version": "2.0.0",
      "model_name": "LayoutModel",
      "state": {}
     },
     "37f6bb06be1c4c888f73deefe191e6e8": {
      "model_module": "@jupyter-widgets/controls",
      "model_module_version": "2.0.0",
      "model_name": "ProgressStyleModel",
      "state": {
       "description_width": ""
      }
     },
     "386452f9f4224eb48e05a53ac9d55ba3": {
      "model_module": "@jupyter-widgets/base",
      "model_module_version": "2.0.0",
      "model_name": "LayoutModel",
      "state": {
       "display": "inline-flex",
       "flex_flow": "row wrap",
       "visibility": "hidden",
       "width": "100%"
      }
     },
     "38dc299ba6074d2b82f31669531b110c": {
      "model_module": "@jupyter-widgets/controls",
      "model_module_version": "2.0.0",
      "model_name": "ProgressStyleModel",
      "state": {
       "description_width": ""
      }
     },
     "38ebd6a41916466cbae8d268cf5e8fb1": {
      "model_module": "@jupyter-widgets/controls",
      "model_module_version": "2.0.0",
      "model_name": "HTMLStyleModel",
      "state": {
       "description_width": "",
       "font_size": null,
       "text_color": null
      }
     },
     "38fb2507285d411daa2704494a6508c3": {
      "model_module": "@jupyter-widgets/controls",
      "model_module_version": "2.0.0",
      "model_name": "HTMLStyleModel",
      "state": {
       "description_width": "",
       "font_size": null,
       "text_color": null
      }
     },
     "3a02d3f25ca14ab992c08e9e01647bbb": {
      "model_module": "@jupyter-widgets/controls",
      "model_module_version": "2.0.0",
      "model_name": "FloatProgressModel",
      "state": {
       "layout": "IPY_MODEL_610a3d9c40774724a19824037ace6e8b",
       "max": 94,
       "style": "IPY_MODEL_bdff96cd02d049a594f8402bc378bac5",
       "value": 94
      }
     },
     "3a823a996a4d40fa932737a959e5adc9": {
      "model_module": "@jupyter-widgets/base",
      "model_module_version": "2.0.0",
      "model_name": "LayoutModel",
      "state": {}
     },
     "3aa6a4866b114564bda457d0a614ca73": {
      "model_module": "@jupyter-widgets/base",
      "model_module_version": "2.0.0",
      "model_name": "LayoutModel",
      "state": {
       "flex": "2"
      }
     },
     "3ac6516f1e874e2f8310377a24c59cd0": {
      "model_module": "@jupyter-widgets/controls",
      "model_module_version": "2.0.0",
      "model_name": "HTMLModel",
      "state": {
       "layout": "IPY_MODEL_f86f4528dfe34f21abc29d7475dfc011",
       "style": "IPY_MODEL_a8d1c9cf7c3c470c9360737a08120067",
       "value": "Validation DataLoader 0: 100%"
      }
     },
     "3b581193287a47f6b265b67072312811": {
      "model_module": "@jupyter-widgets/base",
      "model_module_version": "2.0.0",
      "model_name": "LayoutModel",
      "state": {}
     },
     "3b6014abaa514eccb64cdfbf88ab7ac5": {
      "model_module": "@jupyter-widgets/controls",
      "model_module_version": "2.0.0",
      "model_name": "ProgressStyleModel",
      "state": {
       "description_width": ""
      }
     },
     "3b79815d2fc745b89596806596e63539": {
      "model_module": "@jupyter-widgets/base",
      "model_module_version": "2.0.0",
      "model_name": "LayoutModel",
      "state": {
       "display": "inline-flex",
       "flex_flow": "row wrap",
       "visibility": "hidden",
       "width": "100%"
      }
     },
     "3bb63b8cef924fce98b08cf9ad132d8c": {
      "model_module": "@jupyter-widgets/controls",
      "model_module_version": "2.0.0",
      "model_name": "HTMLStyleModel",
      "state": {
       "description_width": "",
       "font_size": null,
       "text_color": null
      }
     },
     "3c31601bf5724e318add7621c1035875": {
      "model_module": "@jupyter-widgets/controls",
      "model_module_version": "2.0.0",
      "model_name": "HTMLModel",
      "state": {
       "layout": "IPY_MODEL_b3651a9b08b2426b9a6921395a2e261e",
       "style": "IPY_MODEL_f3b0ded07001425a80e1a0e4d0a6927a",
       "value": "Sanity Checking DataLoader 0: 100%"
      }
     },
     "3d17f5b774a04580bdeee2031b958ff3": {
      "model_module": "@jupyter-widgets/base",
      "model_module_version": "2.0.0",
      "model_name": "LayoutModel",
      "state": {
       "flex": "2"
      }
     },
     "3d4dac3fc7e7478ea652d41f98bcfd14": {
      "model_module": "@jupyter-widgets/controls",
      "model_module_version": "2.0.0",
      "model_name": "HTMLStyleModel",
      "state": {
       "description_width": "",
       "font_size": null,
       "text_color": null
      }
     },
     "3dfa026dc9c04b2daeb8ad8ed4d674ce": {
      "model_module": "@jupyter-widgets/controls",
      "model_module_version": "2.0.0",
      "model_name": "HTMLModel",
      "state": {
       "layout": "IPY_MODEL_01619a04661647efb5e683ecf7a2bcfd",
       "style": "IPY_MODEL_903130fcc6bf462bb7074eb7e7ae2fbf",
       "value": "Validation DataLoader 0: 100%"
      }
     },
     "3e90efa79ebb4f4eb1eabd266ceea554": {
      "model_module": "@jupyter-widgets/controls",
      "model_module_version": "2.0.0",
      "model_name": "HTMLStyleModel",
      "state": {
       "description_width": "",
       "font_size": null,
       "text_color": null
      }
     },
     "3ed423912c734c74a821807c3864d688": {
      "model_module": "@jupyter-widgets/controls",
      "model_module_version": "2.0.0",
      "model_name": "HTMLStyleModel",
      "state": {
       "description_width": "",
       "font_size": null,
       "text_color": null
      }
     },
     "3f05fc56e9454dcca0ba210fe1f28da6": {
      "model_module": "@jupyter-widgets/controls",
      "model_module_version": "2.0.0",
      "model_name": "FloatProgressModel",
      "state": {
       "layout": "IPY_MODEL_ce961091d9254275951796e305b30ac6",
       "max": 94,
       "style": "IPY_MODEL_38dc299ba6074d2b82f31669531b110c",
       "value": 94
      }
     },
     "3f780ca4130e46878f5927ddf6f5813c": {
      "model_module": "@jupyter-widgets/base",
      "model_module_version": "2.0.0",
      "model_name": "LayoutModel",
      "state": {
       "display": "inline-flex",
       "flex_flow": "row wrap",
       "visibility": "hidden",
       "width": "100%"
      }
     },
     "3fe3486d787c4d48a2f2014b845ab366": {
      "model_module": "@jupyter-widgets/controls",
      "model_module_version": "2.0.0",
      "model_name": "HTMLStyleModel",
      "state": {
       "description_width": "",
       "font_size": null,
       "text_color": null
      }
     },
     "3ff181237790479f9782f51cceebff85": {
      "model_module": "@jupyter-widgets/controls",
      "model_module_version": "2.0.0",
      "model_name": "HTMLModel",
      "state": {
       "layout": "IPY_MODEL_771ed110f8024e20ada18bbd745dd3e6",
       "style": "IPY_MODEL_e1090baa43aa4bf3bbe92c94a6bf2c17",
       "value": "Validation DataLoader 0: 100%"
      }
     },
     "406c809c10924d9a8c1c4c3120a3aa8f": {
      "model_module": "@jupyter-widgets/base",
      "model_module_version": "2.0.0",
      "model_name": "LayoutModel",
      "state": {
       "display": "inline-flex",
       "flex_flow": "row wrap",
       "visibility": "hidden",
       "width": "100%"
      }
     },
     "40b3b665dfe84b9c9746a5361bf41f0d": {
      "model_module": "@jupyter-widgets/base",
      "model_module_version": "2.0.0",
      "model_name": "LayoutModel",
      "state": {
       "display": "inline-flex",
       "flex_flow": "row wrap",
       "visibility": "hidden",
       "width": "100%"
      }
     },
     "40c28b71df394858be75831e1a388b81": {
      "model_module": "@jupyter-widgets/controls",
      "model_module_version": "2.0.0",
      "model_name": "HTMLModel",
      "state": {
       "layout": "IPY_MODEL_a2067b1c82db4cf4926930dda429398b",
       "style": "IPY_MODEL_21c4193d16064e649278ce0b7e9e3956",
       "value": " 94/94 [00:00&lt;00:00, 205.13it/s]"
      }
     },
     "4113065593f3473da27e33bbbff0c5ab": {
      "model_module": "@jupyter-widgets/controls",
      "model_module_version": "2.0.0",
      "model_name": "ProgressStyleModel",
      "state": {
       "description_width": ""
      }
     },
     "420e9b10f11b4d808f291cd2c0c8214b": {
      "model_module": "@jupyter-widgets/controls",
      "model_module_version": "2.0.0",
      "model_name": "HTMLModel",
      "state": {
       "layout": "IPY_MODEL_74d634d8cf124880829a985d604852b8",
       "style": "IPY_MODEL_b807ea35db814a94b6da77af6d7f0246",
       "value": " 375/375 [00:13&lt;00:00, 27.97it/s, v_num=3, val_loss=0.189, train_loss=0.188, learning_rate=1.1e-9]"
      }
     },
     "4266670665bf4700859a97f25329bf16": {
      "model_module": "@jupyter-widgets/base",
      "model_module_version": "2.0.0",
      "model_name": "LayoutModel",
      "state": {}
     },
     "42c3e5e5cbdb46d1b2b8718e82f29d2c": {
      "model_module": "@jupyter-widgets/controls",
      "model_module_version": "2.0.0",
      "model_name": "HTMLModel",
      "state": {
       "layout": "IPY_MODEL_5470a1eb38fd490cb09addfae1e0eeec",
       "style": "IPY_MODEL_7d1d000ae5ea481fa3313d5161ed45a7",
       "value": " 94/94 [00:00&lt;00:00, 175.92it/s]"
      }
     },
     "42f2f10e2b574366a2c6292cc2f5c5b2": {
      "model_module": "@jupyter-widgets/controls",
      "model_module_version": "2.0.0",
      "model_name": "HTMLStyleModel",
      "state": {
       "description_width": "",
       "font_size": null,
       "text_color": null
      }
     },
     "42fe0f6c64184bc09489b72b1e09bea1": {
      "model_module": "@jupyter-widgets/base",
      "model_module_version": "2.0.0",
      "model_name": "LayoutModel",
      "state": {}
     },
     "4359f28f60384df5b74fc1ba2e7f91b0": {
      "model_module": "@jupyter-widgets/base",
      "model_module_version": "2.0.0",
      "model_name": "LayoutModel",
      "state": {}
     },
     "43ac5fed2eda4fc69cb589d6b8fe55e0": {
      "model_module": "@jupyter-widgets/controls",
      "model_module_version": "2.0.0",
      "model_name": "HTMLStyleModel",
      "state": {
       "description_width": "",
       "font_size": null,
       "text_color": null
      }
     },
     "446591243e554a31b432dbd43234e242": {
      "model_module": "@jupyter-widgets/controls",
      "model_module_version": "2.0.0",
      "model_name": "HTMLStyleModel",
      "state": {
       "description_width": "",
       "font_size": null,
       "text_color": null
      }
     },
     "4497a66d9dc544a0b2ce471359270394": {
      "model_module": "@jupyter-widgets/controls",
      "model_module_version": "2.0.0",
      "model_name": "ProgressStyleModel",
      "state": {
       "description_width": ""
      }
     },
     "44be9576b397400dae3ac3ad2ae34766": {
      "model_module": "@jupyter-widgets/controls",
      "model_module_version": "2.0.0",
      "model_name": "ProgressStyleModel",
      "state": {
       "description_width": ""
      }
     },
     "44cfc26e473e441c85ad4348e645c79a": {
      "model_module": "@jupyter-widgets/controls",
      "model_module_version": "2.0.0",
      "model_name": "HTMLModel",
      "state": {
       "layout": "IPY_MODEL_d2735e916e2149918d565523bd9e5cfa",
       "style": "IPY_MODEL_67cf4880f30d49889c4229a2769af6a5",
       "value": " 94/94 [00:00&lt;00:00, 183.94it/s]"
      }
     },
     "4571da0feca64ea0a8520790e933a503": {
      "model_module": "@jupyter-widgets/base",
      "model_module_version": "2.0.0",
      "model_name": "LayoutModel",
      "state": {}
     },
     "4591c8984c984e2e8bea7cae431d8bb9": {
      "model_module": "@jupyter-widgets/controls",
      "model_module_version": "2.0.0",
      "model_name": "HBoxModel",
      "state": {
       "children": [
        "IPY_MODEL_75cc824cdb0b4c438f894fd83a0547d8",
        "IPY_MODEL_f90c02f957254e2abeea223baf5163e7",
        "IPY_MODEL_b606e69ed31a46d38b99e5425b8ff9f8"
       ],
       "layout": "IPY_MODEL_1f87c68af14c424b841e481c112ffe5e"
      }
     },
     "45cdfa5e3df44a1aa22793bf2e4d8300": {
      "model_module": "@jupyter-widgets/controls",
      "model_module_version": "2.0.0",
      "model_name": "ProgressStyleModel",
      "state": {
       "description_width": ""
      }
     },
     "467cda0b19dc4766b094c6d64e98ec4e": {
      "model_module": "@jupyter-widgets/controls",
      "model_module_version": "2.0.0",
      "model_name": "ProgressStyleModel",
      "state": {
       "description_width": ""
      }
     },
     "46e6bcc109da48aabbfe3303c5405121": {
      "model_module": "@jupyter-widgets/controls",
      "model_module_version": "2.0.0",
      "model_name": "HTMLStyleModel",
      "state": {
       "description_width": "",
       "font_size": null,
       "text_color": null
      }
     },
     "482bae4f42f440948fed2f82ba922482": {
      "model_module": "@jupyter-widgets/controls",
      "model_module_version": "2.0.0",
      "model_name": "FloatProgressModel",
      "state": {
       "layout": "IPY_MODEL_3273c1f592a14021ac0d143a05954d02",
       "max": 94,
       "style": "IPY_MODEL_fd71f74b3611462896607ac0b52908d9",
       "value": 94
      }
     },
     "4839ee11016e4dc2903d44d92ba06af6": {
      "model_module": "@jupyter-widgets/controls",
      "model_module_version": "2.0.0",
      "model_name": "ProgressStyleModel",
      "state": {
       "description_width": ""
      }
     },
     "4932fbcf06564307b48277d262ac078e": {
      "model_module": "@jupyter-widgets/controls",
      "model_module_version": "2.0.0",
      "model_name": "FloatProgressModel",
      "state": {
       "layout": "IPY_MODEL_e2cde202bc5140ca8994c795652524d6",
       "max": 94,
       "style": "IPY_MODEL_58ca85a5080e43eda78a2c0279e582fc",
       "value": 94
      }
     },
     "498a8691e49141f9bb524417a152f6e6": {
      "model_module": "@jupyter-widgets/base",
      "model_module_version": "2.0.0",
      "model_name": "LayoutModel",
      "state": {
       "flex": "2"
      }
     },
     "49966256360642179240170ff355fc66": {
      "model_module": "@jupyter-widgets/base",
      "model_module_version": "2.0.0",
      "model_name": "LayoutModel",
      "state": {}
     },
     "49c5ee6ee2944d33856a58f34c61c064": {
      "model_module": "@jupyter-widgets/controls",
      "model_module_version": "2.0.0",
      "model_name": "ProgressStyleModel",
      "state": {
       "description_width": ""
      }
     },
     "4b078f75887b4e5590542cecf20fe34a": {
      "model_module": "@jupyter-widgets/base",
      "model_module_version": "2.0.0",
      "model_name": "LayoutModel",
      "state": {
       "flex": "2"
      }
     },
     "4bc9bc15726c4cc6b0b84f7de798948a": {
      "model_module": "@jupyter-widgets/controls",
      "model_module_version": "2.0.0",
      "model_name": "HTMLModel",
      "state": {
       "layout": "IPY_MODEL_2df18e4d02c94edcb0810bd3d66484c9",
       "style": "IPY_MODEL_4e28c4c43c0941bb8e47e89274ed1571",
       "value": "Validation DataLoader 0: 100%"
      }
     },
     "4bd5319383b14344971e4bdef193d511": {
      "model_module": "@jupyter-widgets/base",
      "model_module_version": "2.0.0",
      "model_name": "LayoutModel",
      "state": {}
     },
     "4bd679ebfbd9497b864d5cbe16048851": {
      "model_module": "@jupyter-widgets/base",
      "model_module_version": "2.0.0",
      "model_name": "LayoutModel",
      "state": {}
     },
     "4c1ce52c30ab48fd8b57c0ebba31b7ff": {
      "model_module": "@jupyter-widgets/base",
      "model_module_version": "2.0.0",
      "model_name": "LayoutModel",
      "state": {}
     },
     "4d5ed98d661142ec812906c39f84971e": {
      "model_module": "@jupyter-widgets/base",
      "model_module_version": "2.0.0",
      "model_name": "LayoutModel",
      "state": {}
     },
     "4da192bbd61347a299d8086188a7dd09": {
      "model_module": "@jupyter-widgets/base",
      "model_module_version": "2.0.0",
      "model_name": "LayoutModel",
      "state": {
       "display": "inline-flex",
       "flex_flow": "row wrap",
       "visibility": "hidden",
       "width": "100%"
      }
     },
     "4e28c4c43c0941bb8e47e89274ed1571": {
      "model_module": "@jupyter-widgets/controls",
      "model_module_version": "2.0.0",
      "model_name": "HTMLStyleModel",
      "state": {
       "description_width": "",
       "font_size": null,
       "text_color": null
      }
     },
     "4ea397a77d3f4a89b5af8ad9543206b5": {
      "model_module": "@jupyter-widgets/controls",
      "model_module_version": "2.0.0",
      "model_name": "HTMLStyleModel",
      "state": {
       "description_width": "",
       "font_size": null,
       "text_color": null
      }
     },
     "4ec32435286f4245b01142a5d7bfe788": {
      "model_module": "@jupyter-widgets/controls",
      "model_module_version": "2.0.0",
      "model_name": "HTMLModel",
      "state": {
       "layout": "IPY_MODEL_a87ebf474c7c4e19aa0df6386622beef",
       "style": "IPY_MODEL_7fa6759e16074e59a5a83a09cca77b9b",
       "value": " 94/94 [00:00&lt;00:00, 182.91it/s]"
      }
     },
     "4eeb37e2174d46fc9ab697a79e0346ea": {
      "model_module": "@jupyter-widgets/controls",
      "model_module_version": "2.0.0",
      "model_name": "HTMLModel",
      "state": {
       "layout": "IPY_MODEL_d1cff6f3acd1406f8e01cdc82ba4ee8f",
       "style": "IPY_MODEL_da4f43f2d67946edbd1b53c9f12a44e1",
       "value": " 94/94 [00:00&lt;00:00, 196.66it/s]"
      }
     },
     "4f657f05526d463a83d8bfc2fcdb2ee3": {
      "model_module": "@jupyter-widgets/base",
      "model_module_version": "2.0.0",
      "model_name": "LayoutModel",
      "state": {}
     },
     "4f95e627fd014cafb41cb0146c5deb6a": {
      "model_module": "@jupyter-widgets/controls",
      "model_module_version": "2.0.0",
      "model_name": "HTMLModel",
      "state": {
       "layout": "IPY_MODEL_0213ddecb3fc49748b084ec9a3118657",
       "style": "IPY_MODEL_0aaf5f00c5c0457b852c3536634717b5",
       "value": " 94/94 [00:00&lt;00:00, 209.36it/s]"
      }
     },
     "4fe093101e744ab5bdfe6502d5b859e8": {
      "model_module": "@jupyter-widgets/controls",
      "model_module_version": "2.0.0",
      "model_name": "HTMLStyleModel",
      "state": {
       "description_width": "",
       "font_size": null,
       "text_color": null
      }
     },
     "4fe366e0c995424f93c5df5ced7186da": {
      "model_module": "@jupyter-widgets/base",
      "model_module_version": "2.0.0",
      "model_name": "LayoutModel",
      "state": {
       "display": "inline-flex",
       "flex_flow": "row wrap",
       "visibility": "hidden",
       "width": "100%"
      }
     },
     "500617b5b0844a14ab09dae75b53eaa7": {
      "model_module": "@jupyter-widgets/base",
      "model_module_version": "2.0.0",
      "model_name": "LayoutModel",
      "state": {
       "display": "inline-flex",
       "flex_flow": "row wrap",
       "visibility": "hidden",
       "width": "100%"
      }
     },
     "508f815321ed40d88aa437c6ad9a8fb7": {
      "model_module": "@jupyter-widgets/controls",
      "model_module_version": "2.0.0",
      "model_name": "HTMLStyleModel",
      "state": {
       "description_width": "",
       "font_size": null,
       "text_color": null
      }
     },
     "50aa55e6f32042a785973b6694421797": {
      "model_module": "@jupyter-widgets/controls",
      "model_module_version": "2.0.0",
      "model_name": "HTMLModel",
      "state": {
       "layout": "IPY_MODEL_4266670665bf4700859a97f25329bf16",
       "style": "IPY_MODEL_9d2c224a1c774926ac7dc345ef72fa30",
       "value": "Validation DataLoader 0: 100%"
      }
     },
     "50c3c1014dd54b44846e2d288ff54fdc": {
      "model_module": "@jupyter-widgets/base",
      "model_module_version": "2.0.0",
      "model_name": "LayoutModel",
      "state": {
       "display": "inline-flex",
       "flex_flow": "row wrap",
       "visibility": "hidden",
       "width": "100%"
      }
     },
     "51a3897a1ddd49418918f9039ebc8dc7": {
      "model_module": "@jupyter-widgets/controls",
      "model_module_version": "2.0.0",
      "model_name": "HTMLModel",
      "state": {
       "layout": "IPY_MODEL_0e273f264ccc4148b1ebab40b229efe8",
       "style": "IPY_MODEL_28c4904e6fbc4e14b11697bf6230e671",
       "value": "Validation DataLoader 0: 100%"
      }
     },
     "51e3c874da2e4045835cd66a9e242763": {
      "model_module": "@jupyter-widgets/controls",
      "model_module_version": "2.0.0",
      "model_name": "FloatProgressModel",
      "state": {
       "layout": "IPY_MODEL_a667b00839884775b592943013c2960a",
       "max": 94,
       "style": "IPY_MODEL_e2eeb2384f0f4817a4f2a7911e33d7f4",
       "value": 94
      }
     },
     "51f24040c5d940f3a891214a6ac1f58f": {
      "model_module": "@jupyter-widgets/controls",
      "model_module_version": "2.0.0",
      "model_name": "HTMLStyleModel",
      "state": {
       "description_width": "",
       "font_size": null,
       "text_color": null
      }
     },
     "51fca29610fe45eaa7f425c241a5a2b8": {
      "model_module": "@jupyter-widgets/base",
      "model_module_version": "2.0.0",
      "model_name": "LayoutModel",
      "state": {}
     },
     "529ac04aa51a4a3a9f61ea43bdac2cc3": {
      "model_module": "@jupyter-widgets/controls",
      "model_module_version": "2.0.0",
      "model_name": "HTMLStyleModel",
      "state": {
       "description_width": "",
       "font_size": null,
       "text_color": null
      }
     },
     "5346f34f90b644b1affb4a5fe7685f87": {
      "model_module": "@jupyter-widgets/controls",
      "model_module_version": "2.0.0",
      "model_name": "HTMLStyleModel",
      "state": {
       "description_width": "",
       "font_size": null,
       "text_color": null
      }
     },
     "535b17d70f4940f286fc88a4530785bd": {
      "model_module": "@jupyter-widgets/controls",
      "model_module_version": "2.0.0",
      "model_name": "HTMLModel",
      "state": {
       "layout": "IPY_MODEL_87ca6194836c45969337ecaa7d4cb1e6",
       "style": "IPY_MODEL_0d733ad6cc684780863b8db2bf9a0313",
       "value": "Validation DataLoader 0: 100%"
      }
     },
     "536650a429894f02844159dec851b45b": {
      "model_module": "@jupyter-widgets/controls",
      "model_module_version": "2.0.0",
      "model_name": "HTMLModel",
      "state": {
       "layout": "IPY_MODEL_ec95edb749cb487eb138db2ccd445b87",
       "style": "IPY_MODEL_9ab7a1a1d6394c1e9d851069cddd436a",
       "value": " 94/94 [00:00&lt;00:00, 214.48it/s]"
      }
     },
     "536886c1a0b74c1db58d9fa639cc2e0f": {
      "model_module": "@jupyter-widgets/base",
      "model_module_version": "2.0.0",
      "model_name": "LayoutModel",
      "state": {
       "flex": "2"
      }
     },
     "53cadbd8b5b8491bb822fb37feb52d1f": {
      "model_module": "@jupyter-widgets/base",
      "model_module_version": "2.0.0",
      "model_name": "LayoutModel",
      "state": {}
     },
     "5420de39e9dc468e9a82e064b3d24c40": {
      "model_module": "@jupyter-widgets/base",
      "model_module_version": "2.0.0",
      "model_name": "LayoutModel",
      "state": {
       "display": "inline-flex",
       "flex_flow": "row wrap",
       "visibility": "hidden",
       "width": "100%"
      }
     },
     "54481f5b11224324ac37841113402474": {
      "model_module": "@jupyter-widgets/controls",
      "model_module_version": "2.0.0",
      "model_name": "ProgressStyleModel",
      "state": {
       "description_width": ""
      }
     },
     "5470a1eb38fd490cb09addfae1e0eeec": {
      "model_module": "@jupyter-widgets/base",
      "model_module_version": "2.0.0",
      "model_name": "LayoutModel",
      "state": {}
     },
     "549e057a35904ab59d34954b168bb610": {
      "model_module": "@jupyter-widgets/controls",
      "model_module_version": "2.0.0",
      "model_name": "ProgressStyleModel",
      "state": {
       "description_width": ""
      }
     },
     "54aad51c4aeb408b9573a46f4ff4be80": {
      "model_module": "@jupyter-widgets/controls",
      "model_module_version": "2.0.0",
      "model_name": "ProgressStyleModel",
      "state": {
       "description_width": ""
      }
     },
     "5511267e5e864967bc211cf8603c50a5": {
      "model_module": "@jupyter-widgets/controls",
      "model_module_version": "2.0.0",
      "model_name": "FloatProgressModel",
      "state": {
       "layout": "IPY_MODEL_536886c1a0b74c1db58d9fa639cc2e0f",
       "max": 94,
       "style": "IPY_MODEL_f78163aec4b9459cab282d008c49cb08",
       "value": 94
      }
     },
     "5566cfc3658a4323baf111027115f913": {
      "model_module": "@jupyter-widgets/base",
      "model_module_version": "2.0.0",
      "model_name": "LayoutModel",
      "state": {}
     },
     "55a6ac74d0154fa2950f3a5db8f5eeb7": {
      "model_module": "@jupyter-widgets/base",
      "model_module_version": "2.0.0",
      "model_name": "LayoutModel",
      "state": {
       "flex": "2"
      }
     },
     "55af505d95354ea5b8bb0aaaf8911db3": {
      "model_module": "@jupyter-widgets/controls",
      "model_module_version": "2.0.0",
      "model_name": "HTMLStyleModel",
      "state": {
       "description_width": "",
       "font_size": null,
       "text_color": null
      }
     },
     "56956c81288c4768ac8904d70ba5a3e4": {
      "model_module": "@jupyter-widgets/base",
      "model_module_version": "2.0.0",
      "model_name": "LayoutModel",
      "state": {
       "flex": "2"
      }
     },
     "56d4acfdd8cd461a9bc80fc83a127b6b": {
      "model_module": "@jupyter-widgets/base",
      "model_module_version": "2.0.0",
      "model_name": "LayoutModel",
      "state": {
       "display": "inline-flex",
       "flex_flow": "row wrap",
       "visibility": "hidden",
       "width": "100%"
      }
     },
     "57a69e5276de43d8bdc4726096ce425b": {
      "model_module": "@jupyter-widgets/controls",
      "model_module_version": "2.0.0",
      "model_name": "HTMLStyleModel",
      "state": {
       "description_width": "",
       "font_size": null,
       "text_color": null
      }
     },
     "58afcebd97854aeb8ebc70f4ff4303bd": {
      "model_module": "@jupyter-widgets/base",
      "model_module_version": "2.0.0",
      "model_name": "LayoutModel",
      "state": {}
     },
     "58ca85a5080e43eda78a2c0279e582fc": {
      "model_module": "@jupyter-widgets/controls",
      "model_module_version": "2.0.0",
      "model_name": "ProgressStyleModel",
      "state": {
       "description_width": ""
      }
     },
     "5912625e0852477597a66d3e4985e067": {
      "model_module": "@jupyter-widgets/controls",
      "model_module_version": "2.0.0",
      "model_name": "HTMLModel",
      "state": {
       "layout": "IPY_MODEL_259b8f933894450ca8cc96cffcb3ab32",
       "style": "IPY_MODEL_bdfeaa5f1063443a9ccccf015cc2ea1a",
       "value": "Validation DataLoader 0: 100%"
      }
     },
     "592e8f74331c46e1aa278d799a324d2d": {
      "model_module": "@jupyter-widgets/controls",
      "model_module_version": "2.0.0",
      "model_name": "HTMLModel",
      "state": {
       "layout": "IPY_MODEL_a9a7859f160e4e8c863c71b72f863b58",
       "style": "IPY_MODEL_8589efd8fbcf4a22bd5a2d855f29c55e",
       "value": " 94/94 [00:00&lt;00:00, 178.92it/s]"
      }
     },
     "599577b6b18942e38d3780f287339b6b": {
      "model_module": "@jupyter-widgets/base",
      "model_module_version": "2.0.0",
      "model_name": "LayoutModel",
      "state": {
       "display": "inline-flex",
       "flex_flow": "row wrap",
       "visibility": "hidden",
       "width": "100%"
      }
     },
     "59fafdc4a0724f34853d6069996d3951": {
      "model_module": "@jupyter-widgets/controls",
      "model_module_version": "2.0.0",
      "model_name": "HTMLStyleModel",
      "state": {
       "description_width": "",
       "font_size": null,
       "text_color": null
      }
     },
     "5b68136cd6114fe8844982a97ad87b4b": {
      "model_module": "@jupyter-widgets/controls",
      "model_module_version": "2.0.0",
      "model_name": "ProgressStyleModel",
      "state": {
       "description_width": ""
      }
     },
     "5bac9f74b74040119401507afa0237f8": {
      "model_module": "@jupyter-widgets/controls",
      "model_module_version": "2.0.0",
      "model_name": "HTMLModel",
      "state": {
       "layout": "IPY_MODEL_b72b3db403594b7bab8201517d13070c",
       "style": "IPY_MODEL_25f9d8b47cfc47f3a8817c393b2f96e5",
       "value": " 94/94 [00:00&lt;00:00, 162.90it/s]"
      }
     },
     "5bd986891d4148ae91f135c19c96572b": {
      "model_module": "@jupyter-widgets/base",
      "model_module_version": "2.0.0",
      "model_name": "LayoutModel",
      "state": {
       "flex": "2"
      }
     },
     "5cd1da484ba64a9eaa95311649ce146b": {
      "model_module": "@jupyter-widgets/controls",
      "model_module_version": "2.0.0",
      "model_name": "FloatProgressModel",
      "state": {
       "layout": "IPY_MODEL_55a6ac74d0154fa2950f3a5db8f5eeb7",
       "max": 94,
       "style": "IPY_MODEL_afdb1169337542b6bfa9f6e0464a9f25",
       "value": 94
      }
     },
     "5de9528853a944c2a1fd00848c07573d": {
      "model_module": "@jupyter-widgets/controls",
      "model_module_version": "2.0.0",
      "model_name": "ProgressStyleModel",
      "state": {
       "description_width": ""
      }
     },
     "5df1b507a8e54d7d9823357cc945d4ea": {
      "model_module": "@jupyter-widgets/base",
      "model_module_version": "2.0.0",
      "model_name": "LayoutModel",
      "state": {
       "display": "inline-flex",
       "flex_flow": "row wrap",
       "visibility": "hidden",
       "width": "100%"
      }
     },
     "5df712950c5f44ab95ff0dd3a0aa0f16": {
      "model_module": "@jupyter-widgets/base",
      "model_module_version": "2.0.0",
      "model_name": "LayoutModel",
      "state": {
       "display": "inline-flex",
       "flex_flow": "row wrap",
       "visibility": "hidden",
       "width": "100%"
      }
     },
     "5df8d47fef1f4e339983204c5f184f9a": {
      "model_module": "@jupyter-widgets/base",
      "model_module_version": "2.0.0",
      "model_name": "LayoutModel",
      "state": {
       "flex": "2"
      }
     },
     "5e98103be581413d8b8a7e1500551500": {
      "model_module": "@jupyter-widgets/controls",
      "model_module_version": "2.0.0",
      "model_name": "HTMLStyleModel",
      "state": {
       "description_width": "",
       "font_size": null,
       "text_color": null
      }
     },
     "5fab8bc5c07e48dfbb59d3b7dcd338bc": {
      "model_module": "@jupyter-widgets/controls",
      "model_module_version": "2.0.0",
      "model_name": "HTMLModel",
      "state": {
       "layout": "IPY_MODEL_027a4099095c4f1d9c6e200e8cd367e2",
       "style": "IPY_MODEL_1a32f91c8c624dba8cedcc84001255e2",
       "value": " 94/94 [00:00&lt;00:00, 204.51it/s]"
      }
     },
     "606f8c3e213347208295206ea690c9f7": {
      "model_module": "@jupyter-widgets/base",
      "model_module_version": "2.0.0",
      "model_name": "LayoutModel",
      "state": {}
     },
     "607d57aa2c844876bdc756749af544b6": {
      "model_module": "@jupyter-widgets/controls",
      "model_module_version": "2.0.0",
      "model_name": "HTMLStyleModel",
      "state": {
       "description_width": "",
       "font_size": null,
       "text_color": null
      }
     },
     "60ad76608f654f5fb475f57c584fcfda": {
      "model_module": "@jupyter-widgets/controls",
      "model_module_version": "2.0.0",
      "model_name": "HTMLModel",
      "state": {
       "layout": "IPY_MODEL_6fd0f8d0f4244cf2bcda6ba85e518e4e",
       "style": "IPY_MODEL_3e90efa79ebb4f4eb1eabd266ceea554",
       "value": "Validation DataLoader 0: 100%"
      }
     },
     "60cf72ea2120410aa23d64196e7441ef": {
      "model_module": "@jupyter-widgets/base",
      "model_module_version": "2.0.0",
      "model_name": "LayoutModel",
      "state": {}
     },
     "610a3d9c40774724a19824037ace6e8b": {
      "model_module": "@jupyter-widgets/base",
      "model_module_version": "2.0.0",
      "model_name": "LayoutModel",
      "state": {
       "flex": "2"
      }
     },
     "61a0389aca774dea817bf47af1169822": {
      "model_module": "@jupyter-widgets/controls",
      "model_module_version": "2.0.0",
      "model_name": "HTMLStyleModel",
      "state": {
       "description_width": "",
       "font_size": null,
       "text_color": null
      }
     },
     "631b765448c34cdfa360197ced4abaf1": {
      "model_module": "@jupyter-widgets/controls",
      "model_module_version": "2.0.0",
      "model_name": "HTMLStyleModel",
      "state": {
       "description_width": "",
       "font_size": null,
       "text_color": null
      }
     },
     "635a29481dc24769ad3b8586486ae2a2": {
      "model_module": "@jupyter-widgets/controls",
      "model_module_version": "2.0.0",
      "model_name": "ProgressStyleModel",
      "state": {
       "description_width": ""
      }
     },
     "63a4f95bf7a44814bf5e2d180ed8a7ad": {
      "model_module": "@jupyter-widgets/controls",
      "model_module_version": "2.0.0",
      "model_name": "HTMLStyleModel",
      "state": {
       "description_width": "",
       "font_size": null,
       "text_color": null
      }
     },
     "63dee4d0ae8a42ac91bbf5bf77637139": {
      "model_module": "@jupyter-widgets/base",
      "model_module_version": "2.0.0",
      "model_name": "LayoutModel",
      "state": {}
     },
     "6438fb1badbd4fce850a7cebe8be2e02": {
      "model_module": "@jupyter-widgets/controls",
      "model_module_version": "2.0.0",
      "model_name": "ProgressStyleModel",
      "state": {
       "description_width": ""
      }
     },
     "645fb356f84740f38fde35d4681a13bc": {
      "model_module": "@jupyter-widgets/controls",
      "model_module_version": "2.0.0",
      "model_name": "FloatProgressModel",
      "state": {
       "layout": "IPY_MODEL_24b44ad3a81842749f82d1df5136a235",
       "max": 94,
       "style": "IPY_MODEL_d81a60e216664da19d8657d291a397cd",
       "value": 94
      }
     },
     "6471be7a13074ef0b10aa3e2cccb39fe": {
      "model_module": "@jupyter-widgets/controls",
      "model_module_version": "2.0.0",
      "model_name": "ProgressStyleModel",
      "state": {
       "description_width": ""
      }
     },
     "64aa2f85ced34767a635adeec6cf4ad6": {
      "model_module": "@jupyter-widgets/controls",
      "model_module_version": "2.0.0",
      "model_name": "HTMLModel",
      "state": {
       "layout": "IPY_MODEL_7a58db48017d430a8d9247d7830b100f",
       "style": "IPY_MODEL_dc57e4bab84848eaac9f09aaec1ef886",
       "value": " 94/94 [00:00&lt;00:00, 152.57it/s]"
      }
     },
     "64ba0738925d4011bd508e395329b008": {
      "model_module": "@jupyter-widgets/controls",
      "model_module_version": "2.0.0",
      "model_name": "HTMLModel",
      "state": {
       "layout": "IPY_MODEL_7a0980fbc92a40f28394cac6e712ae44",
       "style": "IPY_MODEL_eeff265bb80b49758bb519e77390205c",
       "value": " 94/94 [00:00&lt;00:00, 145.40it/s]"
      }
     },
     "64c0553e4dfe4bf48f895fa98125a0aa": {
      "model_module": "@jupyter-widgets/controls",
      "model_module_version": "2.0.0",
      "model_name": "HTMLModel",
      "state": {
       "layout": "IPY_MODEL_290b585851f84d43ba4e24572015b5d9",
       "style": "IPY_MODEL_b4686cb0b01e46c1b401c6dde459b94d",
       "value": "Validation DataLoader 0: 100%"
      }
     },
     "64db6505fc6d4b48ab2162108dba10d2": {
      "model_module": "@jupyter-widgets/base",
      "model_module_version": "2.0.0",
      "model_name": "LayoutModel",
      "state": {
       "flex": "2"
      }
     },
     "6514538633284ae4b5f6eadf28f9d574": {
      "model_module": "@jupyter-widgets/controls",
      "model_module_version": "2.0.0",
      "model_name": "HTMLStyleModel",
      "state": {
       "description_width": "",
       "font_size": null,
       "text_color": null
      }
     },
     "65371b3a9ca04ea393597f1d8436d7fa": {
      "model_module": "@jupyter-widgets/base",
      "model_module_version": "2.0.0",
      "model_name": "LayoutModel",
      "state": {}
     },
     "65bb88a5a27642d4a1b68ebe9c742e53": {
      "model_module": "@jupyter-widgets/controls",
      "model_module_version": "2.0.0",
      "model_name": "FloatProgressModel",
      "state": {
       "bar_style": "success",
       "layout": "IPY_MODEL_b8cfe1b6d37d4957a1f0b1f50feabf8e",
       "max": 79,
       "style": "IPY_MODEL_7b0aa02957cf44c9a420d0e65f669c20",
       "value": 79
      }
     },
     "666e8ced64b5476db16366e8d5d1b5b7": {
      "model_module": "@jupyter-widgets/controls",
      "model_module_version": "2.0.0",
      "model_name": "HTMLModel",
      "state": {
       "layout": "IPY_MODEL_b24b7713b1d146cfbb666d2af71f153a",
       "style": "IPY_MODEL_46e6bcc109da48aabbfe3303c5405121",
       "value": "Validation DataLoader 0: 100%"
      }
     },
     "66ded44a2add4ff8a1853800968dcbb2": {
      "model_module": "@jupyter-widgets/controls",
      "model_module_version": "2.0.0",
      "model_name": "FloatProgressModel",
      "state": {
       "layout": "IPY_MODEL_bbdc692e984e43d69bff44765ca1ca15",
       "max": 94,
       "style": "IPY_MODEL_b61d84216f8347e68ff60630a4777a6a",
       "value": 94
      }
     },
     "66fe7196ba0946a585a5ac9f538b79a3": {
      "model_module": "@jupyter-widgets/base",
      "model_module_version": "2.0.0",
      "model_name": "LayoutModel",
      "state": {
       "flex": "2"
      }
     },
     "6710e732b94a46cda258200d36711995": {
      "model_module": "@jupyter-widgets/base",
      "model_module_version": "2.0.0",
      "model_name": "LayoutModel",
      "state": {
       "display": "inline-flex",
       "flex_flow": "row wrap",
       "visibility": "hidden",
       "width": "100%"
      }
     },
     "671e63dd91744f4586033ba6721597a1": {
      "model_module": "@jupyter-widgets/controls",
      "model_module_version": "2.0.0",
      "model_name": "HTMLModel",
      "state": {
       "layout": "IPY_MODEL_58afcebd97854aeb8ebc70f4ff4303bd",
       "style": "IPY_MODEL_2554529ca74c492ca5227af82d106487",
       "value": " 94/94 [00:00&lt;00:00, 229.12it/s]"
      }
     },
     "67425b0f316c40908cc60c63f75e0c5b": {
      "model_module": "@jupyter-widgets/base",
      "model_module_version": "2.0.0",
      "model_name": "LayoutModel",
      "state": {
       "display": "inline-flex",
       "flex_flow": "row wrap",
       "visibility": "hidden",
       "width": "100%"
      }
     },
     "675bb9fefed841ed8e943f15f2c3a63c": {
      "model_module": "@jupyter-widgets/base",
      "model_module_version": "2.0.0",
      "model_name": "LayoutModel",
      "state": {}
     },
     "67b440846a0243f789f8928753911617": {
      "model_module": "@jupyter-widgets/controls",
      "model_module_version": "2.0.0",
      "model_name": "HBoxModel",
      "state": {
       "children": [
        "IPY_MODEL_04aa460322264fc5bc86709c07117fab",
        "IPY_MODEL_d95f2483fed64479a3418baf9f7e7031",
        "IPY_MODEL_9723f52ab9b2402bb37ed1659a9f4df8"
       ],
       "layout": "IPY_MODEL_ebf08413fc124091815bb374c1a7b4bc"
      }
     },
     "67c7242f1ced40ea819c97ee2f80e831": {
      "model_module": "@jupyter-widgets/base",
      "model_module_version": "2.0.0",
      "model_name": "LayoutModel",
      "state": {
       "flex": "2"
      }
     },
     "67cf4880f30d49889c4229a2769af6a5": {
      "model_module": "@jupyter-widgets/controls",
      "model_module_version": "2.0.0",
      "model_name": "HTMLStyleModel",
      "state": {
       "description_width": "",
       "font_size": null,
       "text_color": null
      }
     },
     "684223df2abf46afa032196570c4e7c9": {
      "model_module": "@jupyter-widgets/controls",
      "model_module_version": "2.0.0",
      "model_name": "HTMLStyleModel",
      "state": {
       "description_width": "",
       "font_size": null,
       "text_color": null
      }
     },
     "69a08e0e91af475590296ac6bd4a307a": {
      "model_module": "@jupyter-widgets/base",
      "model_module_version": "2.0.0",
      "model_name": "LayoutModel",
      "state": {
       "flex": "2"
      }
     },
     "69b5493c45b14f439ffe0908d9ac300a": {
      "model_module": "@jupyter-widgets/controls",
      "model_module_version": "2.0.0",
      "model_name": "HTMLModel",
      "state": {
       "layout": "IPY_MODEL_f0bbc0f8a69d4251aeaab78d92d7ca43",
       "style": "IPY_MODEL_b7814fc3ac1b46bbbd70d86fa5080218",
       "value": " 94/94 [00:00&lt;00:00, 177.89it/s]"
      }
     },
     "69c9f65ddd174857a1e0034d31e287a0": {
      "model_module": "@jupyter-widgets/controls",
      "model_module_version": "2.0.0",
      "model_name": "HTMLModel",
      "state": {
       "layout": "IPY_MODEL_1780902c977a46389c4160cffce2adc4",
       "style": "IPY_MODEL_aee9b2bc7b774ed9ae9baf667e0bce47",
       "value": " 94/94 [00:00&lt;00:00, 178.66it/s]"
      }
     },
     "6aabe25bc2de44cdbe3d7b56b0730c6c": {
      "model_module": "@jupyter-widgets/base",
      "model_module_version": "2.0.0",
      "model_name": "LayoutModel",
      "state": {}
     },
     "6b3d7a09510d40268ac5e5daf1cfe10f": {
      "model_module": "@jupyter-widgets/controls",
      "model_module_version": "2.0.0",
      "model_name": "HTMLModel",
      "state": {
       "layout": "IPY_MODEL_c75063b3cbfa466e811a38ef20d883d3",
       "style": "IPY_MODEL_803f043a62184ddfa48b0bb56f3efdbb",
       "value": "Validation DataLoader 0: 100%"
      }
     },
     "6ba671233f5f41feb797927c758e98f6": {
      "model_module": "@jupyter-widgets/controls",
      "model_module_version": "2.0.0",
      "model_name": "ProgressStyleModel",
      "state": {
       "description_width": ""
      }
     },
     "6c33549fc41a4ddd9ee9f0c1a3079944": {
      "model_module": "@jupyter-widgets/controls",
      "model_module_version": "2.0.0",
      "model_name": "FloatProgressModel",
      "state": {
       "layout": "IPY_MODEL_f78e70f94f7b400c8707748661b07892",
       "max": 94,
       "style": "IPY_MODEL_49c5ee6ee2944d33856a58f34c61c064",
       "value": 94
      }
     },
     "6cb1be57473748a3a2584d7d0fd7aa62": {
      "model_module": "@jupyter-widgets/controls",
      "model_module_version": "2.0.0",
      "model_name": "FloatProgressModel",
      "state": {
       "layout": "IPY_MODEL_69a08e0e91af475590296ac6bd4a307a",
       "max": 94,
       "style": "IPY_MODEL_a6a978d35ccd4d3096bac519bc9603d6",
       "value": 94
      }
     },
     "6ce3a451d44e4e278a99a7ca28a6ac33": {
      "model_module": "@jupyter-widgets/base",
      "model_module_version": "2.0.0",
      "model_name": "LayoutModel",
      "state": {}
     },
     "6d14495444d14bbd8968174af982b362": {
      "model_module": "@jupyter-widgets/controls",
      "model_module_version": "2.0.0",
      "model_name": "FloatProgressModel",
      "state": {
       "layout": "IPY_MODEL_e34d552088f042d6b64d81b937b8d216",
       "max": 94,
       "style": "IPY_MODEL_a42281adaf2342819c37d14736a95edc",
       "value": 94
      }
     },
     "6d57283f5d6e41d4a118d0c56fbd8935": {
      "model_module": "@jupyter-widgets/base",
      "model_module_version": "2.0.0",
      "model_name": "LayoutModel",
      "state": {
       "flex": "2"
      }
     },
     "6d7cf2e86a734f71952d0463d8fd2628": {
      "model_module": "@jupyter-widgets/controls",
      "model_module_version": "2.0.0",
      "model_name": "HTMLStyleModel",
      "state": {
       "description_width": "",
       "font_size": null,
       "text_color": null
      }
     },
     "6eb124cb75cf47b4adb50c20189dbb03": {
      "model_module": "@jupyter-widgets/base",
      "model_module_version": "2.0.0",
      "model_name": "LayoutModel",
      "state": {
       "flex": "2"
      }
     },
     "6ebb3c6ba5034cb8bc3da2ffeac3e5d1": {
      "model_module": "@jupyter-widgets/controls",
      "model_module_version": "2.0.0",
      "model_name": "HTMLModel",
      "state": {
       "layout": "IPY_MODEL_be647e85e20c47d3bd8a3a85d05bdfce",
       "style": "IPY_MODEL_ae3c6a5e561a4506b3823db6c63b5bec",
       "value": " 94/94 [00:00&lt;00:00, 144.85it/s]"
      }
     },
     "6f30975954c04d4bba63c36c5fd7b021": {
      "model_module": "@jupyter-widgets/controls",
      "model_module_version": "2.0.0",
      "model_name": "ProgressStyleModel",
      "state": {
       "description_width": ""
      }
     },
     "6f52e05d36ce4c2b91f5cebf6a353b0e": {
      "model_module": "@jupyter-widgets/base",
      "model_module_version": "2.0.0",
      "model_name": "LayoutModel",
      "state": {}
     },
     "6fd0f8d0f4244cf2bcda6ba85e518e4e": {
      "model_module": "@jupyter-widgets/base",
      "model_module_version": "2.0.0",
      "model_name": "LayoutModel",
      "state": {}
     },
     "6ffae4b5d474485a80b0462bd61387f2": {
      "model_module": "@jupyter-widgets/controls",
      "model_module_version": "2.0.0",
      "model_name": "HTMLModel",
      "state": {
       "layout": "IPY_MODEL_f63b16a78a6c4da18cdce4a4d54c05b4",
       "style": "IPY_MODEL_cbea3080acfe4de5a08b4e5bd881a437",
       "value": "Validation DataLoader 0: 100%"
      }
     },
     "7043e490139e427d9e92bf6d7642fc8f": {
      "model_module": "@jupyter-widgets/controls",
      "model_module_version": "2.0.0",
      "model_name": "FloatProgressModel",
      "state": {
       "layout": "IPY_MODEL_fa1927f2d59f49b9ac373bdba378ea7b",
       "max": 94,
       "style": "IPY_MODEL_7a96e55bfbcb4cdb8c979b2a948a132a",
       "value": 94
      }
     },
     "707e16fb1dd34fb7ba2f6568069b8e07": {
      "model_module": "@jupyter-widgets/controls",
      "model_module_version": "2.0.0",
      "model_name": "HTMLStyleModel",
      "state": {
       "description_width": "",
       "font_size": null,
       "text_color": null
      }
     },
     "70e1da2c30a94885b87165bb91487136": {
      "model_module": "@jupyter-widgets/controls",
      "model_module_version": "2.0.0",
      "model_name": "HTMLStyleModel",
      "state": {
       "description_width": "",
       "font_size": null,
       "text_color": null
      }
     },
     "711a6604d93f49b59bb16e0ead567e1f": {
      "model_module": "@jupyter-widgets/base",
      "model_module_version": "2.0.0",
      "model_name": "LayoutModel",
      "state": {
       "flex": "2"
      }
     },
     "71bdc193932b4edda8cc63627fdff650": {
      "model_module": "@jupyter-widgets/controls",
      "model_module_version": "2.0.0",
      "model_name": "HTMLStyleModel",
      "state": {
       "description_width": "",
       "font_size": null,
       "text_color": null
      }
     },
     "71f35361a01a4d0b838bda93c9ee9b62": {
      "model_module": "@jupyter-widgets/controls",
      "model_module_version": "2.0.0",
      "model_name": "HTMLModel",
      "state": {
       "layout": "IPY_MODEL_ca69491bd37b4094966858b741a76035",
       "style": "IPY_MODEL_71bdc193932b4edda8cc63627fdff650",
       "value": " 94/94 [00:00&lt;00:00, 116.64it/s]"
      }
     },
     "721698107d4b4c948940615e43680096": {
      "model_module": "@jupyter-widgets/base",
      "model_module_version": "2.0.0",
      "model_name": "LayoutModel",
      "state": {}
     },
     "7269cf41e902495e8383837e4e33710e": {
      "model_module": "@jupyter-widgets/base",
      "model_module_version": "2.0.0",
      "model_name": "LayoutModel",
      "state": {}
     },
     "72da03dd5c5a4d19b12561493ae92fcd": {
      "model_module": "@jupyter-widgets/controls",
      "model_module_version": "2.0.0",
      "model_name": "FloatProgressModel",
      "state": {
       "layout": "IPY_MODEL_c7bb24017f1a439f9ea01d74e0d2746f",
       "max": 94,
       "style": "IPY_MODEL_635a29481dc24769ad3b8586486ae2a2",
       "value": 94
      }
     },
     "72de335e88444c0db0817e8adace4ca6": {
      "model_module": "@jupyter-widgets/base",
      "model_module_version": "2.0.0",
      "model_name": "LayoutModel",
      "state": {}
     },
     "72ef744b8d6444829a2baa78fd89728d": {
      "model_module": "@jupyter-widgets/controls",
      "model_module_version": "2.0.0",
      "model_name": "HTMLModel",
      "state": {
       "layout": "IPY_MODEL_fe951347f59043308bde9922f39382b3",
       "style": "IPY_MODEL_f13d7d77231e47eb98396e4adf6b1866",
       "value": "Validation DataLoader 0: 100%"
      }
     },
     "734a87b28b8c4e049351f5000dd7e108": {
      "model_module": "@jupyter-widgets/base",
      "model_module_version": "2.0.0",
      "model_name": "LayoutModel",
      "state": {
       "display": "inline-flex",
       "flex_flow": "row wrap",
       "visibility": "hidden",
       "width": "100%"
      }
     },
     "738c0b2a3a4f427b878b919cdbf96a60": {
      "model_module": "@jupyter-widgets/controls",
      "model_module_version": "2.0.0",
      "model_name": "HTMLStyleModel",
      "state": {
       "description_width": "",
       "font_size": null,
       "text_color": null
      }
     },
     "7433b278581b4029a5c666b944e466e4": {
      "model_module": "@jupyter-widgets/base",
      "model_module_version": "2.0.0",
      "model_name": "LayoutModel",
      "state": {
       "flex": "2"
      }
     },
     "746c2e6707904a069e9448f4df726bf8": {
      "model_module": "@jupyter-widgets/controls",
      "model_module_version": "2.0.0",
      "model_name": "HTMLStyleModel",
      "state": {
       "description_width": "",
       "font_size": null,
       "text_color": null
      }
     },
     "74b3471bf68c4b928a5a9c5339a0adf9": {
      "model_module": "@jupyter-widgets/controls",
      "model_module_version": "2.0.0",
      "model_name": "ProgressStyleModel",
      "state": {
       "description_width": ""
      }
     },
     "74b7d526b52f4a4684ba77c52ce5d7c7": {
      "model_module": "@jupyter-widgets/controls",
      "model_module_version": "2.0.0",
      "model_name": "ProgressStyleModel",
      "state": {
       "description_width": ""
      }
     },
     "74d634d8cf124880829a985d604852b8": {
      "model_module": "@jupyter-widgets/base",
      "model_module_version": "2.0.0",
      "model_name": "LayoutModel",
      "state": {}
     },
     "74f9b468a47144be8383f0252279285c": {
      "model_module": "@jupyter-widgets/base",
      "model_module_version": "2.0.0",
      "model_name": "LayoutModel",
      "state": {}
     },
     "753319b8f07d4517ac432a1592ad8673": {
      "model_module": "@jupyter-widgets/controls",
      "model_module_version": "2.0.0",
      "model_name": "HTMLModel",
      "state": {
       "layout": "IPY_MODEL_35dbd392ddf346da982946ac9c16b286",
       "style": "IPY_MODEL_8daa9956dcf243768d40c7d652a880e3",
       "value": " 94/94 [00:00&lt;00:00, 191.90it/s]"
      }
     },
     "757dcd0ccbb5428d9d7231bb51c5144b": {
      "model_module": "@jupyter-widgets/base",
      "model_module_version": "2.0.0",
      "model_name": "LayoutModel",
      "state": {}
     },
     "75cc824cdb0b4c438f894fd83a0547d8": {
      "model_module": "@jupyter-widgets/controls",
      "model_module_version": "2.0.0",
      "model_name": "HTMLModel",
      "state": {
       "layout": "IPY_MODEL_de3ab671029a49dcb4d7506d57d5286f",
       "style": "IPY_MODEL_f1237150c7064b84912dfcd2b42d3086",
       "value": "Epoch 31: 100%"
      }
     },
     "762c621856ad402e913d2411b8f39e51": {
      "model_module": "@jupyter-widgets/base",
      "model_module_version": "2.0.0",
      "model_name": "LayoutModel",
      "state": {
       "display": "inline-flex",
       "flex_flow": "row wrap",
       "visibility": "hidden",
       "width": "100%"
      }
     },
     "7659de67d86b47adb2fb05f947f4a939": {
      "model_module": "@jupyter-widgets/base",
      "model_module_version": "2.0.0",
      "model_name": "LayoutModel",
      "state": {
       "flex": "2"
      }
     },
     "76a1805687dc4f12b1c334792afa5424": {
      "model_module": "@jupyter-widgets/controls",
      "model_module_version": "2.0.0",
      "model_name": "HTMLModel",
      "state": {
       "layout": "IPY_MODEL_13525b478b1c474abe9f9c6ab43f4aea",
       "style": "IPY_MODEL_707e16fb1dd34fb7ba2f6568069b8e07",
       "value": "Validation DataLoader 0: 100%"
      }
     },
     "76db9992b89849f28206f471df032009": {
      "model_module": "@jupyter-widgets/base",
      "model_module_version": "2.0.0",
      "model_name": "LayoutModel",
      "state": {}
     },
     "771ed110f8024e20ada18bbd745dd3e6": {
      "model_module": "@jupyter-widgets/base",
      "model_module_version": "2.0.0",
      "model_name": "LayoutModel",
      "state": {}
     },
     "77957113d0c948b98e6a3a253c2b2ad2": {
      "model_module": "@jupyter-widgets/base",
      "model_module_version": "2.0.0",
      "model_name": "LayoutModel",
      "state": {
       "display": "inline-flex",
       "flex_flow": "row wrap",
       "visibility": "hidden",
       "width": "100%"
      }
     },
     "77fd4de48033410898f4385e9e479aee": {
      "model_module": "@jupyter-widgets/base",
      "model_module_version": "2.0.0",
      "model_name": "LayoutModel",
      "state": {
       "flex": "2"
      }
     },
     "783cfaa908874e39acf0c5e5cb4a0cd8": {
      "model_module": "@jupyter-widgets/base",
      "model_module_version": "2.0.0",
      "model_name": "LayoutModel",
      "state": {}
     },
     "78483ab137ba48deb00c7d68ca8f9379": {
      "model_module": "@jupyter-widgets/base",
      "model_module_version": "2.0.0",
      "model_name": "LayoutModel",
      "state": {
       "flex": "2"
      }
     },
     "7944a92358bb48a9a0f83361030981dd": {
      "model_module": "@jupyter-widgets/base",
      "model_module_version": "2.0.0",
      "model_name": "LayoutModel",
      "state": {}
     },
     "7a0980fbc92a40f28394cac6e712ae44": {
      "model_module": "@jupyter-widgets/base",
      "model_module_version": "2.0.0",
      "model_name": "LayoutModel",
      "state": {}
     },
     "7a36f35f5aec4907b0f475619c15103c": {
      "model_module": "@jupyter-widgets/controls",
      "model_module_version": "2.0.0",
      "model_name": "ProgressStyleModel",
      "state": {
       "description_width": ""
      }
     },
     "7a3fdba29817448491b0b04755399e31": {
      "model_module": "@jupyter-widgets/base",
      "model_module_version": "2.0.0",
      "model_name": "LayoutModel",
      "state": {}
     },
     "7a40494a07b9439bb6781a8dcc6c4a15": {
      "model_module": "@jupyter-widgets/controls",
      "model_module_version": "2.0.0",
      "model_name": "FloatProgressModel",
      "state": {
       "layout": "IPY_MODEL_22623cc693b1413a98c2d2e9920a7fe0",
       "max": 94,
       "style": "IPY_MODEL_ba17cac3f3b1420ba43bb709deef6866",
       "value": 94
      }
     },
     "7a58db48017d430a8d9247d7830b100f": {
      "model_module": "@jupyter-widgets/base",
      "model_module_version": "2.0.0",
      "model_name": "LayoutModel",
      "state": {}
     },
     "7a9692d6de124010a4cce6b038d4e540": {
      "model_module": "@jupyter-widgets/base",
      "model_module_version": "2.0.0",
      "model_name": "LayoutModel",
      "state": {}
     },
     "7a96e55bfbcb4cdb8c979b2a948a132a": {
      "model_module": "@jupyter-widgets/controls",
      "model_module_version": "2.0.0",
      "model_name": "ProgressStyleModel",
      "state": {
       "description_width": ""
      }
     },
     "7a9c76ec9bad4a9684266c7a4465c7be": {
      "model_module": "@jupyter-widgets/base",
      "model_module_version": "2.0.0",
      "model_name": "LayoutModel",
      "state": {}
     },
     "7afd2a376a8f4040ac794714b335b031": {
      "model_module": "@jupyter-widgets/controls",
      "model_module_version": "2.0.0",
      "model_name": "HTMLModel",
      "state": {
       "layout": "IPY_MODEL_d55fe79399a242b483bcbdfc49cceb5d",
       "style": "IPY_MODEL_113f9f54841d46e892218394215d57a7",
       "value": "Validation DataLoader 0: 100%"
      }
     },
     "7b0aa02957cf44c9a420d0e65f669c20": {
      "model_module": "@jupyter-widgets/controls",
      "model_module_version": "2.0.0",
      "model_name": "ProgressStyleModel",
      "state": {
       "description_width": ""
      }
     },
     "7bb19c9f5e544f6293e49f7a892b2e64": {
      "model_module": "@jupyter-widgets/controls",
      "model_module_version": "2.0.0",
      "model_name": "FloatProgressModel",
      "state": {
       "layout": "IPY_MODEL_93baec8951c54864b6901d3b0fe7ed62",
       "max": 94,
       "style": "IPY_MODEL_6f30975954c04d4bba63c36c5fd7b021",
       "value": 94
      }
     },
     "7d1d000ae5ea481fa3313d5161ed45a7": {
      "model_module": "@jupyter-widgets/controls",
      "model_module_version": "2.0.0",
      "model_name": "HTMLStyleModel",
      "state": {
       "description_width": "",
       "font_size": null,
       "text_color": null
      }
     },
     "7d8942ed84ff4524becdc5852bc35262": {
      "model_module": "@jupyter-widgets/base",
      "model_module_version": "2.0.0",
      "model_name": "LayoutModel",
      "state": {}
     },
     "7d9fc3a554d54a90b1b99633221db989": {
      "model_module": "@jupyter-widgets/controls",
      "model_module_version": "2.0.0",
      "model_name": "HTMLModel",
      "state": {
       "layout": "IPY_MODEL_34bc81c86e1e42b98536a6a3de273d80",
       "style": "IPY_MODEL_38fb2507285d411daa2704494a6508c3",
       "value": " 94/94 [00:01&lt;00:00, 59.74it/s]"
      }
     },
     "7f3d56e7e11d4154983dd8be66b02076": {
      "model_module": "@jupyter-widgets/controls",
      "model_module_version": "2.0.0",
      "model_name": "HTMLModel",
      "state": {
       "layout": "IPY_MODEL_721698107d4b4c948940615e43680096",
       "style": "IPY_MODEL_8a3d74909abc4604897eb940df0f1c8d",
       "value": "Validation DataLoader 0: 100%"
      }
     },
     "7f444fc168ba4a1a8cb25cc5049713a2": {
      "model_module": "@jupyter-widgets/base",
      "model_module_version": "2.0.0",
      "model_name": "LayoutModel",
      "state": {
       "display": "inline-flex",
       "flex_flow": "row wrap",
       "visibility": "hidden",
       "width": "100%"
      }
     },
     "7fa6759e16074e59a5a83a09cca77b9b": {
      "model_module": "@jupyter-widgets/controls",
      "model_module_version": "2.0.0",
      "model_name": "HTMLStyleModel",
      "state": {
       "description_width": "",
       "font_size": null,
       "text_color": null
      }
     },
     "7fab9b370e8640f981cd3b9d59b4ca51": {
      "model_module": "@jupyter-widgets/controls",
      "model_module_version": "2.0.0",
      "model_name": "FloatProgressModel",
      "state": {
       "layout": "IPY_MODEL_19ad48f8491b411383a30a35288e3452",
       "max": 94,
       "style": "IPY_MODEL_2503878378f643f5abbc544139b9f33d",
       "value": 94
      }
     },
     "803f043a62184ddfa48b0bb56f3efdbb": {
      "model_module": "@jupyter-widgets/controls",
      "model_module_version": "2.0.0",
      "model_name": "HTMLStyleModel",
      "state": {
       "description_width": "",
       "font_size": null,
       "text_color": null
      }
     },
     "80749e0d64df46499e9a1dbb663ceebb": {
      "model_module": "@jupyter-widgets/controls",
      "model_module_version": "2.0.0",
      "model_name": "HTMLModel",
      "state": {
       "layout": "IPY_MODEL_edcaa852773d4f97b6baaa71c6585112",
       "style": "IPY_MODEL_07274720d9d64cb5a52f9e69357c0696",
       "value": "Validation DataLoader 0: 100%"
      }
     },
     "834ae7ca357f44eb8d2974e307f29057": {
      "model_module": "@jupyter-widgets/controls",
      "model_module_version": "2.0.0",
      "model_name": "ProgressStyleModel",
      "state": {
       "description_width": ""
      }
     },
     "83633b9d300c49edbb166534cbc3b014": {
      "model_module": "@jupyter-widgets/controls",
      "model_module_version": "2.0.0",
      "model_name": "FloatProgressModel",
      "state": {
       "layout": "IPY_MODEL_15339da174a24aca960033c5ac625375",
       "max": 94,
       "style": "IPY_MODEL_54aad51c4aeb408b9573a46f4ff4be80",
       "value": 94
      }
     },
     "836d4c4e92ca427eb59378ac679f74cc": {
      "model_module": "@jupyter-widgets/controls",
      "model_module_version": "2.0.0",
      "model_name": "HTMLModel",
      "state": {
       "layout": "IPY_MODEL_8f9bd4aa6a77486880f53a9ecb4c9bf3",
       "style": "IPY_MODEL_0e5b78b0210b4346ae52d0b4c9fd2d80",
       "value": " 2/2 [00:00&lt;00:00, 27.45it/s]"
      }
     },
     "83e7c7359d284910994650831975ff21": {
      "model_module": "@jupyter-widgets/controls",
      "model_module_version": "2.0.0",
      "model_name": "FloatProgressModel",
      "state": {
       "layout": "IPY_MODEL_3aa6a4866b114564bda457d0a614ca73",
       "max": 94,
       "style": "IPY_MODEL_338515aa663a42429473431a0c9990ed",
       "value": 94
      }
     },
     "843d3e0e6d4c4fbdab218c368e14add6": {
      "model_module": "@jupyter-widgets/controls",
      "model_module_version": "2.0.0",
      "model_name": "HTMLModel",
      "state": {
       "layout": "IPY_MODEL_fd006f3094944e4c800be70963bad273",
       "style": "IPY_MODEL_36237029908b43e694283dded5faa142",
       "value": "Validation DataLoader 0: 100%"
      }
     },
     "8445e3172aa3430d9f956b40a7aa0dc4": {
      "model_module": "@jupyter-widgets/controls",
      "model_module_version": "2.0.0",
      "model_name": "FloatProgressModel",
      "state": {
       "layout": "IPY_MODEL_df50bf4e3f104969ab0cdc8ca9f38026",
       "max": 94,
       "style": "IPY_MODEL_f98ee86781c248a7a6a5b71fabf59a34",
       "value": 94
      }
     },
     "84b39b42101d4aa68e7cced434503ef1": {
      "model_module": "@jupyter-widgets/base",
      "model_module_version": "2.0.0",
      "model_name": "LayoutModel",
      "state": {}
     },
     "854d350d102243ce9ab805d7401e39ee": {
      "model_module": "@jupyter-widgets/controls",
      "model_module_version": "2.0.0",
      "model_name": "HTMLModel",
      "state": {
       "layout": "IPY_MODEL_4bd5319383b14344971e4bdef193d511",
       "style": "IPY_MODEL_61a0389aca774dea817bf47af1169822",
       "value": " 87/100 [00:01&lt;00:00, 78.66it/s]"
      }
     },
     "855299be5d8540aba6f0e23e875bcc1c": {
      "model_module": "@jupyter-widgets/controls",
      "model_module_version": "2.0.0",
      "model_name": "ProgressStyleModel",
      "state": {
       "description_width": ""
      }
     },
     "8573f1ba961d4843b5abe5508f15c281": {
      "model_module": "@jupyter-widgets/controls",
      "model_module_version": "2.0.0",
      "model_name": "HTMLStyleModel",
      "state": {
       "description_width": "",
       "font_size": null,
       "text_color": null
      }
     },
     "8589efd8fbcf4a22bd5a2d855f29c55e": {
      "model_module": "@jupyter-widgets/controls",
      "model_module_version": "2.0.0",
      "model_name": "HTMLStyleModel",
      "state": {
       "description_width": "",
       "font_size": null,
       "text_color": null
      }
     },
     "85ba8c8f0e604a63ba108143a7280eb8": {
      "model_module": "@jupyter-widgets/controls",
      "model_module_version": "2.0.0",
      "model_name": "HTMLStyleModel",
      "state": {
       "description_width": "",
       "font_size": null,
       "text_color": null
      }
     },
     "85da940215174aab85251d4bbe709ba3": {
      "model_module": "@jupyter-widgets/base",
      "model_module_version": "2.0.0",
      "model_name": "LayoutModel",
      "state": {
       "display": "inline-flex",
       "flex_flow": "row wrap",
       "visibility": "hidden",
       "width": "100%"
      }
     },
     "85dfe27f03124fa98f039a7d3e73eacd": {
      "model_module": "@jupyter-widgets/controls",
      "model_module_version": "2.0.0",
      "model_name": "ProgressStyleModel",
      "state": {
       "description_width": ""
      }
     },
     "85e83833111c40dd8bc1a2da003f96e9": {
      "model_module": "@jupyter-widgets/base",
      "model_module_version": "2.0.0",
      "model_name": "LayoutModel",
      "state": {
       "display": "inline-flex",
       "flex_flow": "row wrap",
       "visibility": "hidden",
       "width": "100%"
      }
     },
     "864da73b863b4ad5bbd09b39d37c6549": {
      "model_module": "@jupyter-widgets/controls",
      "model_module_version": "2.0.0",
      "model_name": "HTMLModel",
      "state": {
       "layout": "IPY_MODEL_b1726ad8b7384e47929af0ec712ee17f",
       "style": "IPY_MODEL_a56e27e92dff4ff985dbcfd4c6627ea1",
       "value": "Validation DataLoader 0: 100%"
      }
     },
     "869f7acdf7034331b2874e809cfd22a0": {
      "model_module": "@jupyter-widgets/base",
      "model_module_version": "2.0.0",
      "model_name": "LayoutModel",
      "state": {
       "display": "inline-flex",
       "flex_flow": "row wrap",
       "visibility": "hidden",
       "width": "100%"
      }
     },
     "86a9a9ac42cd40c18a10049e1bbc5709": {
      "model_module": "@jupyter-widgets/controls",
      "model_module_version": "2.0.0",
      "model_name": "HTMLModel",
      "state": {
       "layout": "IPY_MODEL_6ce3a451d44e4e278a99a7ca28a6ac33",
       "style": "IPY_MODEL_f376343be1fd4efdbfabadcbeacbd25f",
       "value": "Validation DataLoader 0: 100%"
      }
     },
     "879b14c7d8bf430aa2cb2e8322918dc2": {
      "model_module": "@jupyter-widgets/controls",
      "model_module_version": "2.0.0",
      "model_name": "HBoxModel",
      "state": {
       "children": [
        "IPY_MODEL_91333ddda6ca4ec3ae851c593635ddb9",
        "IPY_MODEL_65bb88a5a27642d4a1b68ebe9c742e53",
        "IPY_MODEL_d98ff0d83ae245c1a0d169c4eab0c9e1"
       ],
       "layout": "IPY_MODEL_a0e3fe283f3b413dafcd79dae28c199f"
      }
     },
     "87b050f2a4f44694b9708f9f6632e244": {
      "model_module": "@jupyter-widgets/controls",
      "model_module_version": "2.0.0",
      "model_name": "HTMLStyleModel",
      "state": {
       "description_width": "",
       "font_size": null,
       "text_color": null
      }
     },
     "87ca6194836c45969337ecaa7d4cb1e6": {
      "model_module": "@jupyter-widgets/base",
      "model_module_version": "2.0.0",
      "model_name": "LayoutModel",
      "state": {}
     },
     "8817d5c5a20b4671a1b8be11a15a59f9": {
      "model_module": "@jupyter-widgets/controls",
      "model_module_version": "2.0.0",
      "model_name": "HTMLModel",
      "state": {
       "layout": "IPY_MODEL_0ac444da6266424dad4a84074071973f",
       "style": "IPY_MODEL_70e1da2c30a94885b87165bb91487136",
       "value": " 0/100 [30:16&lt;?, ?it/s]"
      }
     },
     "8819191b8c034e2d9b0236c1fb615be7": {
      "model_module": "@jupyter-widgets/controls",
      "model_module_version": "2.0.0",
      "model_name": "FloatProgressModel",
      "state": {
       "layout": "IPY_MODEL_d8467bfbe18f4ef89a503b56d616e2ed",
       "max": 94,
       "style": "IPY_MODEL_37f6bb06be1c4c888f73deefe191e6e8",
       "value": 94
      }
     },
     "88391dca0ea04cf79ec3aa77efaef98e": {
      "model_module": "@jupyter-widgets/controls",
      "model_module_version": "2.0.0",
      "model_name": "HTMLStyleModel",
      "state": {
       "description_width": "",
       "font_size": null,
       "text_color": null
      }
     },
     "88d60257b8bf4b5f8193a883c6c21b50": {
      "model_module": "@jupyter-widgets/base",
      "model_module_version": "2.0.0",
      "model_name": "LayoutModel",
      "state": {}
     },
     "88f38529d24342afb1b313ccbef0fc00": {
      "model_module": "@jupyter-widgets/controls",
      "model_module_version": "2.0.0",
      "model_name": "HTMLModel",
      "state": {
       "layout": "IPY_MODEL_ea881e67472244e0b137730ca59e130e",
       "style": "IPY_MODEL_f4d7c2c4d4a24b37b05dd2c72a07c5c2",
       "value": "Validation DataLoader 0: 100%"
      }
     },
     "894a44302c6b4afdb4964868e51d9180": {
      "model_module": "@jupyter-widgets/controls",
      "model_module_version": "2.0.0",
      "model_name": "HTMLModel",
      "state": {
       "layout": "IPY_MODEL_49966256360642179240170ff355fc66",
       "style": "IPY_MODEL_bf424da263bd4bc9bc1b1339e95b8cc4",
       "value": "Validation DataLoader 0: 100%"
      }
     },
     "895ad4cc430e47de989564660531e309": {
      "model_module": "@jupyter-widgets/controls",
      "model_module_version": "2.0.0",
      "model_name": "HTMLModel",
      "state": {
       "layout": "IPY_MODEL_ddeb8d1e823f4b948973e4ac688902be",
       "style": "IPY_MODEL_607d57aa2c844876bdc756749af544b6",
       "value": "Sanity Checking DataLoader 0: 100%"
      }
     },
     "896882bf2764418da477031270b7c516": {
      "model_module": "@jupyter-widgets/controls",
      "model_module_version": "2.0.0",
      "model_name": "HTMLStyleModel",
      "state": {
       "description_width": "",
       "font_size": null,
       "text_color": null
      }
     },
     "898d82863dee4b1da1dbf85e6e557a23": {
      "model_module": "@jupyter-widgets/controls",
      "model_module_version": "2.0.0",
      "model_name": "FloatProgressModel",
      "state": {
       "bar_style": "danger",
       "layout": "IPY_MODEL_aca43434100e4c3b95fde325846a36f0",
       "style": "IPY_MODEL_45cdfa5e3df44a1aa22793bf2e4d8300",
       "value": 91
      }
     },
     "8a12154054e244f68d1e4a0fb8075659": {
      "model_module": "@jupyter-widgets/controls",
      "model_module_version": "2.0.0",
      "model_name": "HTMLStyleModel",
      "state": {
       "description_width": "",
       "font_size": null,
       "text_color": null
      }
     },
     "8a299a27845d46e882b49e5a24af2610": {
      "model_module": "@jupyter-widgets/base",
      "model_module_version": "2.0.0",
      "model_name": "LayoutModel",
      "state": {}
     },
     "8a31c07dbab34358942b2d6c88770a11": {
      "model_module": "@jupyter-widgets/controls",
      "model_module_version": "2.0.0",
      "model_name": "HTMLStyleModel",
      "state": {
       "description_width": "",
       "font_size": null,
       "text_color": null
      }
     },
     "8a3d74909abc4604897eb940df0f1c8d": {
      "model_module": "@jupyter-widgets/controls",
      "model_module_version": "2.0.0",
      "model_name": "HTMLStyleModel",
      "state": {
       "description_width": "",
       "font_size": null,
       "text_color": null
      }
     },
     "8a4948db16f145e48840f6069a741372": {
      "model_module": "@jupyter-widgets/controls",
      "model_module_version": "2.0.0",
      "model_name": "FloatProgressModel",
      "state": {
       "layout": "IPY_MODEL_e906ba35d45347bb88521a7c26224a21",
       "max": 94,
       "style": "IPY_MODEL_855299be5d8540aba6f0e23e875bcc1c",
       "value": 94
      }
     },
     "8a4b2d0f1a9a459a961f84e91e6aa6fc": {
      "model_module": "@jupyter-widgets/controls",
      "model_module_version": "2.0.0",
      "model_name": "HTMLModel",
      "state": {
       "layout": "IPY_MODEL_e9aa58dce9454a79bf55e54e007d820e",
       "style": "IPY_MODEL_738c0b2a3a4f427b878b919cdbf96a60",
       "value": " 94/94 [00:00&lt;00:00, 176.75it/s]"
      }
     },
     "8b0d6c14613e467097d2dea85a0b2000": {
      "model_module": "@jupyter-widgets/base",
      "model_module_version": "2.0.0",
      "model_name": "LayoutModel",
      "state": {
       "flex": "2"
      }
     },
     "8b664f55c1b0431c9c6942b63d2e0f46": {
      "model_module": "@jupyter-widgets/base",
      "model_module_version": "2.0.0",
      "model_name": "LayoutModel",
      "state": {}
     },
     "8bc81d22bcf54de79a41efddeda4081c": {
      "model_module": "@jupyter-widgets/controls",
      "model_module_version": "2.0.0",
      "model_name": "HTMLStyleModel",
      "state": {
       "description_width": "",
       "font_size": null,
       "text_color": null
      }
     },
     "8bf01e4ad8ec467da586a37970a7693f": {
      "model_module": "@jupyter-widgets/controls",
      "model_module_version": "2.0.0",
      "model_name": "HTMLModel",
      "state": {
       "layout": "IPY_MODEL_b84f76d6799948e6a8188a6db69e7b27",
       "style": "IPY_MODEL_d9c81d9fef5948b88ab0e533e4e5190a",
       "value": " 94/94 [00:00&lt;00:00, 128.99it/s]"
      }
     },
     "8ca190ea3cfd4c1fa355c323d8ed3a06": {
      "model_module": "@jupyter-widgets/controls",
      "model_module_version": "2.0.0",
      "model_name": "ProgressStyleModel",
      "state": {
       "description_width": ""
      }
     },
     "8cc4f71a55044ef6bc349e04bb7518e9": {
      "model_module": "@jupyter-widgets/base",
      "model_module_version": "2.0.0",
      "model_name": "LayoutModel",
      "state": {}
     },
     "8d2dbe378b544be98b3b869d4256323b": {
      "model_module": "@jupyter-widgets/controls",
      "model_module_version": "2.0.0",
      "model_name": "HTMLStyleModel",
      "state": {
       "description_width": "",
       "font_size": null,
       "text_color": null
      }
     },
     "8d8acc8f400c4716a1b701cf5516c0c5": {
      "model_module": "@jupyter-widgets/controls",
      "model_module_version": "2.0.0",
      "model_name": "ProgressStyleModel",
      "state": {
       "description_width": ""
      }
     },
     "8daa9956dcf243768d40c7d652a880e3": {
      "model_module": "@jupyter-widgets/controls",
      "model_module_version": "2.0.0",
      "model_name": "HTMLStyleModel",
      "state": {
       "description_width": "",
       "font_size": null,
       "text_color": null
      }
     },
     "8daf9278be224dae84bbbb46abaf8b31": {
      "model_module": "@jupyter-widgets/controls",
      "model_module_version": "2.0.0",
      "model_name": "FloatProgressModel",
      "state": {
       "bar_style": "success",
       "layout": "IPY_MODEL_56956c81288c4768ac8904d70ba5a3e4",
       "max": 94,
       "style": "IPY_MODEL_6438fb1badbd4fce850a7cebe8be2e02",
       "value": 94
      }
     },
     "8e1d6707831e4d99ab3e79a6b306f5c1": {
      "model_module": "@jupyter-widgets/controls",
      "model_module_version": "2.0.0",
      "model_name": "HTMLModel",
      "state": {
       "layout": "IPY_MODEL_e6ef0fb86a014830a93cb2a7d47c2c0e",
       "style": "IPY_MODEL_631b765448c34cdfa360197ced4abaf1",
       "value": "Validation DataLoader 0: 100%"
      }
     },
     "8ed5d04ad4df4405bda99a1a19db65d4": {
      "model_module": "@jupyter-widgets/controls",
      "model_module_version": "2.0.0",
      "model_name": "HTMLModel",
      "state": {
       "layout": "IPY_MODEL_d6603fd723a14c75bbf446aaf8924b39",
       "style": "IPY_MODEL_8573f1ba961d4843b5abe5508f15c281",
       "value": " 94/94 [00:00&lt;00:00, 220.69it/s]"
      }
     },
     "8ee9f87fd5684edb96567b786c0c10c6": {
      "model_module": "@jupyter-widgets/controls",
      "model_module_version": "2.0.0",
      "model_name": "ProgressStyleModel",
      "state": {
       "description_width": ""
      }
     },
     "8f0530cc61f340c19f85b284387c431f": {
      "model_module": "@jupyter-widgets/base",
      "model_module_version": "2.0.0",
      "model_name": "LayoutModel",
      "state": {}
     },
     "8f9bd4aa6a77486880f53a9ecb4c9bf3": {
      "model_module": "@jupyter-widgets/base",
      "model_module_version": "2.0.0",
      "model_name": "LayoutModel",
      "state": {}
     },
     "8fd07deea4d24092a8e6927fc4d55c4f": {
      "model_module": "@jupyter-widgets/base",
      "model_module_version": "2.0.0",
      "model_name": "LayoutModel",
      "state": {}
     },
     "8fe49a2e7aab4254ad854806e5b1f820": {
      "model_module": "@jupyter-widgets/controls",
      "model_module_version": "2.0.0",
      "model_name": "HTMLModel",
      "state": {
       "layout": "IPY_MODEL_3221d76145874914a817ba488e6a40e3",
       "style": "IPY_MODEL_684223df2abf46afa032196570c4e7c9",
       "value": "Validation DataLoader 0: 100%"
      }
     },
     "903130fcc6bf462bb7074eb7e7ae2fbf": {
      "model_module": "@jupyter-widgets/controls",
      "model_module_version": "2.0.0",
      "model_name": "HTMLStyleModel",
      "state": {
       "description_width": "",
       "font_size": null,
       "text_color": null
      }
     },
     "90cc83ce0e18478680231323edb257d4": {
      "model_module": "@jupyter-widgets/controls",
      "model_module_version": "2.0.0",
      "model_name": "HTMLModel",
      "state": {
       "layout": "IPY_MODEL_606f8c3e213347208295206ea690c9f7",
       "style": "IPY_MODEL_63a4f95bf7a44814bf5e2d180ed8a7ad",
       "value": " 94/94 [00:00&lt;00:00, 221.06it/s]"
      }
     },
     "91333ddda6ca4ec3ae851c593635ddb9": {
      "model_module": "@jupyter-widgets/controls",
      "model_module_version": "2.0.0",
      "model_name": "HTMLModel",
      "state": {
       "layout": "IPY_MODEL_a64c8ab3547e4de1b64d9cf8c8801b4c",
       "style": "IPY_MODEL_896882bf2764418da477031270b7c516",
       "value": "Testing DataLoader 0: 100%"
      }
     },
     "918c09e3d6a24e8387320839717ce9e2": {
      "model_module": "@jupyter-widgets/base",
      "model_module_version": "2.0.0",
      "model_name": "LayoutModel",
      "state": {
       "display": "inline-flex",
       "flex_flow": "row wrap",
       "width": "100%"
      }
     },
     "91c2e5a7e2fd49d39622fcf7de105f52": {
      "model_module": "@jupyter-widgets/base",
      "model_module_version": "2.0.0",
      "model_name": "LayoutModel",
      "state": {}
     },
     "924f1e8cd5244dfeb263ca294a0fea81": {
      "model_module": "@jupyter-widgets/base",
      "model_module_version": "2.0.0",
      "model_name": "LayoutModel",
      "state": {}
     },
     "9320684c5ea44485bb97b46a20620ee1": {
      "model_module": "@jupyter-widgets/controls",
      "model_module_version": "2.0.0",
      "model_name": "HTMLStyleModel",
      "state": {
       "description_width": "",
       "font_size": null,
       "text_color": null
      }
     },
     "93a17aed65584c3098661cb5e2a765f3": {
      "model_module": "@jupyter-widgets/controls",
      "model_module_version": "2.0.0",
      "model_name": "HTMLStyleModel",
      "state": {
       "description_width": "",
       "font_size": null,
       "text_color": null
      }
     },
     "93baec8951c54864b6901d3b0fe7ed62": {
      "model_module": "@jupyter-widgets/base",
      "model_module_version": "2.0.0",
      "model_name": "LayoutModel",
      "state": {
       "flex": "2"
      }
     },
     "93c3a7a7bb1d46aa9e03bf9e1c15db3b": {
      "model_module": "@jupyter-widgets/controls",
      "model_module_version": "2.0.0",
      "model_name": "FloatProgressModel",
      "state": {
       "layout": "IPY_MODEL_5bd986891d4148ae91f135c19c96572b",
       "max": 94,
       "style": "IPY_MODEL_c88f254ae9724629a31cd198799d00a6",
       "value": 94
      }
     },
     "93fd238e2d1c43799ffe1c14a8e979dd": {
      "model_module": "@jupyter-widgets/controls",
      "model_module_version": "2.0.0",
      "model_name": "HTMLModel",
      "state": {
       "layout": "IPY_MODEL_1a7d1300a980466bbd0cc9f6a1e6fba0",
       "style": "IPY_MODEL_446591243e554a31b432dbd43234e242",
       "value": "Validation DataLoader 0: 100%"
      }
     },
     "941d59f9b8a240a8aa05d15ee9f43ac3": {
      "model_module": "@jupyter-widgets/controls",
      "model_module_version": "2.0.0",
      "model_name": "HTMLStyleModel",
      "state": {
       "description_width": "",
       "font_size": null,
       "text_color": null
      }
     },
     "948251adbc314b5fb0a6bc4e61bec8c1": {
      "model_module": "@jupyter-widgets/base",
      "model_module_version": "2.0.0",
      "model_name": "LayoutModel",
      "state": {}
     },
     "94ece9681d1b40d785cde6bd66bcea0b": {
      "model_module": "@jupyter-widgets/controls",
      "model_module_version": "2.0.0",
      "model_name": "FloatProgressModel",
      "state": {
       "layout": "IPY_MODEL_7659de67d86b47adb2fb05f947f4a939",
       "max": 94,
       "style": "IPY_MODEL_28223dce34344e1ca3756b4a5e76315e",
       "value": 94
      }
     },
     "95ad91838ad6494fb40703679244b9a0": {
      "model_module": "@jupyter-widgets/controls",
      "model_module_version": "2.0.0",
      "model_name": "HTMLStyleModel",
      "state": {
       "description_width": "",
       "font_size": null,
       "text_color": null
      }
     },
     "9605345113294c67bc79e409a67ffa57": {
      "model_module": "@jupyter-widgets/base",
      "model_module_version": "2.0.0",
      "model_name": "LayoutModel",
      "state": {}
     },
     "961019f848ad42a6a0397f51d25c75fb": {
      "model_module": "@jupyter-widgets/controls",
      "model_module_version": "2.0.0",
      "model_name": "FloatProgressModel",
      "state": {
       "layout": "IPY_MODEL_0da7f89e328345d586922c0bd403362f",
       "max": 94,
       "style": "IPY_MODEL_fe311ca66b5e492491b537a92d0bc2fd",
       "value": 94
      }
     },
     "966c8dd81d4346d7a13d97b20fe57d47": {
      "model_module": "@jupyter-widgets/controls",
      "model_module_version": "2.0.0",
      "model_name": "HTMLStyleModel",
      "state": {
       "description_width": "",
       "font_size": null,
       "text_color": null
      }
     },
     "96f9069034004eb4b085cd978f5aedee": {
      "model_module": "@jupyter-widgets/base",
      "model_module_version": "2.0.0",
      "model_name": "LayoutModel",
      "state": {}
     },
     "9723f52ab9b2402bb37ed1659a9f4df8": {
      "model_module": "@jupyter-widgets/controls",
      "model_module_version": "2.0.0",
      "model_name": "HTMLModel",
      "state": {
       "layout": "IPY_MODEL_7944a92358bb48a9a0f83361030981dd",
       "style": "IPY_MODEL_1ce7a26b6e1d406a8135850c8b6522d8",
       "value": " 79/79 [00:00&lt;00:00, 165.92it/s]"
      }
     },
     "97a2218805d0447595e45582af239b79": {
      "model_module": "@jupyter-widgets/controls",
      "model_module_version": "2.0.0",
      "model_name": "HTMLModel",
      "state": {
       "layout": "IPY_MODEL_7d8942ed84ff4524becdc5852bc35262",
       "style": "IPY_MODEL_1d6da5304f8743a8bb3e9657bcf96f15",
       "value": " 94/94 [00:00&lt;00:00, 134.23it/s]"
      }
     },
     "97cb51c780d146d286d9305cabf083d6": {
      "model_module": "@jupyter-widgets/controls",
      "model_module_version": "2.0.0",
      "model_name": "HTMLStyleModel",
      "state": {
       "description_width": "",
       "font_size": null,
       "text_color": null
      }
     },
     "97cbf9b52ffe4ef9b795eecc007235db": {
      "model_module": "@jupyter-widgets/base",
      "model_module_version": "2.0.0",
      "model_name": "LayoutModel",
      "state": {
       "flex": "2"
      }
     },
     "987b9c0257f340e9b9f44920df60db6c": {
      "model_module": "@jupyter-widgets/base",
      "model_module_version": "2.0.0",
      "model_name": "LayoutModel",
      "state": {
       "display": "inline-flex",
       "flex_flow": "row wrap",
       "visibility": "hidden",
       "width": "100%"
      }
     },
     "988de6b5defb46bda7e6f775a95862cd": {
      "model_module": "@jupyter-widgets/controls",
      "model_module_version": "2.0.0",
      "model_name": "FloatProgressModel",
      "state": {
       "layout": "IPY_MODEL_67c7242f1ced40ea819c97ee2f80e831",
       "max": 94,
       "style": "IPY_MODEL_5b68136cd6114fe8844982a97ad87b4b",
       "value": 94
      }
     },
     "990819b5b4b6467fad0394ac1bb40c48": {
      "model_module": "@jupyter-widgets/base",
      "model_module_version": "2.0.0",
      "model_name": "LayoutModel",
      "state": {
       "flex": "2"
      }
     },
     "997ec528e3a042fd9ae193d2d392dd89": {
      "model_module": "@jupyter-widgets/controls",
      "model_module_version": "2.0.0",
      "model_name": "ProgressStyleModel",
      "state": {
       "description_width": ""
      }
     },
     "99faadf750304286a196f949aec62262": {
      "model_module": "@jupyter-widgets/controls",
      "model_module_version": "2.0.0",
      "model_name": "HTMLStyleModel",
      "state": {
       "description_width": "",
       "font_size": null,
       "text_color": null
      }
     },
     "9a2b5c357f8049fca8cf0e50561b25be": {
      "model_module": "@jupyter-widgets/controls",
      "model_module_version": "2.0.0",
      "model_name": "HTMLModel",
      "state": {
       "layout": "IPY_MODEL_7a9c76ec9bad4a9684266c7a4465c7be",
       "style": "IPY_MODEL_3bb63b8cef924fce98b08cf9ad132d8c",
       "value": "Validation DataLoader 0: 100%"
      }
     },
     "9ab7a1a1d6394c1e9d851069cddd436a": {
      "model_module": "@jupyter-widgets/controls",
      "model_module_version": "2.0.0",
      "model_name": "HTMLStyleModel",
      "state": {
       "description_width": "",
       "font_size": null,
       "text_color": null
      }
     },
     "9ad2fa2aa5804313b91acb101450393c": {
      "model_module": "@jupyter-widgets/controls",
      "model_module_version": "2.0.0",
      "model_name": "HTMLModel",
      "state": {
       "layout": "IPY_MODEL_f467efd1e1124203a43e1ecc9acfc431",
       "style": "IPY_MODEL_db24546a47b64660a18738bc0846f509",
       "value": "Validation DataLoader 0: 100%"
      }
     },
     "9bd2185641c7445da90d8a5bbbebef96": {
      "model_module": "@jupyter-widgets/base",
      "model_module_version": "2.0.0",
      "model_name": "LayoutModel",
      "state": {}
     },
     "9bd6ccc57eb84c1492d322a374432d70": {
      "model_module": "@jupyter-widgets/controls",
      "model_module_version": "2.0.0",
      "model_name": "HTMLModel",
      "state": {
       "layout": "IPY_MODEL_2c262e7d69e740f3aee71be349f17f07",
       "style": "IPY_MODEL_258f72b6f01d4e999290b9dcf46cdbd7",
       "value": " 2/2 [00:00&lt;00:00, 45.96it/s]"
      }
     },
     "9c346dee50ea41bcba638bf26f575c32": {
      "model_module": "@jupyter-widgets/base",
      "model_module_version": "2.0.0",
      "model_name": "LayoutModel",
      "state": {}
     },
     "9c70e14500824996acaaeae1ac72612f": {
      "model_module": "@jupyter-widgets/controls",
      "model_module_version": "2.0.0",
      "model_name": "HTMLStyleModel",
      "state": {
       "description_width": "",
       "font_size": null,
       "text_color": null
      }
     },
     "9ca48cddecdd465990c9e859a61f1ee0": {
      "model_module": "@jupyter-widgets/controls",
      "model_module_version": "2.0.0",
      "model_name": "FloatProgressModel",
      "state": {
       "layout": "IPY_MODEL_6eb124cb75cf47b4adb50c20189dbb03",
       "max": 94,
       "style": "IPY_MODEL_a364bde71cf94c04bdce5feabdf80281",
       "value": 94
      }
     },
     "9d2c224a1c774926ac7dc345ef72fa30": {
      "model_module": "@jupyter-widgets/controls",
      "model_module_version": "2.0.0",
      "model_name": "HTMLStyleModel",
      "state": {
       "description_width": "",
       "font_size": null,
       "text_color": null
      }
     },
     "9dea66b5ad7b4ad298ecb2d263e1707c": {
      "model_module": "@jupyter-widgets/base",
      "model_module_version": "2.0.0",
      "model_name": "LayoutModel",
      "state": {}
     },
     "9e0335a8e7264d128a418ca139edc134": {
      "model_module": "@jupyter-widgets/controls",
      "model_module_version": "2.0.0",
      "model_name": "HTMLStyleModel",
      "state": {
       "description_width": "",
       "font_size": null,
       "text_color": null
      }
     },
     "9e472bbe7b62429fa7419ee2b5cc4856": {
      "model_module": "@jupyter-widgets/base",
      "model_module_version": "2.0.0",
      "model_name": "LayoutModel",
      "state": {}
     },
     "9e6f96e482604cc68ee563454b88b059": {
      "model_module": "@jupyter-widgets/controls",
      "model_module_version": "2.0.0",
      "model_name": "HTMLStyleModel",
      "state": {
       "description_width": "",
       "font_size": null,
       "text_color": null
      }
     },
     "9eb6e7ac137c412e8a00e3aa8202c9a1": {
      "model_module": "@jupyter-widgets/base",
      "model_module_version": "2.0.0",
      "model_name": "LayoutModel",
      "state": {}
     },
     "a087de3df36f4e448e500919740233b4": {
      "model_module": "@jupyter-widgets/base",
      "model_module_version": "2.0.0",
      "model_name": "LayoutModel",
      "state": {
       "flex": "2"
      }
     },
     "a0de8e056ed14593be831e1b1e22e68e": {
      "model_module": "@jupyter-widgets/base",
      "model_module_version": "2.0.0",
      "model_name": "LayoutModel",
      "state": {
       "flex": "2"
      }
     },
     "a0e3fe283f3b413dafcd79dae28c199f": {
      "model_module": "@jupyter-widgets/base",
      "model_module_version": "2.0.0",
      "model_name": "LayoutModel",
      "state": {
       "display": "inline-flex",
       "flex_flow": "row wrap",
       "width": "100%"
      }
     },
     "a2067b1c82db4cf4926930dda429398b": {
      "model_module": "@jupyter-widgets/base",
      "model_module_version": "2.0.0",
      "model_name": "LayoutModel",
      "state": {}
     },
     "a2479f84272e43b284792ed6f5968688": {
      "model_module": "@jupyter-widgets/controls",
      "model_module_version": "2.0.0",
      "model_name": "HTMLStyleModel",
      "state": {
       "description_width": "",
       "font_size": null,
       "text_color": null
      }
     },
     "a2821758fe4d4b3ba8036d784566c875": {
      "model_module": "@jupyter-widgets/controls",
      "model_module_version": "2.0.0",
      "model_name": "HBoxModel",
      "state": {
       "children": [
        "IPY_MODEL_3ff181237790479f9782f51cceebff85",
        "IPY_MODEL_d3672f65659848f7823ee5f5d6881d9b",
        "IPY_MODEL_b6dc0f395d1e458ab5fbb751e4552fc1"
       ],
       "layout": "IPY_MODEL_cddd32667d044ec19c9cacca23bc5f70"
      }
     },
     "a364bde71cf94c04bdce5feabdf80281": {
      "model_module": "@jupyter-widgets/controls",
      "model_module_version": "2.0.0",
      "model_name": "ProgressStyleModel",
      "state": {
       "description_width": ""
      }
     },
     "a42281adaf2342819c37d14736a95edc": {
      "model_module": "@jupyter-widgets/controls",
      "model_module_version": "2.0.0",
      "model_name": "ProgressStyleModel",
      "state": {
       "description_width": ""
      }
     },
     "a454adc1ac684c7c9127f01b614314aa": {
      "model_module": "@jupyter-widgets/base",
      "model_module_version": "2.0.0",
      "model_name": "LayoutModel",
      "state": {}
     },
     "a520d090c986408ebf9550543466104f": {
      "model_module": "@jupyter-widgets/controls",
      "model_module_version": "2.0.0",
      "model_name": "HTMLModel",
      "state": {
       "layout": "IPY_MODEL_1b8b721153464d4bb7899f43300341e8",
       "style": "IPY_MODEL_6514538633284ae4b5f6eadf28f9d574",
       "value": " 94/94 [00:00&lt;00:00, 176.09it/s]"
      }
     },
     "a53f8a41ebd64104a8a5e4d38fb1bc22": {
      "model_module": "@jupyter-widgets/controls",
      "model_module_version": "2.0.0",
      "model_name": "HTMLStyleModel",
      "state": {
       "description_width": "",
       "font_size": null,
       "text_color": null
      }
     },
     "a56e27e92dff4ff985dbcfd4c6627ea1": {
      "model_module": "@jupyter-widgets/controls",
      "model_module_version": "2.0.0",
      "model_name": "HTMLStyleModel",
      "state": {
       "description_width": "",
       "font_size": null,
       "text_color": null
      }
     },
     "a597ed87251347d7a2d65f4f89086ed0": {
      "model_module": "@jupyter-widgets/base",
      "model_module_version": "2.0.0",
      "model_name": "LayoutModel",
      "state": {
       "flex": "2"
      }
     },
     "a64c8ab3547e4de1b64d9cf8c8801b4c": {
      "model_module": "@jupyter-widgets/base",
      "model_module_version": "2.0.0",
      "model_name": "LayoutModel",
      "state": {}
     },
     "a667b00839884775b592943013c2960a": {
      "model_module": "@jupyter-widgets/base",
      "model_module_version": "2.0.0",
      "model_name": "LayoutModel",
      "state": {
       "flex": "2"
      }
     },
     "a6a978d35ccd4d3096bac519bc9603d6": {
      "model_module": "@jupyter-widgets/controls",
      "model_module_version": "2.0.0",
      "model_name": "ProgressStyleModel",
      "state": {
       "description_width": ""
      }
     },
     "a7808665fb4144f990a51678f13f702c": {
      "model_module": "@jupyter-widgets/controls",
      "model_module_version": "2.0.0",
      "model_name": "FloatProgressModel",
      "state": {
       "layout": "IPY_MODEL_a0de8e056ed14593be831e1b1e22e68e",
       "max": 2,
       "style": "IPY_MODEL_85dfe27f03124fa98f039a7d3e73eacd",
       "value": 2
      }
     },
     "a79afa72cde5468c80c89ceac2e10662": {
      "model_module": "@jupyter-widgets/controls",
      "model_module_version": "2.0.0",
      "model_name": "FloatProgressModel",
      "state": {
       "layout": "IPY_MODEL_21f575d3f3f9478eab6cd483207e7c33",
       "max": 2,
       "style": "IPY_MODEL_6471be7a13074ef0b10aa3e2cccb39fe",
       "value": 2
      }
     },
     "a7a3726c15b84efd87a1945f04468c2c": {
      "model_module": "@jupyter-widgets/controls",
      "model_module_version": "2.0.0",
      "model_name": "FloatProgressModel",
      "state": {
       "layout": "IPY_MODEL_5df8d47fef1f4e339983204c5f184f9a",
       "max": 94,
       "style": "IPY_MODEL_549e057a35904ab59d34954b168bb610",
       "value": 94
      }
     },
     "a7b89abed2314bb6be0c40728b4300cb": {
      "model_module": "@jupyter-widgets/base",
      "model_module_version": "2.0.0",
      "model_name": "LayoutModel",
      "state": {
       "display": "inline-flex",
       "flex_flow": "row wrap",
       "visibility": "hidden",
       "width": "100%"
      }
     },
     "a87dbb9612c04c43b7a87d17f36ee523": {
      "model_module": "@jupyter-widgets/controls",
      "model_module_version": "2.0.0",
      "model_name": "HTMLModel",
      "state": {
       "layout": "IPY_MODEL_51fca29610fe45eaa7f425c241a5a2b8",
       "style": "IPY_MODEL_57a69e5276de43d8bdc4726096ce425b",
       "value": "Validation DataLoader 0: 100%"
      }
     },
     "a87ebf474c7c4e19aa0df6386622beef": {
      "model_module": "@jupyter-widgets/base",
      "model_module_version": "2.0.0",
      "model_name": "LayoutModel",
      "state": {}
     },
     "a8b969112e4d430a9a44ea8c79b44352": {
      "model_module": "@jupyter-widgets/controls",
      "model_module_version": "2.0.0",
      "model_name": "HTMLModel",
      "state": {
       "layout": "IPY_MODEL_72de335e88444c0db0817e8adace4ca6",
       "style": "IPY_MODEL_e5914693ea824cdf92d4425f337dd81e",
       "value": " 94/94 [00:00&lt;00:00, 144.15it/s]"
      }
     },
     "a8d1c9cf7c3c470c9360737a08120067": {
      "model_module": "@jupyter-widgets/controls",
      "model_module_version": "2.0.0",
      "model_name": "HTMLStyleModel",
      "state": {
       "description_width": "",
       "font_size": null,
       "text_color": null
      }
     },
     "a905bf35c07a446b85e41c8427e5035b": {
      "model_module": "@jupyter-widgets/controls",
      "model_module_version": "2.0.0",
      "model_name": "HTMLStyleModel",
      "state": {
       "description_width": "",
       "font_size": null,
       "text_color": null
      }
     },
     "a90e46bb8d4d4a4c934a7a03adf1331c": {
      "model_module": "@jupyter-widgets/controls",
      "model_module_version": "2.0.0",
      "model_name": "HTMLModel",
      "state": {
       "layout": "IPY_MODEL_c870455a31814ce488a6a541b7f7c7c4",
       "style": "IPY_MODEL_1d2e3b8de8b4417a8cf37bd9104bc10f",
       "value": " 94/94 [00:00&lt;00:00, 179.34it/s]"
      }
     },
     "a97e12913eff4d398e925a0b3d547152": {
      "model_module": "@jupyter-widgets/controls",
      "model_module_version": "2.0.0",
      "model_name": "ProgressStyleModel",
      "state": {
       "description_width": ""
      }
     },
     "a9a7859f160e4e8c863c71b72f863b58": {
      "model_module": "@jupyter-widgets/base",
      "model_module_version": "2.0.0",
      "model_name": "LayoutModel",
      "state": {}
     },
     "a9d509f2a80e4ea9a1dff27f8b3ecd96": {
      "model_module": "@jupyter-widgets/controls",
      "model_module_version": "2.0.0",
      "model_name": "HTMLModel",
      "state": {
       "layout": "IPY_MODEL_60cf72ea2120410aa23d64196e7441ef",
       "style": "IPY_MODEL_1a4a24b157d14daaa8e6b6eaedaed686",
       "value": " 94/94 [00:00&lt;00:00, 123.95it/s]"
      }
     },
     "aa38c64f4625455ba7a3ecbd13eaf545": {
      "model_module": "@jupyter-widgets/controls",
      "model_module_version": "2.0.0",
      "model_name": "HTMLStyleModel",
      "state": {
       "description_width": "",
       "font_size": null,
       "text_color": null
      }
     },
     "aaf6067e8bd648e79f8b033ff89915a8": {
      "model_module": "@jupyter-widgets/controls",
      "model_module_version": "2.0.0",
      "model_name": "FloatProgressModel",
      "state": {
       "layout": "IPY_MODEL_2af33a25b22c4b2d8206fe8e3475fe54",
       "max": 94,
       "style": "IPY_MODEL_b317d6ee399d40d2b90f1362ec6accc3",
       "value": 94
      }
     },
     "ab2c08eb4ca045c8ac02d5e4e62d2031": {
      "model_module": "@jupyter-widgets/base",
      "model_module_version": "2.0.0",
      "model_name": "LayoutModel",
      "state": {
       "display": "inline-flex",
       "flex_flow": "row wrap",
       "visibility": "hidden",
       "width": "100%"
      }
     },
     "abb49063c0dc43c8be3ed88c5cfed386": {
      "model_module": "@jupyter-widgets/controls",
      "model_module_version": "2.0.0",
      "model_name": "HTMLStyleModel",
      "state": {
       "description_width": "",
       "font_size": null,
       "text_color": null
      }
     },
     "abc442d0ef094317b4de53724af35db4": {
      "model_module": "@jupyter-widgets/controls",
      "model_module_version": "2.0.0",
      "model_name": "HTMLModel",
      "state": {
       "layout": "IPY_MODEL_25d64093b97841b9ad3d974a36981982",
       "style": "IPY_MODEL_fdc6b21839c243f0b5e4806c06fa7c78",
       "value": "Validation DataLoader 0: 100%"
      }
     },
     "ac0483cc29cd451bb8e0f60d3fc71c5a": {
      "model_module": "@jupyter-widgets/controls",
      "model_module_version": "2.0.0",
      "model_name": "HTMLModel",
      "state": {
       "layout": "IPY_MODEL_7a9692d6de124010a4cce6b038d4e540",
       "style": "IPY_MODEL_0421896b56ee455c99e9c288c8303a91",
       "value": " 94/94 [00:00&lt;00:00, 128.49it/s]"
      }
     },
     "aca43434100e4c3b95fde325846a36f0": {
      "model_module": "@jupyter-widgets/base",
      "model_module_version": "2.0.0",
      "model_name": "LayoutModel",
      "state": {}
     },
     "acd647450fe0486793a2cf2363f0d247": {
      "model_module": "@jupyter-widgets/base",
      "model_module_version": "2.0.0",
      "model_name": "LayoutModel",
      "state": {
       "flex": "2"
      }
     },
     "acd96202fc0543d9a3b5cc67e1238d17": {
      "model_module": "@jupyter-widgets/controls",
      "model_module_version": "2.0.0",
      "model_name": "HTMLModel",
      "state": {
       "layout": "IPY_MODEL_b83daaf8249946c8b70533b6a09476f9",
       "style": "IPY_MODEL_0601202dcf4b4710894b3996d850c85b",
       "value": " 94/94 [00:00&lt;00:00, 167.02it/s]"
      }
     },
     "aced6938e355459498fe6777ca46b406": {
      "model_module": "@jupyter-widgets/controls",
      "model_module_version": "2.0.0",
      "model_name": "HTMLModel",
      "state": {
       "layout": "IPY_MODEL_9e472bbe7b62429fa7419ee2b5cc4856",
       "style": "IPY_MODEL_32a87d70e48a40fb8b69cbcdf6b90266",
       "value": " 94/94 [00:00&lt;00:00, 191.20it/s]"
      }
     },
     "ae1832f4a77e43bf84403c214ed68002": {
      "model_module": "@jupyter-widgets/controls",
      "model_module_version": "2.0.0",
      "model_name": "FloatProgressModel",
      "state": {
       "layout": "IPY_MODEL_6d57283f5d6e41d4a118d0c56fbd8935",
       "max": 94,
       "style": "IPY_MODEL_4497a66d9dc544a0b2ce471359270394",
       "value": 94
      }
     },
     "ae3a6822785c471f9afabcaad73a9418": {
      "model_module": "@jupyter-widgets/controls",
      "model_module_version": "2.0.0",
      "model_name": "HTMLStyleModel",
      "state": {
       "description_width": "",
       "font_size": null,
       "text_color": null
      }
     },
     "ae3c6a5e561a4506b3823db6c63b5bec": {
      "model_module": "@jupyter-widgets/controls",
      "model_module_version": "2.0.0",
      "model_name": "HTMLStyleModel",
      "state": {
       "description_width": "",
       "font_size": null,
       "text_color": null
      }
     },
     "aeceb8ac423a4cab82c2bf6d9c49f4a8": {
      "model_module": "@jupyter-widgets/base",
      "model_module_version": "2.0.0",
      "model_name": "LayoutModel",
      "state": {
       "display": "inline-flex",
       "flex_flow": "row wrap",
       "visibility": "hidden",
       "width": "100%"
      }
     },
     "aee86733b1334e149a9bf358162e687c": {
      "model_module": "@jupyter-widgets/base",
      "model_module_version": "2.0.0",
      "model_name": "LayoutModel",
      "state": {
       "display": "inline-flex",
       "flex_flow": "row wrap",
       "visibility": "hidden",
       "width": "100%"
      }
     },
     "aee9b2bc7b774ed9ae9baf667e0bce47": {
      "model_module": "@jupyter-widgets/controls",
      "model_module_version": "2.0.0",
      "model_name": "HTMLStyleModel",
      "state": {
       "description_width": "",
       "font_size": null,
       "text_color": null
      }
     },
     "af05ef402a314d3da54f177f0574d180": {
      "model_module": "@jupyter-widgets/base",
      "model_module_version": "2.0.0",
      "model_name": "LayoutModel",
      "state": {
       "display": "inline-flex",
       "flex_flow": "row wrap",
       "visibility": "hidden",
       "width": "100%"
      }
     },
     "af7f73a1801945ceaf2afb335518baf4": {
      "model_module": "@jupyter-widgets/base",
      "model_module_version": "2.0.0",
      "model_name": "LayoutModel",
      "state": {
       "flex": "2"
      }
     },
     "af9eec640f254a449ec35bfe11175ccb": {
      "model_module": "@jupyter-widgets/base",
      "model_module_version": "2.0.0",
      "model_name": "LayoutModel",
      "state": {
       "flex": "2"
      }
     },
     "afd461eba85f45ab8cc5089caaab6f20": {
      "model_module": "@jupyter-widgets/controls",
      "model_module_version": "2.0.0",
      "model_name": "HTMLModel",
      "state": {
       "layout": "IPY_MODEL_b62758cd18a6424bb2ded6d4cac10803",
       "style": "IPY_MODEL_c7fd7a6fa3344b4da28b9a0343fbc1fb",
       "value": "Validation DataLoader 0: 100%"
      }
     },
     "afdb1169337542b6bfa9f6e0464a9f25": {
      "model_module": "@jupyter-widgets/controls",
      "model_module_version": "2.0.0",
      "model_name": "ProgressStyleModel",
      "state": {
       "description_width": ""
      }
     },
     "b0961250a60b4a9aa9aa074e580597d5": {
      "model_module": "@jupyter-widgets/base",
      "model_module_version": "2.0.0",
      "model_name": "LayoutModel",
      "state": {
       "display": "inline-flex",
       "flex_flow": "row wrap",
       "visibility": "hidden",
       "width": "100%"
      }
     },
     "b0b7fa06db7645f893bf8014a2b48885": {
      "model_module": "@jupyter-widgets/base",
      "model_module_version": "2.0.0",
      "model_name": "LayoutModel",
      "state": {}
     },
     "b0c8f429429041e286fe6e0fa85322d3": {
      "model_module": "@jupyter-widgets/controls",
      "model_module_version": "2.0.0",
      "model_name": "HTMLModel",
      "state": {
       "layout": "IPY_MODEL_237b855a0f6c4022ae8c06185479e1ec",
       "style": "IPY_MODEL_9320684c5ea44485bb97b46a20620ee1",
       "value": "Validation DataLoader 0: 100%"
      }
     },
     "b1726ad8b7384e47929af0ec712ee17f": {
      "model_module": "@jupyter-widgets/base",
      "model_module_version": "2.0.0",
      "model_name": "LayoutModel",
      "state": {}
     },
     "b1a0bc1a85114754ab681bdb08c1ab7e": {
      "model_module": "@jupyter-widgets/base",
      "model_module_version": "2.0.0",
      "model_name": "LayoutModel",
      "state": {}
     },
     "b24b7713b1d146cfbb666d2af71f153a": {
      "model_module": "@jupyter-widgets/base",
      "model_module_version": "2.0.0",
      "model_name": "LayoutModel",
      "state": {}
     },
     "b25725886dff4382be8a2a67b66305af": {
      "model_module": "@jupyter-widgets/base",
      "model_module_version": "2.0.0",
      "model_name": "LayoutModel",
      "state": {
       "flex": "2"
      }
     },
     "b317d6ee399d40d2b90f1362ec6accc3": {
      "model_module": "@jupyter-widgets/controls",
      "model_module_version": "2.0.0",
      "model_name": "ProgressStyleModel",
      "state": {
       "description_width": ""
      }
     },
     "b3651a9b08b2426b9a6921395a2e261e": {
      "model_module": "@jupyter-widgets/base",
      "model_module_version": "2.0.0",
      "model_name": "LayoutModel",
      "state": {}
     },
     "b3662509aed9449eaab3a91afb190dec": {
      "model_module": "@jupyter-widgets/base",
      "model_module_version": "2.0.0",
      "model_name": "LayoutModel",
      "state": {
       "display": "inline-flex",
       "flex_flow": "row wrap",
       "visibility": "hidden",
       "width": "100%"
      }
     },
     "b3a804d64ba8416981232aca282f280a": {
      "model_module": "@jupyter-widgets/controls",
      "model_module_version": "2.0.0",
      "model_name": "HTMLStyleModel",
      "state": {
       "description_width": "",
       "font_size": null,
       "text_color": null
      }
     },
     "b4686cb0b01e46c1b401c6dde459b94d": {
      "model_module": "@jupyter-widgets/controls",
      "model_module_version": "2.0.0",
      "model_name": "HTMLStyleModel",
      "state": {
       "description_width": "",
       "font_size": null,
       "text_color": null
      }
     },
     "b4b794dd1db9401a9a0284f32440128a": {
      "model_module": "@jupyter-widgets/controls",
      "model_module_version": "2.0.0",
      "model_name": "FloatProgressModel",
      "state": {
       "layout": "IPY_MODEL_d1ba381d272e487594950fbd79150130",
       "max": 94,
       "style": "IPY_MODEL_cad0a70a268f4aa39bc7df12ca2e4c22",
       "value": 94
      }
     },
     "b506b1c4ac0144bc8cd354b1aa54f12e": {
      "model_module": "@jupyter-widgets/controls",
      "model_module_version": "2.0.0",
      "model_name": "HTMLModel",
      "state": {
       "layout": "IPY_MODEL_07dfd384f73e4ea89017e60ae12ca7d1",
       "style": "IPY_MODEL_3494497e34504d3bb6f8c76c6fe7cc86",
       "value": "Validation DataLoader 0: 100%"
      }
     },
     "b5c8fac78d174af08b08f795f31f9295": {
      "model_module": "@jupyter-widgets/controls",
      "model_module_version": "2.0.0",
      "model_name": "HTMLStyleModel",
      "state": {
       "description_width": "",
       "font_size": null,
       "text_color": null
      }
     },
     "b606e69ed31a46d38b99e5425b8ff9f8": {
      "model_module": "@jupyter-widgets/controls",
      "model_module_version": "2.0.0",
      "model_name": "HTMLModel",
      "state": {
       "layout": "IPY_MODEL_be6591fcc45e4bb2b980ef84f2ae76d3",
       "style": "IPY_MODEL_85ba8c8f0e604a63ba108143a7280eb8",
       "value": " 375/375 [00:10&lt;00:00, 35.59it/s, v_num=6, val_loss=0.326, train_loss=0.325, learning_rate=3.98e-9]"
      }
     },
     "b61d84216f8347e68ff60630a4777a6a": {
      "model_module": "@jupyter-widgets/controls",
      "model_module_version": "2.0.0",
      "model_name": "ProgressStyleModel",
      "state": {
       "description_width": ""
      }
     },
     "b62758cd18a6424bb2ded6d4cac10803": {
      "model_module": "@jupyter-widgets/base",
      "model_module_version": "2.0.0",
      "model_name": "LayoutModel",
      "state": {}
     },
     "b664454e96f44da79c6a6adace7b201b": {
      "model_module": "@jupyter-widgets/controls",
      "model_module_version": "2.0.0",
      "model_name": "ProgressStyleModel",
      "state": {
       "description_width": ""
      }
     },
     "b6dc0f395d1e458ab5fbb751e4552fc1": {
      "model_module": "@jupyter-widgets/controls",
      "model_module_version": "2.0.0",
      "model_name": "HTMLModel",
      "state": {
       "layout": "IPY_MODEL_07f1cb8440ff452f8daa27ec7fa2787c",
       "style": "IPY_MODEL_2acc9114eaf44b29a9d3ebc6201650b8",
       "value": " 94/94 [00:00&lt;00:00, 184.45it/s]"
      }
     },
     "b72b3db403594b7bab8201517d13070c": {
      "model_module": "@jupyter-widgets/base",
      "model_module_version": "2.0.0",
      "model_name": "LayoutModel",
      "state": {}
     },
     "b7814fc3ac1b46bbbd70d86fa5080218": {
      "model_module": "@jupyter-widgets/controls",
      "model_module_version": "2.0.0",
      "model_name": "HTMLStyleModel",
      "state": {
       "description_width": "",
       "font_size": null,
       "text_color": null
      }
     },
     "b7af9d2c977940b18afd4515a4a1b6a8": {
      "model_module": "@jupyter-widgets/base",
      "model_module_version": "2.0.0",
      "model_name": "LayoutModel",
      "state": {}
     },
     "b7d049267a7c4403ac97ef5c0984d134": {
      "model_module": "@jupyter-widgets/base",
      "model_module_version": "2.0.0",
      "model_name": "LayoutModel",
      "state": {
       "flex": "2"
      }
     },
     "b7f1f20df7f744c0a84c3d48efb72858": {
      "model_module": "@jupyter-widgets/controls",
      "model_module_version": "2.0.0",
      "model_name": "FloatProgressModel",
      "state": {
       "bar_style": "danger",
       "layout": "IPY_MODEL_cd02df4524654a8fa475f545468055c9",
       "style": "IPY_MODEL_74b7d526b52f4a4684ba77c52ce5d7c7"
      }
     },
     "b807ea35db814a94b6da77af6d7f0246": {
      "model_module": "@jupyter-widgets/controls",
      "model_module_version": "2.0.0",
      "model_name": "HTMLStyleModel",
      "state": {
       "description_width": "",
       "font_size": null,
       "text_color": null
      }
     },
     "b83daaf8249946c8b70533b6a09476f9": {
      "model_module": "@jupyter-widgets/base",
      "model_module_version": "2.0.0",
      "model_name": "LayoutModel",
      "state": {}
     },
     "b84e56230950423eac1eba18779a43d8": {
      "model_module": "@jupyter-widgets/controls",
      "model_module_version": "2.0.0",
      "model_name": "HTMLModel",
      "state": {
       "layout": "IPY_MODEL_09a20f1668ed4a3cb339b2fc03967c2f",
       "style": "IPY_MODEL_55af505d95354ea5b8bb0aaaf8911db3",
       "value": "Validation DataLoader 0: 100%"
      }
     },
     "b84f76d6799948e6a8188a6db69e7b27": {
      "model_module": "@jupyter-widgets/base",
      "model_module_version": "2.0.0",
      "model_name": "LayoutModel",
      "state": {}
     },
     "b863b08d586d4ca4945a617b1d858ce7": {
      "model_module": "@jupyter-widgets/base",
      "model_module_version": "2.0.0",
      "model_name": "LayoutModel",
      "state": {}
     },
     "b883991c5aa84a1ea5af8ab31e51cc83": {
      "model_module": "@jupyter-widgets/base",
      "model_module_version": "2.0.0",
      "model_name": "LayoutModel",
      "state": {
       "display": "inline-flex",
       "flex_flow": "row wrap",
       "visibility": "hidden",
       "width": "100%"
      }
     },
     "b8cfe1b6d37d4957a1f0b1f50feabf8e": {
      "model_module": "@jupyter-widgets/base",
      "model_module_version": "2.0.0",
      "model_name": "LayoutModel",
      "state": {
       "flex": "2"
      }
     },
     "b95c05e6dbc54f94942a51fe0640edfa": {
      "model_module": "@jupyter-widgets/controls",
      "model_module_version": "2.0.0",
      "model_name": "HTMLModel",
      "state": {
       "layout": "IPY_MODEL_4d5ed98d661142ec812906c39f84971e",
       "style": "IPY_MODEL_97cb51c780d146d286d9305cabf083d6",
       "value": " 91/100 [00:00&lt;00:00, 119.02it/s]"
      }
     },
     "b9f514d0d11f40758985949713039cc6": {
      "model_module": "@jupyter-widgets/controls",
      "model_module_version": "2.0.0",
      "model_name": "FloatProgressModel",
      "state": {
       "bar_style": "danger",
       "layout": "IPY_MODEL_5566cfc3658a4323baf111027115f913",
       "style": "IPY_MODEL_bab5c8c778a14a6d8e1d2faa48b4fd15",
       "value": 87
      }
     },
     "ba03717df11e4c7791b462a47a3f1264": {
      "model_module": "@jupyter-widgets/controls",
      "model_module_version": "2.0.0",
      "model_name": "HTMLModel",
      "state": {
       "layout": "IPY_MODEL_7269cf41e902495e8383837e4e33710e",
       "style": "IPY_MODEL_87b050f2a4f44694b9708f9f6632e244",
       "value": " 94/94 [00:00&lt;00:00, 199.41it/s]"
      }
     },
     "ba17cac3f3b1420ba43bb709deef6866": {
      "model_module": "@jupyter-widgets/controls",
      "model_module_version": "2.0.0",
      "model_name": "ProgressStyleModel",
      "state": {
       "description_width": ""
      }
     },
     "ba5b7d6bc6804043864ad4b514fb8620": {
      "model_module": "@jupyter-widgets/controls",
      "model_module_version": "2.0.0",
      "model_name": "HTMLModel",
      "state": {
       "layout": "IPY_MODEL_ff8fb7bcd3bf493cba08bde092538828",
       "style": "IPY_MODEL_027e131d172149e9b62d6dddb40dace9",
       "value": "Validation DataLoader 0: 100%"
      }
     },
     "ba78e7f509ae444498b22bdf226d2530": {
      "model_module": "@jupyter-widgets/controls",
      "model_module_version": "2.0.0",
      "model_name": "ProgressStyleModel",
      "state": {
       "description_width": ""
      }
     },
     "bab5c8c778a14a6d8e1d2faa48b4fd15": {
      "model_module": "@jupyter-widgets/controls",
      "model_module_version": "2.0.0",
      "model_name": "ProgressStyleModel",
      "state": {
       "description_width": ""
      }
     },
     "badadba0883b404ea08fded00cb33438": {
      "model_module": "@jupyter-widgets/base",
      "model_module_version": "2.0.0",
      "model_name": "LayoutModel",
      "state": {}
     },
     "bb43eec685044b68bad718db0d340331": {
      "model_module": "@jupyter-widgets/controls",
      "model_module_version": "2.0.0",
      "model_name": "ProgressStyleModel",
      "state": {
       "description_width": ""
      }
     },
     "bbdc692e984e43d69bff44765ca1ca15": {
      "model_module": "@jupyter-widgets/base",
      "model_module_version": "2.0.0",
      "model_name": "LayoutModel",
      "state": {
       "flex": "2"
      }
     },
     "bca6b76c0b8c42219dbb38db0570e062": {
      "model_module": "@jupyter-widgets/base",
      "model_module_version": "2.0.0",
      "model_name": "LayoutModel",
      "state": {}
     },
     "bce805b87a594049a18da1fea4ed2098": {
      "model_module": "@jupyter-widgets/controls",
      "model_module_version": "2.0.0",
      "model_name": "HTMLModel",
      "state": {
       "layout": "IPY_MODEL_2b8a8de3b011418d8760d2bd500dc70d",
       "style": "IPY_MODEL_29b3d79404884446943f5f8df2beb3af",
       "value": " 94/94 [00:01&lt;00:00, 90.80it/s]"
      }
     },
     "bdfeaa5f1063443a9ccccf015cc2ea1a": {
      "model_module": "@jupyter-widgets/controls",
      "model_module_version": "2.0.0",
      "model_name": "HTMLStyleModel",
      "state": {
       "description_width": "",
       "font_size": null,
       "text_color": null
      }
     },
     "bdff96cd02d049a594f8402bc378bac5": {
      "model_module": "@jupyter-widgets/controls",
      "model_module_version": "2.0.0",
      "model_name": "ProgressStyleModel",
      "state": {
       "description_width": ""
      }
     },
     "be5d15b9251d48e2abbb8c192bf9344a": {
      "model_module": "@jupyter-widgets/controls",
      "model_module_version": "2.0.0",
      "model_name": "HTMLStyleModel",
      "state": {
       "description_width": "",
       "font_size": null,
       "text_color": null
      }
     },
     "be647e85e20c47d3bd8a3a85d05bdfce": {
      "model_module": "@jupyter-widgets/base",
      "model_module_version": "2.0.0",
      "model_name": "LayoutModel",
      "state": {}
     },
     "be6591fcc45e4bb2b980ef84f2ae76d3": {
      "model_module": "@jupyter-widgets/base",
      "model_module_version": "2.0.0",
      "model_name": "LayoutModel",
      "state": {}
     },
     "becadb27a944473b9c2f4f582e88f4e9": {
      "model_module": "@jupyter-widgets/controls",
      "model_module_version": "2.0.0",
      "model_name": "FloatProgressModel",
      "state": {
       "layout": "IPY_MODEL_cfbc4aaaa7a44f84b73430ca4dad0c03",
       "max": 94,
       "style": "IPY_MODEL_f0856058dbcd460fb0603e998df4c74e",
       "value": 94
      }
     },
     "bf0314c32fbe4220a3cc1da0aaefdafe": {
      "model_module": "@jupyter-widgets/base",
      "model_module_version": "2.0.0",
      "model_name": "LayoutModel",
      "state": {
       "display": "inline-flex",
       "flex_flow": "row wrap",
       "visibility": "hidden",
       "width": "100%"
      }
     },
     "bf145ca623f44ad89431b2f82a9ebd66": {
      "model_module": "@jupyter-widgets/base",
      "model_module_version": "2.0.0",
      "model_name": "LayoutModel",
      "state": {}
     },
     "bf424da263bd4bc9bc1b1339e95b8cc4": {
      "model_module": "@jupyter-widgets/controls",
      "model_module_version": "2.0.0",
      "model_name": "HTMLStyleModel",
      "state": {
       "description_width": "",
       "font_size": null,
       "text_color": null
      }
     },
     "c011d95ba5484193ace217637a9f1fe8": {
      "model_module": "@jupyter-widgets/controls",
      "model_module_version": "2.0.0",
      "model_name": "FloatProgressModel",
      "state": {
       "layout": "IPY_MODEL_acd647450fe0486793a2cf2363f0d247",
       "max": 94,
       "style": "IPY_MODEL_f9e4c14ba4814506bccf67415df92edc",
       "value": 94
      }
     },
     "c18e74a8184e47678fe83a87a8ae38de": {
      "model_module": "@jupyter-widgets/base",
      "model_module_version": "2.0.0",
      "model_name": "LayoutModel",
      "state": {
       "display": "inline-flex",
       "flex_flow": "row wrap",
       "visibility": "hidden",
       "width": "100%"
      }
     },
     "c20dbd6ad49449debe038245dda0df43": {
      "model_module": "@jupyter-widgets/base",
      "model_module_version": "2.0.0",
      "model_name": "LayoutModel",
      "state": {}
     },
     "c222f173cd7245cb8b0e28abb21cab12": {
      "model_module": "@jupyter-widgets/controls",
      "model_module_version": "2.0.0",
      "model_name": "FloatProgressModel",
      "state": {
       "layout": "IPY_MODEL_eed4c47333fe492da62ee9935bb4fd96",
       "max": 94,
       "style": "IPY_MODEL_1c74ac4e7c1a442498aeb4a71d96e289",
       "value": 94
      }
     },
     "c2add0ba9bcd426e8c915898f2178aec": {
      "model_module": "@jupyter-widgets/controls",
      "model_module_version": "2.0.0",
      "model_name": "HTMLModel",
      "state": {
       "layout": "IPY_MODEL_e84e880abf014e7b8f477302d99c3236",
       "style": "IPY_MODEL_941d59f9b8a240a8aa05d15ee9f43ac3",
       "value": "Validation DataLoader 0: 100%"
      }
     },
     "c2b40a2f787f4e5991cad7c7e185f663": {
      "model_module": "@jupyter-widgets/controls",
      "model_module_version": "2.0.0",
      "model_name": "FloatProgressModel",
      "state": {
       "layout": "IPY_MODEL_0e8854b932bd4e96b3e743db2e19c273",
       "max": 94,
       "style": "IPY_MODEL_353586c0a0e2467ca09b01b56648ac7f",
       "value": 94
      }
     },
     "c3d0da16b14747f9ac855df9b36cfa54": {
      "model_module": "@jupyter-widgets/controls",
      "model_module_version": "2.0.0",
      "model_name": "FloatProgressModel",
      "state": {
       "layout": "IPY_MODEL_2492b31a65394ca997c84d4d9874b66a",
       "max": 94,
       "style": "IPY_MODEL_e7399afb48c0423eaf8aa8ea53744c5a",
       "value": 94
      }
     },
     "c41e540edc534f509f9d2d707118c426": {
      "model_module": "@jupyter-widgets/controls",
      "model_module_version": "2.0.0",
      "model_name": "FloatProgressModel",
      "state": {
       "layout": "IPY_MODEL_f9fb7a6e5b4146dab57c3d7dea8943ef",
       "max": 94,
       "style": "IPY_MODEL_834ae7ca357f44eb8d2974e307f29057",
       "value": 94
      }
     },
     "c437732b254a4337b7d42468e0744e78": {
      "model_module": "@jupyter-widgets/controls",
      "model_module_version": "2.0.0",
      "model_name": "HTMLModel",
      "state": {
       "layout": "IPY_MODEL_bca6b76c0b8c42219dbb38db0570e062",
       "style": "IPY_MODEL_8bc81d22bcf54de79a41efddeda4081c",
       "value": "Validation DataLoader 0: 100%"
      }
     },
     "c4465cdc04c54aef97502e1b07817410": {
      "model_module": "@jupyter-widgets/base",
      "model_module_version": "2.0.0",
      "model_name": "LayoutModel",
      "state": {}
     },
     "c4593248d9db4633b06d7c1e60e27b7a": {
      "model_module": "@jupyter-widgets/base",
      "model_module_version": "2.0.0",
      "model_name": "LayoutModel",
      "state": {
       "display": "inline-flex",
       "flex_flow": "row wrap",
       "visibility": "hidden",
       "width": "100%"
      }
     },
     "c492f869e5db4368b9f8988476164714": {
      "model_module": "@jupyter-widgets/base",
      "model_module_version": "2.0.0",
      "model_name": "LayoutModel",
      "state": {
       "display": "inline-flex",
       "flex_flow": "row wrap",
       "visibility": "hidden",
       "width": "100%"
      }
     },
     "c50226d6bc5d4d9da604c99c8d2a63ec": {
      "model_module": "@jupyter-widgets/controls",
      "model_module_version": "2.0.0",
      "model_name": "HTMLStyleModel",
      "state": {
       "description_width": "",
       "font_size": null,
       "text_color": null
      }
     },
     "c55771c64b1a4dd692e7b02906bea5eb": {
      "model_module": "@jupyter-widgets/controls",
      "model_module_version": "2.0.0",
      "model_name": "HBoxModel",
      "state": {
       "children": [
        "IPY_MODEL_206a3eb90c274488bed8795d742fe5f0",
        "IPY_MODEL_d8920f57462345dbaa6b2d3306302c2f",
        "IPY_MODEL_420e9b10f11b4d808f291cd2c0c8214b"
       ],
       "layout": "IPY_MODEL_e6ea068e3b2e47b0b9d0a61589ca10c2"
      }
     },
     "c6b75362355343ff9ce90540de2c8867": {
      "model_module": "@jupyter-widgets/base",
      "model_module_version": "2.0.0",
      "model_name": "LayoutModel",
      "state": {}
     },
     "c7138cced89140418a9a7bb2384ee963": {
      "model_module": "@jupyter-widgets/controls",
      "model_module_version": "2.0.0",
      "model_name": "HTMLModel",
      "state": {
       "layout": "IPY_MODEL_84b39b42101d4aa68e7cced434503ef1",
       "style": "IPY_MODEL_93a17aed65584c3098661cb5e2a765f3",
       "value": " 94/94 [00:00&lt;00:00, 192.62it/s]"
      }
     },
     "c75063b3cbfa466e811a38ef20d883d3": {
      "model_module": "@jupyter-widgets/base",
      "model_module_version": "2.0.0",
      "model_name": "LayoutModel",
      "state": {}
     },
     "c7bb24017f1a439f9ea01d74e0d2746f": {
      "model_module": "@jupyter-widgets/base",
      "model_module_version": "2.0.0",
      "model_name": "LayoutModel",
      "state": {
       "flex": "2"
      }
     },
     "c7e924ecc193454993f31ba5db7c28ca": {
      "model_module": "@jupyter-widgets/controls",
      "model_module_version": "2.0.0",
      "model_name": "FloatProgressModel",
      "state": {
       "layout": "IPY_MODEL_d8b3026d639c433e8111682ff21ae4f5",
       "max": 94,
       "style": "IPY_MODEL_d7f06b97547a4c2ba5dd1e1d805cc757",
       "value": 94
      }
     },
     "c7fd7a6fa3344b4da28b9a0343fbc1fb": {
      "model_module": "@jupyter-widgets/controls",
      "model_module_version": "2.0.0",
      "model_name": "HTMLStyleModel",
      "state": {
       "description_width": "",
       "font_size": null,
       "text_color": null
      }
     },
     "c870455a31814ce488a6a541b7f7c7c4": {
      "model_module": "@jupyter-widgets/base",
      "model_module_version": "2.0.0",
      "model_name": "LayoutModel",
      "state": {}
     },
     "c875d4296bc04907a28df5ef962ac94d": {
      "model_module": "@jupyter-widgets/base",
      "model_module_version": "2.0.0",
      "model_name": "LayoutModel",
      "state": {
       "display": "inline-flex",
       "flex_flow": "row wrap",
       "visibility": "hidden",
       "width": "100%"
      }
     },
     "c88091c90c984ed5b5316e771148043d": {
      "model_module": "@jupyter-widgets/base",
      "model_module_version": "2.0.0",
      "model_name": "LayoutModel",
      "state": {
       "display": "inline-flex",
       "flex_flow": "row wrap",
       "visibility": "hidden",
       "width": "100%"
      }
     },
     "c886ccf9c3f74aac81edbf090bbdd65a": {
      "model_module": "@jupyter-widgets/controls",
      "model_module_version": "2.0.0",
      "model_name": "FloatProgressModel",
      "state": {
       "layout": "IPY_MODEL_fb5b1c7df16549939b361648764efbe7",
       "max": 94,
       "style": "IPY_MODEL_3b6014abaa514eccb64cdfbf88ab7ac5",
       "value": 94
      }
     },
     "c88f254ae9724629a31cd198799d00a6": {
      "model_module": "@jupyter-widgets/controls",
      "model_module_version": "2.0.0",
      "model_name": "ProgressStyleModel",
      "state": {
       "description_width": ""
      }
     },
     "c92e6b7cb6ad4071ac71c5dc5a7e4ac5": {
      "model_module": "@jupyter-widgets/controls",
      "model_module_version": "2.0.0",
      "model_name": "HBoxModel",
      "state": {
       "children": [
        "IPY_MODEL_1f389edad6a0454e84c6cb69cc2a5453",
        "IPY_MODEL_b7f1f20df7f744c0a84c3d48efb72858",
        "IPY_MODEL_8817d5c5a20b4671a1b8be11a15a59f9"
       ],
       "layout": "IPY_MODEL_675bb9fefed841ed8e943f15f2c3a63c"
      }
     },
     "c9651cfed4354dbf81c98766af2dddd0": {
      "model_module": "@jupyter-widgets/controls",
      "model_module_version": "2.0.0",
      "model_name": "HTMLModel",
      "state": {
       "layout": "IPY_MODEL_9eb6e7ac137c412e8a00e3aa8202c9a1",
       "style": "IPY_MODEL_5346f34f90b644b1affb4a5fe7685f87",
       "value": "Validation DataLoader 0: 100%"
      }
     },
     "ca0e9b9d6db84442a4b4216550f37af3": {
      "model_module": "@jupyter-widgets/controls",
      "model_module_version": "2.0.0",
      "model_name": "HTMLStyleModel",
      "state": {
       "description_width": "",
       "font_size": null,
       "text_color": null
      }
     },
     "ca144abf876c405184478650650a3474": {
      "model_module": "@jupyter-widgets/base",
      "model_module_version": "2.0.0",
      "model_name": "LayoutModel",
      "state": {
       "flex": "2"
      }
     },
     "ca3df820c88c4c6b8a904de8993b0d9e": {
      "model_module": "@jupyter-widgets/controls",
      "model_module_version": "2.0.0",
      "model_name": "ProgressStyleModel",
      "state": {
       "description_width": ""
      }
     },
     "ca430ce531a74db4bd496499c3ac1c0b": {
      "model_module": "@jupyter-widgets/controls",
      "model_module_version": "2.0.0",
      "model_name": "HTMLModel",
      "state": {
       "layout": "IPY_MODEL_96f9069034004eb4b085cd978f5aedee",
       "style": "IPY_MODEL_a2479f84272e43b284792ed6f5968688",
       "value": "Validation DataLoader 0: 100%"
      }
     },
     "ca69491bd37b4094966858b741a76035": {
      "model_module": "@jupyter-widgets/base",
      "model_module_version": "2.0.0",
      "model_name": "LayoutModel",
      "state": {}
     },
     "ca6dce81f41b46199180f56b75d7ba9f": {
      "model_module": "@jupyter-widgets/controls",
      "model_module_version": "2.0.0",
      "model_name": "FloatProgressModel",
      "state": {
       "layout": "IPY_MODEL_af9eec640f254a449ec35bfe11175ccb",
       "max": 94,
       "style": "IPY_MODEL_44be9576b397400dae3ac3ad2ae34766",
       "value": 94
      }
     },
     "ca882e755bae4ff5ba0bcf33dc16ffe5": {
      "model_module": "@jupyter-widgets/base",
      "model_module_version": "2.0.0",
      "model_name": "LayoutModel",
      "state": {
       "display": "inline-flex",
       "flex_flow": "row wrap",
       "visibility": "hidden",
       "width": "100%"
      }
     },
     "cab05865b9104cb2816a72ae484896ad": {
      "model_module": "@jupyter-widgets/controls",
      "model_module_version": "2.0.0",
      "model_name": "HTMLStyleModel",
      "state": {
       "description_width": "",
       "font_size": null,
       "text_color": null
      }
     },
     "cad0a70a268f4aa39bc7df12ca2e4c22": {
      "model_module": "@jupyter-widgets/controls",
      "model_module_version": "2.0.0",
      "model_name": "ProgressStyleModel",
      "state": {
       "description_width": ""
      }
     },
     "cae47265252d4235a0e2924e8e8371f5": {
      "model_module": "@jupyter-widgets/base",
      "model_module_version": "2.0.0",
      "model_name": "LayoutModel",
      "state": {
       "display": "inline-flex",
       "flex_flow": "row wrap",
       "visibility": "hidden",
       "width": "100%"
      }
     },
     "caf99de01fe84121a62f5ee4bb0ad118": {
      "model_module": "@jupyter-widgets/controls",
      "model_module_version": "2.0.0",
      "model_name": "HTMLModel",
      "state": {
       "layout": "IPY_MODEL_10a7350293a8492e8eeb843f4dafd37f",
       "style": "IPY_MODEL_ff0aef0f607c4a3d81b0cf329e6a6df4",
       "value": "Validation DataLoader 0: 100%"
      }
     },
     "cb1487f15d8f43f9bcbb63b9ef9f0c16": {
      "model_module": "@jupyter-widgets/base",
      "model_module_version": "2.0.0",
      "model_name": "LayoutModel",
      "state": {}
     },
     "cbea3080acfe4de5a08b4e5bd881a437": {
      "model_module": "@jupyter-widgets/controls",
      "model_module_version": "2.0.0",
      "model_name": "HTMLStyleModel",
      "state": {
       "description_width": "",
       "font_size": null,
       "text_color": null
      }
     },
     "cbedefbea5084085a7a98599447ffb5e": {
      "model_module": "@jupyter-widgets/controls",
      "model_module_version": "2.0.0",
      "model_name": "HTMLModel",
      "state": {
       "layout": "IPY_MODEL_74f9b468a47144be8383f0252279285c",
       "style": "IPY_MODEL_cccf505106e44c5d92f0b11ee8ec06b6",
       "value": " 94/94 [00:00&lt;00:00, 167.94it/s]"
      }
     },
     "cccf505106e44c5d92f0b11ee8ec06b6": {
      "model_module": "@jupyter-widgets/controls",
      "model_module_version": "2.0.0",
      "model_name": "HTMLStyleModel",
      "state": {
       "description_width": "",
       "font_size": null,
       "text_color": null
      }
     },
     "cd02df4524654a8fa475f545468055c9": {
      "model_module": "@jupyter-widgets/base",
      "model_module_version": "2.0.0",
      "model_name": "LayoutModel",
      "state": {}
     },
     "cd9ca0d5e01142538ef837d453ead65c": {
      "model_module": "@jupyter-widgets/base",
      "model_module_version": "2.0.0",
      "model_name": "LayoutModel",
      "state": {
       "display": "inline-flex",
       "flex_flow": "row wrap",
       "visibility": "hidden",
       "width": "100%"
      }
     },
     "cddd32667d044ec19c9cacca23bc5f70": {
      "model_module": "@jupyter-widgets/base",
      "model_module_version": "2.0.0",
      "model_name": "LayoutModel",
      "state": {
       "display": "inline-flex",
       "flex_flow": "row wrap",
       "width": "100%"
      }
     },
     "cde64778d5ac48bfa7cfe6f8433114f5": {
      "model_module": "@jupyter-widgets/controls",
      "model_module_version": "2.0.0",
      "model_name": "HTMLStyleModel",
      "state": {
       "description_width": "",
       "font_size": null,
       "text_color": null
      }
     },
     "cde64c5c219547a69eda419240215f85": {
      "model_module": "@jupyter-widgets/controls",
      "model_module_version": "2.0.0",
      "model_name": "FloatProgressModel",
      "state": {
       "layout": "IPY_MODEL_77fd4de48033410898f4385e9e479aee",
       "max": 94,
       "style": "IPY_MODEL_f135d61dc7f542ada5e934335c35ef8b",
       "value": 94
      }
     },
     "ce961091d9254275951796e305b30ac6": {
      "model_module": "@jupyter-widgets/base",
      "model_module_version": "2.0.0",
      "model_name": "LayoutModel",
      "state": {
       "flex": "2"
      }
     },
     "cedbfa2b8ca64e9b906f21476df843af": {
      "model_module": "@jupyter-widgets/base",
      "model_module_version": "2.0.0",
      "model_name": "LayoutModel",
      "state": {}
     },
     "cf469067a7744ef594e424fcd390bdd7": {
      "model_module": "@jupyter-widgets/controls",
      "model_module_version": "2.0.0",
      "model_name": "HTMLModel",
      "state": {
       "layout": "IPY_MODEL_d807513d0265461594c2c8bbdef70a33",
       "style": "IPY_MODEL_142ff4bb0766451a9d0b304992b618ae",
       "value": " 94/94 [00:00&lt;00:00, 175.92it/s]"
      }
     },
     "cfbc4aaaa7a44f84b73430ca4dad0c03": {
      "model_module": "@jupyter-widgets/base",
      "model_module_version": "2.0.0",
      "model_name": "LayoutModel",
      "state": {
       "flex": "2"
      }
     },
     "cfdaf019b63647eb9a9306079975354c": {
      "model_module": "@jupyter-widgets/base",
      "model_module_version": "2.0.0",
      "model_name": "LayoutModel",
      "state": {}
     },
     "cfe66e29dd14445fb188d15d7702b0f7": {
      "model_module": "@jupyter-widgets/controls",
      "model_module_version": "2.0.0",
      "model_name": "HTMLModel",
      "state": {
       "layout": "IPY_MODEL_ec3a5a6664c540e8b177c14a35fa6bf4",
       "style": "IPY_MODEL_529ac04aa51a4a3a9f61ea43bdac2cc3",
       "value": " 94/94 [00:01&lt;00:00, 93.90it/s]"
      }
     },
     "d0816e04b4e44771a1df2eb5ca5eb1d6": {
      "model_module": "@jupyter-widgets/controls",
      "model_module_version": "2.0.0",
      "model_name": "HTMLModel",
      "state": {
       "layout": "IPY_MODEL_ea5e629a33ab47b1bc4d027e1ec7c697",
       "style": "IPY_MODEL_38ebd6a41916466cbae8d268cf5e8fb1",
       "value": "Validation DataLoader 0: 100%"
      }
     },
     "d1070f2ac4a2407b95637ec13f325016": {
      "model_module": "@jupyter-widgets/controls",
      "model_module_version": "2.0.0",
      "model_name": "HTMLModel",
      "state": {
       "layout": "IPY_MODEL_23a64a5c02074a87ad08fdb4081e784a",
       "style": "IPY_MODEL_0c16045fb5e2432fa28fd7125c0b661d",
       "value": " 94/94 [00:01&lt;00:00, 74.27it/s]"
      }
     },
     "d1719c7f48334fd8b61d94f3947ad5f9": {
      "model_module": "@jupyter-widgets/controls",
      "model_module_version": "2.0.0",
      "model_name": "HTMLStyleModel",
      "state": {
       "description_width": "",
       "font_size": null,
       "text_color": null
      }
     },
     "d1ba381d272e487594950fbd79150130": {
      "model_module": "@jupyter-widgets/base",
      "model_module_version": "2.0.0",
      "model_name": "LayoutModel",
      "state": {
       "flex": "2"
      }
     },
     "d1cff6f3acd1406f8e01cdc82ba4ee8f": {
      "model_module": "@jupyter-widgets/base",
      "model_module_version": "2.0.0",
      "model_name": "LayoutModel",
      "state": {}
     },
     "d1f4918738354b6fbbeabd2a998d11c0": {
      "model_module": "@jupyter-widgets/base",
      "model_module_version": "2.0.0",
      "model_name": "LayoutModel",
      "state": {}
     },
     "d2735e916e2149918d565523bd9e5cfa": {
      "model_module": "@jupyter-widgets/base",
      "model_module_version": "2.0.0",
      "model_name": "LayoutModel",
      "state": {}
     },
     "d2ebeff2097e43298ac30dfcd7d44a60": {
      "model_module": "@jupyter-widgets/controls",
      "model_module_version": "2.0.0",
      "model_name": "HTMLModel",
      "state": {
       "layout": "IPY_MODEL_badadba0883b404ea08fded00cb33438",
       "style": "IPY_MODEL_ca0e9b9d6db84442a4b4216550f37af3",
       "value": "Validation DataLoader 0: 100%"
      }
     },
     "d3198961cf5046e5a228f2755bab0bd2": {
      "model_module": "@jupyter-widgets/controls",
      "model_module_version": "2.0.0",
      "model_name": "HTMLModel",
      "state": {
       "layout": "IPY_MODEL_bf145ca623f44ad89431b2f82a9ebd66",
       "style": "IPY_MODEL_8a12154054e244f68d1e4a0fb8075659",
       "value": " 94/94 [00:00&lt;00:00, 237.39it/s]"
      }
     },
     "d3672f65659848f7823ee5f5d6881d9b": {
      "model_module": "@jupyter-widgets/controls",
      "model_module_version": "2.0.0",
      "model_name": "FloatProgressModel",
      "state": {
       "bar_style": "success",
       "layout": "IPY_MODEL_d9041b30130e46159232c1d87edf5fa5",
       "max": 94,
       "style": "IPY_MODEL_ca3df820c88c4c6b8a904de8993b0d9e",
       "value": 94
      }
     },
     "d3678a1a457f4e55aaff25212346bde2": {
      "model_module": "@jupyter-widgets/controls",
      "model_module_version": "2.0.0",
      "model_name": "HTMLModel",
      "state": {
       "layout": "IPY_MODEL_b0b7fa06db7645f893bf8014a2b48885",
       "style": "IPY_MODEL_d3e297d8ced34ccd9ae1d0bd8ba5fd75",
       "value": " 94/94 [00:00&lt;00:00, 225.06it/s]"
      }
     },
     "d3d4ba84e164412496625103567ed958": {
      "model_module": "@jupyter-widgets/controls",
      "model_module_version": "2.0.0",
      "model_name": "HTMLModel",
      "state": {
       "layout": "IPY_MODEL_3a823a996a4d40fa932737a959e5adc9",
       "style": "IPY_MODEL_8a31c07dbab34358942b2d6c88770a11",
       "value": "Validation DataLoader 0: 100%"
      }
     },
     "d3e297d8ced34ccd9ae1d0bd8ba5fd75": {
      "model_module": "@jupyter-widgets/controls",
      "model_module_version": "2.0.0",
      "model_name": "HTMLStyleModel",
      "state": {
       "description_width": "",
       "font_size": null,
       "text_color": null
      }
     },
     "d3e7ce9b3b6548ca96dc17fa3263cd7d": {
      "model_module": "@jupyter-widgets/base",
      "model_module_version": "2.0.0",
      "model_name": "LayoutModel",
      "state": {
       "display": "inline-flex",
       "flex_flow": "row wrap",
       "visibility": "hidden",
       "width": "100%"
      }
     },
     "d510f13b9bcc486f9ce39f65be7f7505": {
      "model_module": "@jupyter-widgets/controls",
      "model_module_version": "2.0.0",
      "model_name": "HTMLStyleModel",
      "state": {
       "description_width": "",
       "font_size": null,
       "text_color": null
      }
     },
     "d52ef31e0443423c9c44d3b800104bae": {
      "model_module": "@jupyter-widgets/controls",
      "model_module_version": "2.0.0",
      "model_name": "FloatProgressModel",
      "state": {
       "layout": "IPY_MODEL_b7d049267a7c4403ac97ef5c0984d134",
       "max": 94,
       "style": "IPY_MODEL_ba78e7f509ae444498b22bdf226d2530",
       "value": 94
      }
     },
     "d557fdcf87dc4c70aba91971e2b85c14": {
      "model_module": "@jupyter-widgets/controls",
      "model_module_version": "2.0.0",
      "model_name": "HBoxModel",
      "state": {
       "children": [
        "IPY_MODEL_314a9f5d3fdb42578158d9aae8354872",
        "IPY_MODEL_b9f514d0d11f40758985949713039cc6",
        "IPY_MODEL_854d350d102243ce9ab805d7401e39ee"
       ],
       "layout": "IPY_MODEL_b863b08d586d4ca4945a617b1d858ce7"
      }
     },
     "d55fe79399a242b483bcbdfc49cceb5d": {
      "model_module": "@jupyter-widgets/base",
      "model_module_version": "2.0.0",
      "model_name": "LayoutModel",
      "state": {}
     },
     "d571d4d143d64aaebd69d91c51fb2728": {
      "model_module": "@jupyter-widgets/base",
      "model_module_version": "2.0.0",
      "model_name": "LayoutModel",
      "state": {
       "display": "inline-flex",
       "flex_flow": "row wrap",
       "visibility": "hidden",
       "width": "100%"
      }
     },
     "d6603fd723a14c75bbf446aaf8924b39": {
      "model_module": "@jupyter-widgets/base",
      "model_module_version": "2.0.0",
      "model_name": "LayoutModel",
      "state": {}
     },
     "d7189cc1aa014f71917d99bc12904da8": {
      "model_module": "@jupyter-widgets/controls",
      "model_module_version": "2.0.0",
      "model_name": "HBoxModel",
      "state": {
       "children": [
        "IPY_MODEL_e68e060041a04a8bb7a08a28517b8c7b",
        "IPY_MODEL_898d82863dee4b1da1dbf85e6e557a23",
        "IPY_MODEL_b95c05e6dbc54f94942a51fe0640edfa"
       ],
       "layout": "IPY_MODEL_42fe0f6c64184bc09489b72b1e09bea1"
      }
     },
     "d76fcceed46f4adfaeffefd220917a29": {
      "model_module": "@jupyter-widgets/controls",
      "model_module_version": "2.0.0",
      "model_name": "HTMLModel",
      "state": {
       "layout": "IPY_MODEL_7a3fdba29817448491b0b04755399e31",
       "style": "IPY_MODEL_a53f8a41ebd64104a8a5e4d38fb1bc22",
       "value": " 94/94 [00:00&lt;00:00, 200.12it/s]"
      }
     },
     "d7f06b97547a4c2ba5dd1e1d805cc757": {
      "model_module": "@jupyter-widgets/controls",
      "model_module_version": "2.0.0",
      "model_name": "ProgressStyleModel",
      "state": {
       "description_width": ""
      }
     },
     "d807513d0265461594c2c8bbdef70a33": {
      "model_module": "@jupyter-widgets/base",
      "model_module_version": "2.0.0",
      "model_name": "LayoutModel",
      "state": {}
     },
     "d81a60e216664da19d8657d291a397cd": {
      "model_module": "@jupyter-widgets/controls",
      "model_module_version": "2.0.0",
      "model_name": "ProgressStyleModel",
      "state": {
       "description_width": ""
      }
     },
     "d8467bfbe18f4ef89a503b56d616e2ed": {
      "model_module": "@jupyter-widgets/base",
      "model_module_version": "2.0.0",
      "model_name": "LayoutModel",
      "state": {
       "flex": "2"
      }
     },
     "d8920f57462345dbaa6b2d3306302c2f": {
      "model_module": "@jupyter-widgets/controls",
      "model_module_version": "2.0.0",
      "model_name": "FloatProgressModel",
      "state": {
       "bar_style": "success",
       "layout": "IPY_MODEL_498a8691e49141f9bb524417a152f6e6",
       "max": 375,
       "style": "IPY_MODEL_a97e12913eff4d398e925a0b3d547152",
       "value": 375
      }
     },
     "d8b3026d639c433e8111682ff21ae4f5": {
      "model_module": "@jupyter-widgets/base",
      "model_module_version": "2.0.0",
      "model_name": "LayoutModel",
      "state": {
       "flex": "2"
      }
     },
     "d9041b30130e46159232c1d87edf5fa5": {
      "model_module": "@jupyter-widgets/base",
      "model_module_version": "2.0.0",
      "model_name": "LayoutModel",
      "state": {
       "flex": "2"
      }
     },
     "d91297edf2aa49b9aea11dc3fed18161": {
      "model_module": "@jupyter-widgets/controls",
      "model_module_version": "2.0.0",
      "model_name": "HTMLModel",
      "state": {
       "layout": "IPY_MODEL_cedbfa2b8ca64e9b906f21476df843af",
       "style": "IPY_MODEL_fa7b5c9efa28491bb3f2bba562efd9d2",
       "value": " 94/94 [00:00&lt;00:00, 179.96it/s]"
      }
     },
     "d95f2483fed64479a3418baf9f7e7031": {
      "model_module": "@jupyter-widgets/controls",
      "model_module_version": "2.0.0",
      "model_name": "FloatProgressModel",
      "state": {
       "bar_style": "success",
       "layout": "IPY_MODEL_8b0d6c14613e467097d2dea85a0b2000",
       "max": 79,
       "style": "IPY_MODEL_26a14aac2f28404e95bac93d6f280b77",
       "value": 79
      }
     },
     "d975680453bf442c9ccea4d2a665b18e": {
      "model_module": "@jupyter-widgets/controls",
      "model_module_version": "2.0.0",
      "model_name": "FloatProgressModel",
      "state": {
       "layout": "IPY_MODEL_b25725886dff4382be8a2a67b66305af",
       "max": 94,
       "style": "IPY_MODEL_da4155df43a74f15903d646e6440683d",
       "value": 94
      }
     },
     "d98ff0d83ae245c1a0d169c4eab0c9e1": {
      "model_module": "@jupyter-widgets/controls",
      "model_module_version": "2.0.0",
      "model_name": "HTMLModel",
      "state": {
       "layout": "IPY_MODEL_dc0534994d8e4b26b016bf6a696ac398",
       "style": "IPY_MODEL_9e0335a8e7264d128a418ca139edc134",
       "value": " 79/79 [00:01&lt;00:00, 78.01it/s]"
      }
     },
     "d9c81d9fef5948b88ab0e533e4e5190a": {
      "model_module": "@jupyter-widgets/controls",
      "model_module_version": "2.0.0",
      "model_name": "HTMLStyleModel",
      "state": {
       "description_width": "",
       "font_size": null,
       "text_color": null
      }
     },
     "d9fc4f5938434991bddf011bf72dbe6b": {
      "model_module": "@jupyter-widgets/base",
      "model_module_version": "2.0.0",
      "model_name": "LayoutModel",
      "state": {
       "display": "inline-flex",
       "flex_flow": "row wrap",
       "visibility": "hidden",
       "width": "100%"
      }
     },
     "da155c8a33944002a886f56cd6f0bd91": {
      "model_module": "@jupyter-widgets/controls",
      "model_module_version": "2.0.0",
      "model_name": "HTMLStyleModel",
      "state": {
       "description_width": "",
       "font_size": null,
       "text_color": null
      }
     },
     "da4155df43a74f15903d646e6440683d": {
      "model_module": "@jupyter-widgets/controls",
      "model_module_version": "2.0.0",
      "model_name": "ProgressStyleModel",
      "state": {
       "description_width": ""
      }
     },
     "da4f43f2d67946edbd1b53c9f12a44e1": {
      "model_module": "@jupyter-widgets/controls",
      "model_module_version": "2.0.0",
      "model_name": "HTMLStyleModel",
      "state": {
       "description_width": "",
       "font_size": null,
       "text_color": null
      }
     },
     "dacfbc4bb10746d8a1fee6aff9961bf9": {
      "model_module": "@jupyter-widgets/controls",
      "model_module_version": "2.0.0",
      "model_name": "HTMLModel",
      "state": {
       "layout": "IPY_MODEL_6aabe25bc2de44cdbe3d7b56b0730c6c",
       "style": "IPY_MODEL_f0a16239edd149938fdd3f9aaef9fc21",
       "value": "Validation DataLoader 0: 100%"
      }
     },
     "db24546a47b64660a18738bc0846f509": {
      "model_module": "@jupyter-widgets/controls",
      "model_module_version": "2.0.0",
      "model_name": "HTMLStyleModel",
      "state": {
       "description_width": "",
       "font_size": null,
       "text_color": null
      }
     },
     "db77e915d55c42d8bf278080ef006319": {
      "model_module": "@jupyter-widgets/controls",
      "model_module_version": "2.0.0",
      "model_name": "HTMLStyleModel",
      "state": {
       "description_width": "",
       "font_size": null,
       "text_color": null
      }
     },
     "db827286ac1240968e8a17f164b7fad0": {
      "model_module": "@jupyter-widgets/controls",
      "model_module_version": "2.0.0",
      "model_name": "HTMLStyleModel",
      "state": {
       "description_width": "",
       "font_size": null,
       "text_color": null
      }
     },
     "dbccf1a05c3640deb5664121f42215aa": {
      "model_module": "@jupyter-widgets/controls",
      "model_module_version": "2.0.0",
      "model_name": "HTMLModel",
      "state": {
       "layout": "IPY_MODEL_327e0ddeefd74ca1889b5f39ef466d76",
       "style": "IPY_MODEL_cde64778d5ac48bfa7cfe6f8433114f5",
       "value": " 94/94 [00:00&lt;00:00, 261.63it/s]"
      }
     },
     "dc0534994d8e4b26b016bf6a696ac398": {
      "model_module": "@jupyter-widgets/base",
      "model_module_version": "2.0.0",
      "model_name": "LayoutModel",
      "state": {}
     },
     "dc24bbc234f7405d88cab232c4cf8e99": {
      "model_module": "@jupyter-widgets/controls",
      "model_module_version": "2.0.0",
      "model_name": "HTMLStyleModel",
      "state": {
       "description_width": "",
       "font_size": null,
       "text_color": null
      }
     },
     "dc57e4bab84848eaac9f09aaec1ef886": {
      "model_module": "@jupyter-widgets/controls",
      "model_module_version": "2.0.0",
      "model_name": "HTMLStyleModel",
      "state": {
       "description_width": "",
       "font_size": null,
       "text_color": null
      }
     },
     "dcabbff21fe542f0a20ec56c352f368d": {
      "model_module": "@jupyter-widgets/base",
      "model_module_version": "2.0.0",
      "model_name": "LayoutModel",
      "state": {
       "display": "inline-flex",
       "flex_flow": "row wrap",
       "visibility": "hidden",
       "width": "100%"
      }
     },
     "dcebfe349136486791befacc518f428c": {
      "model_module": "@jupyter-widgets/base",
      "model_module_version": "2.0.0",
      "model_name": "LayoutModel",
      "state": {
       "flex": "2"
      }
     },
     "dcf0f46da559459eb35b1122029f1856": {
      "model_module": "@jupyter-widgets/base",
      "model_module_version": "2.0.0",
      "model_name": "LayoutModel",
      "state": {
       "display": "inline-flex",
       "flex_flow": "row wrap",
       "visibility": "hidden",
       "width": "100%"
      }
     },
     "dd50b8f84ef64eb8a499b38737a644d6": {
      "model_module": "@jupyter-widgets/controls",
      "model_module_version": "2.0.0",
      "model_name": "FloatProgressModel",
      "state": {
       "layout": "IPY_MODEL_1e2f5b9ac14746e9899505736e191a02",
       "max": 94,
       "style": "IPY_MODEL_8d8acc8f400c4716a1b701cf5516c0c5",
       "value": 94
      }
     },
     "ddeb8d1e823f4b948973e4ac688902be": {
      "model_module": "@jupyter-widgets/base",
      "model_module_version": "2.0.0",
      "model_name": "LayoutModel",
      "state": {}
     },
     "de079a4d6aa845c4a3c2cff6de316b7d": {
      "model_module": "@jupyter-widgets/controls",
      "model_module_version": "2.0.0",
      "model_name": "HTMLStyleModel",
      "state": {
       "description_width": "",
       "font_size": null,
       "text_color": null
      }
     },
     "de3ab671029a49dcb4d7506d57d5286f": {
      "model_module": "@jupyter-widgets/base",
      "model_module_version": "2.0.0",
      "model_name": "LayoutModel",
      "state": {}
     },
     "de40e856a67c4f25bf70054721b16b18": {
      "model_module": "@jupyter-widgets/controls",
      "model_module_version": "2.0.0",
      "model_name": "HTMLModel",
      "state": {
       "layout": "IPY_MODEL_4f657f05526d463a83d8bfc2fcdb2ee3",
       "style": "IPY_MODEL_035e459c74e14996b399a8e7d6870ac7",
       "value": " 94/94 [00:00&lt;00:00, 180.99it/s]"
      }
     },
     "deaf7d20cdc845c4b1230bccc070917d": {
      "model_module": "@jupyter-widgets/controls",
      "model_module_version": "2.0.0",
      "model_name": "ProgressStyleModel",
      "state": {
       "description_width": ""
      }
     },
     "df50bf4e3f104969ab0cdc8ca9f38026": {
      "model_module": "@jupyter-widgets/base",
      "model_module_version": "2.0.0",
      "model_name": "LayoutModel",
      "state": {
       "flex": "2"
      }
     },
     "df62e630045042dc82afdf3a3ce6c3eb": {
      "model_module": "@jupyter-widgets/controls",
      "model_module_version": "2.0.0",
      "model_name": "FloatProgressModel",
      "state": {
       "layout": "IPY_MODEL_af7f73a1801945ceaf2afb335518baf4",
       "max": 94,
       "style": "IPY_MODEL_6ba671233f5f41feb797927c758e98f6",
       "value": 94
      }
     },
     "e0c1bad35f554c5099cf281921e25f9c": {
      "model_module": "@jupyter-widgets/base",
      "model_module_version": "2.0.0",
      "model_name": "LayoutModel",
      "state": {
       "display": "inline-flex",
       "flex_flow": "row wrap",
       "visibility": "hidden",
       "width": "100%"
      }
     },
     "e1090baa43aa4bf3bbe92c94a6bf2c17": {
      "model_module": "@jupyter-widgets/controls",
      "model_module_version": "2.0.0",
      "model_name": "HTMLStyleModel",
      "state": {
       "description_width": "",
       "font_size": null,
       "text_color": null
      }
     },
     "e160df418d03432f8f89f0799d26f07c": {
      "model_module": "@jupyter-widgets/controls",
      "model_module_version": "2.0.0",
      "model_name": "FloatProgressModel",
      "state": {
       "layout": "IPY_MODEL_0e8287d76664492ab2b5285b3311cfdd",
       "max": 94,
       "style": "IPY_MODEL_8ca190ea3cfd4c1fa355c323d8ed3a06",
       "value": 94
      }
     },
     "e2cde202bc5140ca8994c795652524d6": {
      "model_module": "@jupyter-widgets/base",
      "model_module_version": "2.0.0",
      "model_name": "LayoutModel",
      "state": {
       "flex": "2"
      }
     },
     "e2eeb2384f0f4817a4f2a7911e33d7f4": {
      "model_module": "@jupyter-widgets/controls",
      "model_module_version": "2.0.0",
      "model_name": "ProgressStyleModel",
      "state": {
       "description_width": ""
      }
     },
     "e34d552088f042d6b64d81b937b8d216": {
      "model_module": "@jupyter-widgets/base",
      "model_module_version": "2.0.0",
      "model_name": "LayoutModel",
      "state": {
       "flex": "2"
      }
     },
     "e430053c93724ef3bfc917151331d82d": {
      "model_module": "@jupyter-widgets/controls",
      "model_module_version": "2.0.0",
      "model_name": "HTMLStyleModel",
      "state": {
       "description_width": "",
       "font_size": null,
       "text_color": null
      }
     },
     "e48a65ed568c4b46b05ce2efe800c0a2": {
      "model_module": "@jupyter-widgets/base",
      "model_module_version": "2.0.0",
      "model_name": "LayoutModel",
      "state": {}
     },
     "e56464efe7974aa2b3e6404d34e45d66": {
      "model_module": "@jupyter-widgets/base",
      "model_module_version": "2.0.0",
      "model_name": "LayoutModel",
      "state": {
       "display": "inline-flex",
       "flex_flow": "row wrap",
       "visibility": "hidden",
       "width": "100%"
      }
     },
     "e5914693ea824cdf92d4425f337dd81e": {
      "model_module": "@jupyter-widgets/controls",
      "model_module_version": "2.0.0",
      "model_name": "HTMLStyleModel",
      "state": {
       "description_width": "",
       "font_size": null,
       "text_color": null
      }
     },
     "e6712a86a2ef4b228adca698a57a40c9": {
      "model_module": "@jupyter-widgets/controls",
      "model_module_version": "2.0.0",
      "model_name": "HTMLModel",
      "state": {
       "layout": "IPY_MODEL_a454adc1ac684c7c9127f01b614314aa",
       "style": "IPY_MODEL_10d61ba0075e49fdb28612c965886cef",
       "value": " 94/94 [00:00&lt;00:00, 203.88it/s]"
      }
     },
     "e68e060041a04a8bb7a08a28517b8c7b": {
      "model_module": "@jupyter-widgets/controls",
      "model_module_version": "2.0.0",
      "model_name": "HTMLModel",
      "state": {
       "layout": "IPY_MODEL_9c346dee50ea41bcba638bf26f575c32",
       "style": "IPY_MODEL_003c09153fd14b2eb520d19a575e7d6e",
       "value": "Finding best initial lr:  91%"
      }
     },
     "e6ea068e3b2e47b0b9d0a61589ca10c2": {
      "model_module": "@jupyter-widgets/base",
      "model_module_version": "2.0.0",
      "model_name": "LayoutModel",
      "state": {
       "display": "inline-flex",
       "flex_flow": "row wrap",
       "width": "100%"
      }
     },
     "e6ef0fb86a014830a93cb2a7d47c2c0e": {
      "model_module": "@jupyter-widgets/base",
      "model_module_version": "2.0.0",
      "model_name": "LayoutModel",
      "state": {}
     },
     "e707271a32084d00b27b0cb3e0298696": {
      "model_module": "@jupyter-widgets/base",
      "model_module_version": "2.0.0",
      "model_name": "LayoutModel",
      "state": {
       "flex": "2"
      }
     },
     "e7399afb48c0423eaf8aa8ea53744c5a": {
      "model_module": "@jupyter-widgets/controls",
      "model_module_version": "2.0.0",
      "model_name": "ProgressStyleModel",
      "state": {
       "description_width": ""
      }
     },
     "e84e880abf014e7b8f477302d99c3236": {
      "model_module": "@jupyter-widgets/base",
      "model_module_version": "2.0.0",
      "model_name": "LayoutModel",
      "state": {}
     },
     "e8cf6dd827c542a58ce0ecb2c0efa764": {
      "model_module": "@jupyter-widgets/base",
      "model_module_version": "2.0.0",
      "model_name": "LayoutModel",
      "state": {}
     },
     "e906ba35d45347bb88521a7c26224a21": {
      "model_module": "@jupyter-widgets/base",
      "model_module_version": "2.0.0",
      "model_name": "LayoutModel",
      "state": {
       "flex": "2"
      }
     },
     "e9aa58dce9454a79bf55e54e007d820e": {
      "model_module": "@jupyter-widgets/base",
      "model_module_version": "2.0.0",
      "model_name": "LayoutModel",
      "state": {}
     },
     "ea5e629a33ab47b1bc4d027e1ec7c697": {
      "model_module": "@jupyter-widgets/base",
      "model_module_version": "2.0.0",
      "model_name": "LayoutModel",
      "state": {}
     },
     "ea881e67472244e0b137730ca59e130e": {
      "model_module": "@jupyter-widgets/base",
      "model_module_version": "2.0.0",
      "model_name": "LayoutModel",
      "state": {}
     },
     "eb5889fd360744e88545563716c8283f": {
      "model_module": "@jupyter-widgets/controls",
      "model_module_version": "2.0.0",
      "model_name": "HTMLModel",
      "state": {
       "layout": "IPY_MODEL_e8cf6dd827c542a58ce0ecb2c0efa764",
       "style": "IPY_MODEL_f1f3210f2046474bba506ca60e003786",
       "value": " 94/94 [00:00&lt;00:00, 131.85it/s]"
      }
     },
     "eb8bdba235cd43f4a8c71fac8ee817b3": {
      "model_module": "@jupyter-widgets/controls",
      "model_module_version": "2.0.0",
      "model_name": "HTMLModel",
      "state": {
       "layout": "IPY_MODEL_8f0530cc61f340c19f85b284387c431f",
       "style": "IPY_MODEL_e430053c93724ef3bfc917151331d82d",
       "value": " 94/94 [00:00&lt;00:00, 245.67it/s]"
      }
     },
     "ebc68b552d6146e69942ad05b7cda02e": {
      "model_module": "@jupyter-widgets/controls",
      "model_module_version": "2.0.0",
      "model_name": "HTMLModel",
      "state": {
       "layout": "IPY_MODEL_76db9992b89849f28206f471df032009",
       "style": "IPY_MODEL_5e98103be581413d8b8a7e1500551500",
       "value": "Validation DataLoader 0: 100%"
      }
     },
     "ebf08413fc124091815bb374c1a7b4bc": {
      "model_module": "@jupyter-widgets/base",
      "model_module_version": "2.0.0",
      "model_name": "LayoutModel",
      "state": {
       "display": "inline-flex",
       "flex_flow": "row wrap",
       "width": "100%"
      }
     },
     "ec117bf080784d73bc991b4cc0ab177e": {
      "model_module": "@jupyter-widgets/base",
      "model_module_version": "2.0.0",
      "model_name": "LayoutModel",
      "state": {}
     },
     "ec3a5a6664c540e8b177c14a35fa6bf4": {
      "model_module": "@jupyter-widgets/base",
      "model_module_version": "2.0.0",
      "model_name": "LayoutModel",
      "state": {}
     },
     "ec95edb749cb487eb138db2ccd445b87": {
      "model_module": "@jupyter-widgets/base",
      "model_module_version": "2.0.0",
      "model_name": "LayoutModel",
      "state": {}
     },
     "eca037865c66436eb4a342752854ee48": {
      "model_module": "@jupyter-widgets/base",
      "model_module_version": "2.0.0",
      "model_name": "LayoutModel",
      "state": {
       "display": "inline-flex",
       "flex_flow": "row wrap",
       "visibility": "hidden",
       "width": "100%"
      }
     },
     "ecd540a64497440898c3092783edae6a": {
      "model_module": "@jupyter-widgets/base",
      "model_module_version": "2.0.0",
      "model_name": "LayoutModel",
      "state": {
       "display": "inline-flex",
       "flex_flow": "row wrap",
       "visibility": "hidden",
       "width": "100%"
      }
     },
     "ece540d2e57a4599a4dfd0ac87d84a64": {
      "model_module": "@jupyter-widgets/controls",
      "model_module_version": "2.0.0",
      "model_name": "HTMLModel",
      "state": {
       "layout": "IPY_MODEL_ed17cde6cea5446b9cad6711332de332",
       "style": "IPY_MODEL_dc24bbc234f7405d88cab232c4cf8e99",
       "value": " 94/94 [00:00&lt;00:00, 165.52it/s]"
      }
     },
     "ecf0e7a8df1447b6acf9de86c886be4e": {
      "model_module": "@jupyter-widgets/controls",
      "model_module_version": "2.0.0",
      "model_name": "HTMLModel",
      "state": {
       "layout": "IPY_MODEL_d1f4918738354b6fbbeabd2a998d11c0",
       "style": "IPY_MODEL_cab05865b9104cb2816a72ae484896ad",
       "value": " 94/94 [00:00&lt;00:00, 195.72it/s]"
      }
     },
     "ed17cde6cea5446b9cad6711332de332": {
      "model_module": "@jupyter-widgets/base",
      "model_module_version": "2.0.0",
      "model_name": "LayoutModel",
      "state": {}
     },
     "ed7b9c032fce47ed990236d87290bef0": {
      "model_module": "@jupyter-widgets/controls",
      "model_module_version": "2.0.0",
      "model_name": "HTMLStyleModel",
      "state": {
       "description_width": "",
       "font_size": null,
       "text_color": null
      }
     },
     "edcaa852773d4f97b6baaa71c6585112": {
      "model_module": "@jupyter-widgets/base",
      "model_module_version": "2.0.0",
      "model_name": "LayoutModel",
      "state": {}
     },
     "edfb33285b7a40ed8d817937b704ec9f": {
      "model_module": "@jupyter-widgets/base",
      "model_module_version": "2.0.0",
      "model_name": "LayoutModel",
      "state": {
       "flex": "2"
      }
     },
     "ee75c266563547d3942719cceb60ee1a": {
      "model_module": "@jupyter-widgets/base",
      "model_module_version": "2.0.0",
      "model_name": "LayoutModel",
      "state": {}
     },
     "eebfe1ae617440dda5568f79a7137957": {
      "model_module": "@jupyter-widgets/base",
      "model_module_version": "2.0.0",
      "model_name": "LayoutModel",
      "state": {
       "display": "inline-flex",
       "flex_flow": "row wrap",
       "visibility": "hidden",
       "width": "100%"
      }
     },
     "eed4c47333fe492da62ee9935bb4fd96": {
      "model_module": "@jupyter-widgets/base",
      "model_module_version": "2.0.0",
      "model_name": "LayoutModel",
      "state": {
       "flex": "2"
      }
     },
     "eeff265bb80b49758bb519e77390205c": {
      "model_module": "@jupyter-widgets/controls",
      "model_module_version": "2.0.0",
      "model_name": "HTMLStyleModel",
      "state": {
       "description_width": "",
       "font_size": null,
       "text_color": null
      }
     },
     "f004485884c24700b0f74556b28c7ac4": {
      "model_module": "@jupyter-widgets/controls",
      "model_module_version": "2.0.0",
      "model_name": "HTMLModel",
      "state": {
       "layout": "IPY_MODEL_0caa281bcfdd4858b8d5e49c5895cfef",
       "style": "IPY_MODEL_3ed423912c734c74a821807c3864d688",
       "value": " 94/94 [00:00&lt;00:00, 180.03it/s]"
      }
     },
     "f0856058dbcd460fb0603e998df4c74e": {
      "model_module": "@jupyter-widgets/controls",
      "model_module_version": "2.0.0",
      "model_name": "ProgressStyleModel",
      "state": {
       "description_width": ""
      }
     },
     "f0a16239edd149938fdd3f9aaef9fc21": {
      "model_module": "@jupyter-widgets/controls",
      "model_module_version": "2.0.0",
      "model_name": "HTMLStyleModel",
      "state": {
       "description_width": "",
       "font_size": null,
       "text_color": null
      }
     },
     "f0bbc0f8a69d4251aeaab78d92d7ca43": {
      "model_module": "@jupyter-widgets/base",
      "model_module_version": "2.0.0",
      "model_name": "LayoutModel",
      "state": {}
     },
     "f1237150c7064b84912dfcd2b42d3086": {
      "model_module": "@jupyter-widgets/controls",
      "model_module_version": "2.0.0",
      "model_name": "HTMLStyleModel",
      "state": {
       "description_width": "",
       "font_size": null,
       "text_color": null
      }
     },
     "f135d61dc7f542ada5e934335c35ef8b": {
      "model_module": "@jupyter-widgets/controls",
      "model_module_version": "2.0.0",
      "model_name": "ProgressStyleModel",
      "state": {
       "description_width": ""
      }
     },
     "f13d7d77231e47eb98396e4adf6b1866": {
      "model_module": "@jupyter-widgets/controls",
      "model_module_version": "2.0.0",
      "model_name": "HTMLStyleModel",
      "state": {
       "description_width": "",
       "font_size": null,
       "text_color": null
      }
     },
     "f13fb38f64be4b6981d42375633fc8d6": {
      "model_module": "@jupyter-widgets/base",
      "model_module_version": "2.0.0",
      "model_name": "LayoutModel",
      "state": {
       "display": "inline-flex",
       "flex_flow": "row wrap",
       "visibility": "hidden",
       "width": "100%"
      }
     },
     "f14a2d4d965a49e9bfee4f4cb6ba7131": {
      "model_module": "@jupyter-widgets/controls",
      "model_module_version": "2.0.0",
      "model_name": "HTMLStyleModel",
      "state": {
       "description_width": "",
       "font_size": null,
       "text_color": null
      }
     },
     "f1f3210f2046474bba506ca60e003786": {
      "model_module": "@jupyter-widgets/controls",
      "model_module_version": "2.0.0",
      "model_name": "HTMLStyleModel",
      "state": {
       "description_width": "",
       "font_size": null,
       "text_color": null
      }
     },
     "f2cce7e2957544ad8c4ca014d23363ea": {
      "model_module": "@jupyter-widgets/controls",
      "model_module_version": "2.0.0",
      "model_name": "HTMLModel",
      "state": {
       "layout": "IPY_MODEL_91c2e5a7e2fd49d39622fcf7de105f52",
       "style": "IPY_MODEL_1827867dd9614620a3577c62456a55cb",
       "value": " 94/94 [00:00&lt;00:00, 178.77it/s]"
      }
     },
     "f370d31a75954279b70be707511c3a30": {
      "model_module": "@jupyter-widgets/controls",
      "model_module_version": "2.0.0",
      "model_name": "ProgressStyleModel",
      "state": {
       "description_width": ""
      }
     },
     "f376343be1fd4efdbfabadcbeacbd25f": {
      "model_module": "@jupyter-widgets/controls",
      "model_module_version": "2.0.0",
      "model_name": "HTMLStyleModel",
      "state": {
       "description_width": "",
       "font_size": null,
       "text_color": null
      }
     },
     "f3b0ded07001425a80e1a0e4d0a6927a": {
      "model_module": "@jupyter-widgets/controls",
      "model_module_version": "2.0.0",
      "model_name": "HTMLStyleModel",
      "state": {
       "description_width": "",
       "font_size": null,
       "text_color": null
      }
     },
     "f3bef771d13f451781fc243485e6303f": {
      "model_module": "@jupyter-widgets/controls",
      "model_module_version": "2.0.0",
      "model_name": "FloatProgressModel",
      "state": {
       "layout": "IPY_MODEL_4b078f75887b4e5590542cecf20fe34a",
       "max": 94,
       "style": "IPY_MODEL_0c3966f6c679427891e22c2de56e4338",
       "value": 94
      }
     },
     "f3c9d5536f0b4c2ea0016cb8f1373ddc": {
      "model_module": "@jupyter-widgets/controls",
      "model_module_version": "2.0.0",
      "model_name": "ProgressStyleModel",
      "state": {
       "description_width": ""
      }
     },
     "f3f580e13c6e4474b8081b32c9e817eb": {
      "model_module": "@jupyter-widgets/controls",
      "model_module_version": "2.0.0",
      "model_name": "FloatProgressModel",
      "state": {
       "layout": "IPY_MODEL_edfb33285b7a40ed8d817937b704ec9f",
       "max": 94,
       "style": "IPY_MODEL_b664454e96f44da79c6a6adace7b201b",
       "value": 94
      }
     },
     "f41973478ffb443c98d9abf1dc8439f9": {
      "model_module": "@jupyter-widgets/controls",
      "model_module_version": "2.0.0",
      "model_name": "ProgressStyleModel",
      "state": {
       "description_width": ""
      }
     },
     "f467efd1e1124203a43e1ecc9acfc431": {
      "model_module": "@jupyter-widgets/base",
      "model_module_version": "2.0.0",
      "model_name": "LayoutModel",
      "state": {}
     },
     "f4d7c2c4d4a24b37b05dd2c72a07c5c2": {
      "model_module": "@jupyter-widgets/controls",
      "model_module_version": "2.0.0",
      "model_name": "HTMLStyleModel",
      "state": {
       "description_width": "",
       "font_size": null,
       "text_color": null
      }
     },
     "f5f7f8a0ae994183b820e392c2b8e495": {
      "model_module": "@jupyter-widgets/controls",
      "model_module_version": "2.0.0",
      "model_name": "HTMLModel",
      "state": {
       "layout": "IPY_MODEL_c20dbd6ad49449debe038245dda0df43",
       "style": "IPY_MODEL_da155c8a33944002a886f56cd6f0bd91",
       "value": " 94/94 [00:00&lt;00:00, 142.65it/s]"
      }
     },
     "f5ffc87fbade46cd83250b0d33bd3a5e": {
      "model_module": "@jupyter-widgets/controls",
      "model_module_version": "2.0.0",
      "model_name": "ProgressStyleModel",
      "state": {
       "description_width": ""
      }
     },
     "f63b16a78a6c4da18cdce4a4d54c05b4": {
      "model_module": "@jupyter-widgets/base",
      "model_module_version": "2.0.0",
      "model_name": "LayoutModel",
      "state": {}
     },
     "f6c60d83eb3443f1953492fa2c7ab951": {
      "model_module": "@jupyter-widgets/base",
      "model_module_version": "2.0.0",
      "model_name": "LayoutModel",
      "state": {}
     },
     "f78163aec4b9459cab282d008c49cb08": {
      "model_module": "@jupyter-widgets/controls",
      "model_module_version": "2.0.0",
      "model_name": "ProgressStyleModel",
      "state": {
       "description_width": ""
      }
     },
     "f78e70f94f7b400c8707748661b07892": {
      "model_module": "@jupyter-widgets/base",
      "model_module_version": "2.0.0",
      "model_name": "LayoutModel",
      "state": {
       "flex": "2"
      }
     },
     "f7a08825fa5a48508615d5bbd033f3d7": {
      "model_module": "@jupyter-widgets/controls",
      "model_module_version": "2.0.0",
      "model_name": "HTMLStyleModel",
      "state": {
       "description_width": "",
       "font_size": null,
       "text_color": null
      }
     },
     "f7fbb65fdebb4fc7a079163cfa691433": {
      "model_module": "@jupyter-widgets/controls",
      "model_module_version": "2.0.0",
      "model_name": "HTMLModel",
      "state": {
       "layout": "IPY_MODEL_37bc7e7e90154fcc91d6862791c5d582",
       "style": "IPY_MODEL_24c95b12babd4415b5896a084a0ff685",
       "value": "Validation DataLoader 0: 100%"
      }
     },
     "f86f4528dfe34f21abc29d7475dfc011": {
      "model_module": "@jupyter-widgets/base",
      "model_module_version": "2.0.0",
      "model_name": "LayoutModel",
      "state": {}
     },
     "f90c02f957254e2abeea223baf5163e7": {
      "model_module": "@jupyter-widgets/controls",
      "model_module_version": "2.0.0",
      "model_name": "FloatProgressModel",
      "state": {
       "bar_style": "success",
       "layout": "IPY_MODEL_dcebfe349136486791befacc518f428c",
       "max": 375,
       "style": "IPY_MODEL_f41973478ffb443c98d9abf1dc8439f9",
       "value": 375
      }
     },
     "f936ba66481646c599ade42394119edb": {
      "model_module": "@jupyter-widgets/base",
      "model_module_version": "2.0.0",
      "model_name": "LayoutModel",
      "state": {}
     },
     "f98ee86781c248a7a6a5b71fabf59a34": {
      "model_module": "@jupyter-widgets/controls",
      "model_module_version": "2.0.0",
      "model_name": "ProgressStyleModel",
      "state": {
       "description_width": ""
      }
     },
     "f9e4c14ba4814506bccf67415df92edc": {
      "model_module": "@jupyter-widgets/controls",
      "model_module_version": "2.0.0",
      "model_name": "ProgressStyleModel",
      "state": {
       "description_width": ""
      }
     },
     "f9fb7a6e5b4146dab57c3d7dea8943ef": {
      "model_module": "@jupyter-widgets/base",
      "model_module_version": "2.0.0",
      "model_name": "LayoutModel",
      "state": {
       "flex": "2"
      }
     },
     "fa1927f2d59f49b9ac373bdba378ea7b": {
      "model_module": "@jupyter-widgets/base",
      "model_module_version": "2.0.0",
      "model_name": "LayoutModel",
      "state": {
       "flex": "2"
      }
     },
     "fa7b5c9efa28491bb3f2bba562efd9d2": {
      "model_module": "@jupyter-widgets/controls",
      "model_module_version": "2.0.0",
      "model_name": "HTMLStyleModel",
      "state": {
       "description_width": "",
       "font_size": null,
       "text_color": null
      }
     },
     "fb0ef7cae21a4ce6bbad7bf5a9da238c": {
      "model_module": "@jupyter-widgets/controls",
      "model_module_version": "2.0.0",
      "model_name": "HTMLModel",
      "state": {
       "layout": "IPY_MODEL_8fd07deea4d24092a8e6927fc4d55c4f",
       "style": "IPY_MODEL_59fafdc4a0724f34853d6069996d3951",
       "value": "Validation DataLoader 0: 100%"
      }
     },
     "fb2a8423ab934347a34849e3223b028d": {
      "model_module": "@jupyter-widgets/base",
      "model_module_version": "2.0.0",
      "model_name": "LayoutModel",
      "state": {
       "flex": "2"
      }
     },
     "fb5b1c7df16549939b361648764efbe7": {
      "model_module": "@jupyter-widgets/base",
      "model_module_version": "2.0.0",
      "model_name": "LayoutModel",
      "state": {
       "flex": "2"
      }
     },
     "fb61e7d115fd467488e13643cb323e00": {
      "model_module": "@jupyter-widgets/controls",
      "model_module_version": "2.0.0",
      "model_name": "ProgressStyleModel",
      "state": {
       "description_width": ""
      }
     },
     "fd006f3094944e4c800be70963bad273": {
      "model_module": "@jupyter-widgets/base",
      "model_module_version": "2.0.0",
      "model_name": "LayoutModel",
      "state": {}
     },
     "fd4b5b7df36b46b9bfe2eb6e8bb03aa7": {
      "model_module": "@jupyter-widgets/controls",
      "model_module_version": "2.0.0",
      "model_name": "HTMLModel",
      "state": {
       "layout": "IPY_MODEL_88d60257b8bf4b5f8193a883c6c21b50",
       "style": "IPY_MODEL_508f815321ed40d88aa437c6ad9a8fb7",
       "value": "Validation DataLoader 0: 100%"
      }
     },
     "fd638386970b49e9a65d8414a332d40d": {
      "model_module": "@jupyter-widgets/controls",
      "model_module_version": "2.0.0",
      "model_name": "FloatProgressModel",
      "state": {
       "layout": "IPY_MODEL_66fe7196ba0946a585a5ac9f538b79a3",
       "max": 94,
       "style": "IPY_MODEL_5de9528853a944c2a1fd00848c07573d",
       "value": 94
      }
     },
     "fd71f74b3611462896607ac0b52908d9": {
      "model_module": "@jupyter-widgets/controls",
      "model_module_version": "2.0.0",
      "model_name": "ProgressStyleModel",
      "state": {
       "description_width": ""
      }
     },
     "fd7cf4ad31404d52b281650896f4c21f": {
      "model_module": "@jupyter-widgets/base",
      "model_module_version": "2.0.0",
      "model_name": "LayoutModel",
      "state": {}
     },
     "fd816e14f11f43748c06c928c995f73e": {
      "model_module": "@jupyter-widgets/controls",
      "model_module_version": "2.0.0",
      "model_name": "HTMLModel",
      "state": {
       "layout": "IPY_MODEL_ee75c266563547d3942719cceb60ee1a",
       "style": "IPY_MODEL_de079a4d6aa845c4a3c2cff6de316b7d",
       "value": "Validation DataLoader 0: 100%"
      }
     },
     "fd9a5d0d1eb143afa5f2020bc3856d00": {
      "model_module": "@jupyter-widgets/base",
      "model_module_version": "2.0.0",
      "model_name": "LayoutModel",
      "state": {
       "display": "inline-flex",
       "flex_flow": "row wrap",
       "visibility": "hidden",
       "width": "100%"
      }
     },
     "fdc6b21839c243f0b5e4806c06fa7c78": {
      "model_module": "@jupyter-widgets/controls",
      "model_module_version": "2.0.0",
      "model_name": "HTMLStyleModel",
      "state": {
       "description_width": "",
       "font_size": null,
       "text_color": null
      }
     },
     "fe311ca66b5e492491b537a92d0bc2fd": {
      "model_module": "@jupyter-widgets/controls",
      "model_module_version": "2.0.0",
      "model_name": "ProgressStyleModel",
      "state": {
       "description_width": ""
      }
     },
     "fe951347f59043308bde9922f39382b3": {
      "model_module": "@jupyter-widgets/base",
      "model_module_version": "2.0.0",
      "model_name": "LayoutModel",
      "state": {}
     },
     "fecf7161276241a886ef36c4cab2607e": {
      "model_module": "@jupyter-widgets/controls",
      "model_module_version": "2.0.0",
      "model_name": "HTMLModel",
      "state": {
       "layout": "IPY_MODEL_9dea66b5ad7b4ad298ecb2d263e1707c",
       "style": "IPY_MODEL_88391dca0ea04cf79ec3aa77efaef98e",
       "value": "Validation DataLoader 0: 100%"
      }
     },
     "ff0aef0f607c4a3d81b0cf329e6a6df4": {
      "model_module": "@jupyter-widgets/controls",
      "model_module_version": "2.0.0",
      "model_name": "HTMLStyleModel",
      "state": {
       "description_width": "",
       "font_size": null,
       "text_color": null
      }
     },
     "ff56d08f532343b5a58b76e94e56a6b5": {
      "model_module": "@jupyter-widgets/controls",
      "model_module_version": "2.0.0",
      "model_name": "HTMLModel",
      "state": {
       "layout": "IPY_MODEL_4571da0feca64ea0a8520790e933a503",
       "style": "IPY_MODEL_9c70e14500824996acaaeae1ac72612f",
       "value": " 94/94 [00:00&lt;00:00, 145.74it/s]"
      }
     },
     "ff8fb7bcd3bf493cba08bde092538828": {
      "model_module": "@jupyter-widgets/base",
      "model_module_version": "2.0.0",
      "model_name": "LayoutModel",
      "state": {}
     }
    },
    "version_major": 2,
    "version_minor": 0
   }
  }
 },
 "nbformat": 4,
 "nbformat_minor": 5
}
